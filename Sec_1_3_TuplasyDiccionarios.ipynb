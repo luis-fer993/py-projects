{
  "nbformat": 4,
  "nbformat_minor": 0,
  "metadata": {
    "colab": {
      "name": "Copia de Sec.1.3-TuplasyDiccionarios_G-168.ipynb",
      "provenance": [],
      "collapsed_sections": [
        "bGkJOWwriy2Z",
        "Al9GEKCxl668",
        "_GjSZyqFmnlb",
        "mB8J5tjQxhee",
        "SxigKzG2wMmj",
        "sOsonQi7yW4J",
        "YtvvzW8w7pZG",
        "XJHPLWOz-9hP",
        "o9HiFrNtXrgk",
        "Zlu5Me4c9ZSz"
      ],
      "include_colab_link": true
    },
    "kernelspec": {
      "name": "python3",
      "display_name": "Python 3"
    },
    "language_info": {
      "name": "python"
    }
  },
  "cells": [
    {
      "cell_type": "markdown",
      "metadata": {
        "id": "view-in-github",
        "colab_type": "text"
      },
      "source": [
        "<a href=\"https://colab.research.google.com/github/luis-fer993/py-projects/blob/main/Sec_1_3_TuplasyDiccionarios.ipynb\" target=\"_parent\"><img src=\"https://colab.research.google.com/assets/colab-badge.svg\" alt=\"Open In Colab\"/></a>"
      ]
    },
    {
      "cell_type": "markdown",
      "metadata": {
        "id": "syJjgc5vIv6Y"
      },
      "source": [
        "![Sin título.png](data:image/png;base64,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)<br>\n",
        "**Formador: Ayda Andrea Franco Villamil**<br>**Sección 1.3**<br> **3 de Septiembre 2021**"
      ]
    },
    {
      "cell_type": "markdown",
      "metadata": {
        "id": "AIOdnoKhoUlI"
      },
      "source": [
        "#**Tuplas**<br>\n",
        "Una tupla es una secuencias ordenadas de objetos de distintos tipos.<br>\n",
        "\n",
        "Se construyen poniendo los elementos entre corchetes ( ) separados por comas.<br>\n",
        "<br>\n",
        "Se caracterizan por:<br>\n",
        "\n",
        "Tienen orden.<br>\n",
        "Pueden contener elementos de distintos tipos.<br>\n",
        "Son inmutables, es decir, no pueden alterarse durante la ejecución de un programa.<br>\n",
        "Se usan habitualmente para representar colecciones de datos una determinada estructura semántica, como por ejemplo un vector o una matriz.\n",
        "\n"
      ]
    },
    {
      "cell_type": "code",
      "metadata": {
        "id": "XtYWMVahpDyc"
      },
      "source": [
        "# Tupla vacía\n",
        "type(())\n",
        "<class 'tuple'>\n",
        "# Tupla con elementos de distintos tipos\n",
        "(1, \"dos\", True)\n",
        "# Vector\n",
        "(1, 2, 3)\n",
        "# Matriz\n",
        "((1, 2, 3), (4, 5, 6))"
      ],
      "execution_count": null,
      "outputs": []
    },
    {
      "cell_type": "markdown",
      "metadata": {
        "id": "fFfvhkbNpL8M"
      },
      "source": [
        "##**Creación de tuplas mediante la función tuple()**\n",
        "Otra forma de crear tuplas es mediante la función tuple().\n",
        "\n",
        "tuple(c) : Crea una tupla con los elementos de la secuencia o colección c.<br>\n",
        "Se pueden indicar los elementos separados por comas, mediante una cadena, o mediante una colección de elementos iterable.\n",
        "\n"
      ]
    },
    {
      "cell_type": "code",
      "metadata": {
        "id": "m_vbKkpJtRdN",
        "colab": {
          "base_uri": "https://localhost:8080/"
        },
        "outputId": "59e9599e-0623-4ee9-8ca8-cc9e3426f874"
      },
      "source": [
        "tuple(\"Python\")"
      ],
      "execution_count": null,
      "outputs": [
        {
          "output_type": "execute_result",
          "data": {
            "text/plain": [
              "('P', 'y', 't', 'h', 'o', 'n')"
            ]
          },
          "metadata": {},
          "execution_count": 2
        }
      ]
    },
    {
      "cell_type": "markdown",
      "metadata": {
        "id": "7C8RRQdrZN5E"
      },
      "source": [
        "#Creación de tuplas\n",
        "## Tuplas vacias\n"
      ]
    },
    {
      "cell_type": "code",
      "metadata": {
        "id": "5qRo7ULowJME",
        "colab": {
          "base_uri": "https://localhost:8080/"
        },
        "outputId": "97778d5b-b6b4-4e53-ab8b-eed93b02aec6"
      },
      "source": [
        "tupla1=()\n",
        "print(type(tupla1))"
      ],
      "execution_count": null,
      "outputs": [
        {
          "output_type": "stream",
          "name": "stdout",
          "text": [
            "<class 'tuple'>\n"
          ]
        }
      ]
    },
    {
      "cell_type": "code",
      "metadata": {
        "colab": {
          "base_uri": "https://localhost:8080/"
        },
        "id": "VQXJKrl87KwT",
        "outputId": "f4249be5-5af8-484e-a569-4128826462ef"
      },
      "source": [
        "tupla2=tuple()\n",
        "print(type(tupla2))"
      ],
      "execution_count": null,
      "outputs": [
        {
          "output_type": "stream",
          "name": "stdout",
          "text": [
            "<class 'tuple'>\n"
          ]
        }
      ]
    },
    {
      "cell_type": "markdown",
      "metadata": {
        "id": "isQ8y_ZfcuQy"
      },
      "source": [
        "## Creación con elementos\n"
      ]
    },
    {
      "cell_type": "code",
      "metadata": {
        "id": "pAbhhJKawLUV",
        "colab": {
          "base_uri": "https://localhost:8080/"
        },
        "outputId": "87ab010d-317b-413d-8c39-bdb3fe7bbb5e"
      },
      "source": [
        "circu1=3,-4,5.6,\"Azul\"\n",
        "print(type(circu1))\n",
        "print(circu1)"
      ],
      "execution_count": null,
      "outputs": [
        {
          "output_type": "stream",
          "name": "stdout",
          "text": [
            "<class 'tuple'>\n",
            "(3, -4, 5.6, 'Azul')\n"
          ]
        }
      ]
    },
    {
      "cell_type": "code",
      "metadata": {
        "colab": {
          "base_uri": "https://localhost:8080/"
        },
        "id": "lk1Ggo1u7yus",
        "outputId": "7b842ba5-2825-4b0c-b5cd-3553c7451b37"
      },
      "source": [
        "circu2=(5,8,False,\"Hola\")\n",
        "print(type(circu2))\n",
        "print(circu2)"
      ],
      "execution_count": null,
      "outputs": [
        {
          "output_type": "stream",
          "name": "stdout",
          "text": [
            "<class 'tuple'>\n",
            "(5, 8, False, 'Hola')\n"
          ]
        }
      ]
    },
    {
      "cell_type": "code",
      "metadata": {
        "colab": {
          "base_uri": "https://localhost:8080/"
        },
        "id": "Cb7w4s_H8hGT",
        "outputId": "884d2d55-ecd0-4cac-eb50-dd4575cc24ee"
      },
      "source": [
        "circu3=tuple((6,8,-6,0))\n",
        "print(type(circu3))\n",
        "print(circu3)"
      ],
      "execution_count": null,
      "outputs": [
        {
          "output_type": "stream",
          "name": "stdout",
          "text": [
            "<class 'tuple'>\n",
            "(6, 8, -6, 0)\n"
          ]
        }
      ]
    },
    {
      "cell_type": "markdown",
      "metadata": {
        "id": "ntlXyq3wd-PV"
      },
      "source": [
        "## Tupla unitaria"
      ]
    },
    {
      "cell_type": "code",
      "metadata": {
        "colab": {
          "base_uri": "https://localhost:8080/"
        },
        "id": "K1KTTqZZ7pv2",
        "outputId": "185e7d83-32d3-4d22-f820-52ea57e5667b"
      },
      "source": [
        "tupla=(9,)\n",
        "print(type(tupla))\n",
        "print(tupla)"
      ],
      "execution_count": null,
      "outputs": [
        {
          "output_type": "stream",
          "name": "stdout",
          "text": [
            "<class 'tuple'>\n",
            "(9,)\n"
          ]
        }
      ]
    },
    {
      "cell_type": "code",
      "metadata": {
        "id": "oBCWJbo6wemm"
      },
      "source": [
        ""
      ],
      "execution_count": null,
      "outputs": []
    },
    {
      "cell_type": "markdown",
      "metadata": {
        "id": "r_c5zdMeiMWs"
      },
      "source": [
        "## Acceso a los elementos de la tupla"
      ]
    },
    {
      "cell_type": "code",
      "metadata": {
        "id": "esDwGoZLwnoP"
      },
      "source": [
        "circulo3=tuple((3,-7,9.5,\"rojo\",True))\n",
        "print(circulo3[3])\n",
        "print(circulo3[-1])\n",
        "print(circulo3[0:3])"
      ],
      "execution_count": null,
      "outputs": []
    },
    {
      "cell_type": "markdown",
      "metadata": {
        "id": "p4HRry9Zi2bN"
      },
      "source": [
        "## Tamaño de la tupla"
      ]
    },
    {
      "cell_type": "code",
      "metadata": {
        "id": "F2bEwD81xZkb"
      },
      "source": [
        "len(circulo3)\n",
        "print(len(circulo3))\n",
        "print(circulo3)"
      ],
      "execution_count": null,
      "outputs": []
    },
    {
      "cell_type": "markdown",
      "metadata": {
        "id": "1piFTdigjKcd"
      },
      "source": [
        "## Desempaquetado de tuplas\n"
      ]
    },
    {
      "cell_type": "code",
      "metadata": {
        "id": "LQUssNn2yK-e"
      },
      "source": [
        "circulo4=tuple((3,-7,9.5,\"rojo\",True))\n",
        "n1,n2,n3,color,bole=circulo4\n",
        "print(n1,n2,n3,color,bole)"
      ],
      "execution_count": null,
      "outputs": []
    },
    {
      "cell_type": "markdown",
      "metadata": {
        "id": "s8poGrPMrsxS"
      },
      "source": [
        "## Retorno de valores "
      ]
    },
    {
      "cell_type": "code",
      "metadata": {
        "colab": {
          "base_uri": "https://localhost:8080/"
        },
        "id": "WLGz6U7LsXwa",
        "outputId": "841ab911-0414-4e5e-dddd-4ddd57290c6f"
      },
      "source": [
        "def operaciones_aritmeticas(num1,num2):\n",
        "  s=num1+num2\n",
        "  r=num1-num2\n",
        "  m=num1*num2\n",
        "  d=num1/num2\n",
        "\n",
        "  return s,r,m,d\n",
        "\n",
        "x=operaciones_aritmeticas(10,20)\n",
        "print(type(x))\n",
        "\n",
        "#r1,r2,r3,r4 = operaciones_aritmeticas(10,20)\n",
        "#print(r1,r2,r3,r4)\n",
        "r1,r2,r3,r4 = x\n",
        "print(r1,r2,r3,r4)"
      ],
      "execution_count": null,
      "outputs": [
        {
          "output_type": "stream",
          "name": "stdout",
          "text": [
            "<class 'tuple'>\n",
            "30 -10 200 0.5\n"
          ]
        }
      ]
    },
    {
      "cell_type": "markdown",
      "metadata": {
        "id": "ot9xZC_J9ghM"
      },
      "source": [
        "En general podemos crear y combinar tuplas con elementos de tipo lista y viceversa, es decir listas con componente tipo tupla."
      ]
    },
    {
      "cell_type": "code",
      "metadata": {
        "id": "2sPkTc3H9h8v"
      },
      "source": [
        "'''Tenemos definida la tupla llamada alumno con dos elementos, \n",
        "en el primero almacenamos su nombre y en el segundo una lista \n",
        "con las notas que ha obtenido hasta ahora:'''\n"
      ],
      "execution_count": null,
      "outputs": []
    },
    {
      "cell_type": "code",
      "metadata": {
        "colab": {
          "base_uri": "https://localhost:8080/"
        },
        "id": "qBS_sA2eAROh",
        "outputId": "a4e17b80-e0cd-4f96-ba80-f6d8af70a6d6"
      },
      "source": [
        "alumno=(\"Juan\",[3,4,1])\n",
        "print(alumno)\n",
        "\n",
        "alumno[1].append(5)\n",
        "print(alumno)"
      ],
      "execution_count": null,
      "outputs": [
        {
          "output_type": "stream",
          "name": "stdout",
          "text": [
            "('Juan', [3, 4, 1])\n",
            "('Juan', [3, 4, 1, 5])\n"
          ]
        }
      ]
    },
    {
      "cell_type": "markdown",
      "metadata": {
        "id": "f5hzs3OndiIF"
      },
      "source": [
        "##Tenemos tres tuplas:\n",
        "crea una tupla a partir de ellas que contenga las mascotas"
      ]
    },
    {
      "cell_type": "code",
      "metadata": {
        "id": "TFSD1xpumcLm"
      },
      "source": [
        "mamiferos = (\"tigre\", \"gato\", \"leon\")\n",
        "aves = (\"aguila\", \"buitre\", \"canario\")\n",
        "reptiles = (\"tortuga\", \"serpiente\")\n",
        "mascotas=tuple(())\n",
        "mascotas.append(mamiferos[1])\n",
        "mascotas.append(aves[2])\n",
        "mascotas.append(reptiles[0])\n",
        "print(mascotas)"
      ],
      "execution_count": null,
      "outputs": []
    },
    {
      "cell_type": "code",
      "metadata": {
        "colab": {
          "base_uri": "https://localhost:8080/"
        },
        "id": "DVWjJdDpCoOY",
        "outputId": "b34a392b-d721-4509-dbfe-e3dd7a15137f"
      },
      "source": [
        "mamiferos = (\"tigre\", \"gato\", \"leon\")\n",
        "aves = (\"aguila\", \"buitre\", \"canario\")\n",
        "reptiles = (\"tortuga\", \"serpiente\")\n",
        "mascotas=(mamiferos[1], aves[2], reptiles[0])\n",
        "print(mascotas)\n"
      ],
      "execution_count": null,
      "outputs": [
        {
          "output_type": "stream",
          "name": "stdout",
          "text": [
            "('gato', 'canario', 'tortuga')\n"
          ]
        }
      ]
    },
    {
      "cell_type": "code",
      "metadata": {
        "colab": {
          "base_uri": "https://localhost:8080/"
        },
        "id": "prpwA7hsDYrU",
        "outputId": "161c79fb-2364-491a-b8e8-a055726974b0"
      },
      "source": [
        "mamiferos = (\"tigre\", \"gato\", \"leon\")\n",
        "aves = (\"aguila\", \"buitre\", \"canario\")\n",
        "reptiles = (\"tortuga\", \"serpiente\")\n",
        "mascotas2=(mamiferos[1],)+(aves[2],)+(reptiles[0],)\n",
        "print(mascotas2)"
      ],
      "execution_count": null,
      "outputs": [
        {
          "output_type": "stream",
          "name": "stdout",
          "text": [
            "('gato', 'canario', 'tortuga')\n"
          ]
        }
      ]
    },
    {
      "cell_type": "markdown",
      "metadata": {
        "id": "FI5wlfB2JRv_"
      },
      "source": [
        "Tenemos una tupla con los meses del año. Queremos saber que meses tienen en su nombre la letra \"b\"."
      ]
    },
    {
      "cell_type": "code",
      "metadata": {
        "id": "MkRCnAZ6Jcj8"
      },
      "source": [
        "meses = (\"enero\", \"febrero\", \"marzo\", \"abril\", \"mayo\", \"junio\", \"julio\", \"agosto\", \"septiembre\", \"octubre\", \"noviembre\", \"diciembre\")\n",
        "#recorrer los elementos de la tupla\n",
        "for mes in meses:\n",
        "  if \"b\" in mes:\n",
        "    print(\"El mes de \", mes, \"tiene la letra b\")"
      ],
      "execution_count": null,
      "outputs": []
    },
    {
      "cell_type": "markdown",
      "metadata": {
        "id": "X1EJA9M5CrE2"
      },
      "source": [
        "#Ejercicios"
      ]
    },
    {
      "cell_type": "markdown",
      "metadata": {
        "id": "bGkJOWwriy2Z"
      },
      "source": [
        "### 1. Buscando Indices\n",
        "Programa que compruebe si un elemento esta en una lista y nos dice en que posición se encuentra.\n"
      ]
    },
    {
      "cell_type": "code",
      "metadata": {
        "id": "VaTPcXe_C1lw",
        "colab": {
          "base_uri": "https://localhost:8080/"
        },
        "outputId": "4a05bc20-d41b-4f3a-b0c8-dc0c232a74fa"
      },
      "source": [
        "lista=[2,5,90,23,45,87,54,11,38]\n",
        "elemento=54\n",
        "for i in range(len(lista)):\n",
        "  if lista[i]==elemento:\n",
        "    print(\"El\", elemento, \"esta en la posicion\", i+1)"
      ],
      "execution_count": null,
      "outputs": [
        {
          "output_type": "stream",
          "name": "stdout",
          "text": [
            "El 54 esta en la posicion 7\n"
          ]
        }
      ]
    },
    {
      "cell_type": "markdown",
      "metadata": {
        "id": "Al9GEKCxl668"
      },
      "source": [
        "### 2. Programa que muestra la tabla de multiplicar de un numero que le demos"
      ]
    },
    {
      "cell_type": "code",
      "metadata": {
        "id": "elssm9mJDL3D"
      },
      "source": [
        "num=int(input(\"Ingrese el numero: \"))\n",
        "for i in range(1,11):\n",
        "  print(num, \"*\", i, \"=\", num*i)"
      ],
      "execution_count": null,
      "outputs": []
    },
    {
      "cell_type": "markdown",
      "metadata": {
        "id": "_GjSZyqFmnlb"
      },
      "source": [
        "### **Sentencia Break**"
      ]
    },
    {
      "cell_type": "markdown",
      "metadata": {
        "id": "-1SEza_Gpv2O"
      },
      "source": [
        "3. Tenemos una lista de temperaturas. HAy que comprobar que todas las temperaturas estan entre 18 y 25 incluidos. \n",
        "Si alguna no cumple la condicion se para el programa y lo indica, sino va mostrando que la temperatura verificada es correcta. "
      ]
    },
    {
      "cell_type": "code",
      "metadata": {
        "id": "PBXL4IOiD-1N"
      },
      "source": [
        "temperatura=[19,22, 19, 18, 25, 28, 22]\n",
        "for t in temperatura:\n",
        "  if 17<t<25:\n",
        "    print(\"La temperatura es correcta\")\n",
        "  else:\n",
        "    print(\"Temperatura fuera de rango\")\n",
        "    break"
      ],
      "execution_count": null,
      "outputs": []
    },
    {
      "cell_type": "markdown",
      "metadata": {
        "id": "mB8J5tjQxhee"
      },
      "source": [
        "### **Sentencia Continue**\n",
        "4. Programa que muestra las letras de una palabra a excepción de la \"h\""
      ]
    },
    {
      "cell_type": "code",
      "metadata": {
        "id": "Tj9_rrQLIv6O"
      },
      "source": [
        "palabra=\"zanahoria\"\n",
        "for letra in palabra:\n",
        "  if letra==\"h\":\n",
        "    continue\n",
        "  print(letra)"
      ],
      "execution_count": null,
      "outputs": []
    },
    {
      "cell_type": "markdown",
      "metadata": {
        "id": "SxigKzG2wMmj"
      },
      "source": [
        "### **5. Programa que muestra si los numero de una lista son positivos o negativos a excepción del cero que se lo salta.**\n"
      ]
    },
    {
      "cell_type": "code",
      "metadata": {
        "id": "FuI9Ho7Awkqf"
      },
      "source": [
        "numeros=[1,4,-3,5,0,7,-2,6]\n",
        "for n in numeros:\n",
        "  if n==0:\n",
        "    continue\n",
        "  if n>0:\n",
        "    print(\"el # n\", n, \"es +\")\n",
        "  else:\n",
        "    print(\"el # n \", n, \"es -\")"
      ],
      "execution_count": null,
      "outputs": []
    },
    {
      "cell_type": "markdown",
      "metadata": {
        "id": "sOsonQi7yW4J"
      },
      "source": [
        "### **7. Ampliando listas:**\n",
        "### Programa que te pide que introduzcas productos y crea una  lista de la compra con esos productos que te muestra al final. "
      ]
    },
    {
      "cell_type": "code",
      "metadata": {
        "id": "EtoWsUh1P7G3"
      },
      "source": [
        "print(\"Lista de compras\")\n",
        "compras=[]\n",
        "while True:\n",
        "  producto=input(\"Ingresar el producto (para salir 0): \")\n",
        "  if producto==\"0\":\n",
        "    print(\"Lista terminada\")\n",
        "    break\n",
        "  compras.append(producto)\n",
        "print(\"La lista de compras es:    \")\n",
        "print(compras)"
      ],
      "execution_count": null,
      "outputs": []
    },
    {
      "cell_type": "markdown",
      "metadata": {
        "id": "YtvvzW8w7pZG"
      },
      "source": [
        "### **8. Crea una lista con los numeros enteros del 1 al 5, a partir de los datos que te dan. Usa los metodos append, extend o isert segun convenga**"
      ]
    },
    {
      "cell_type": "code",
      "metadata": {
        "id": "xvYihCBs77rv"
      },
      "source": [
        "m=1\n",
        "n=[2,3]\n",
        "s=[4]\n",
        "t=5\n"
      ],
      "execution_count": null,
      "outputs": []
    },
    {
      "cell_type": "markdown",
      "metadata": {
        "id": "nLn-9_mwyW6B"
      },
      "source": [
        "# **Bucle for anidados**\n"
      ]
    },
    {
      "cell_type": "code",
      "metadata": {
        "id": "itMveWV196q7",
        "colab": {
          "base_uri": "https://localhost:8080/"
        },
        "outputId": "90761d38-a1a1-4522-bbf6-9ea2b20e8112"
      },
      "source": [
        "for i in range(1,4):\n",
        "  for j in range(1,6):\n",
        "    print(i,j)"
      ],
      "execution_count": null,
      "outputs": [
        {
          "output_type": "stream",
          "name": "stdout",
          "text": [
            "1 1\n",
            "1 2\n",
            "1 3\n",
            "1 4\n",
            "1 5\n",
            "2 1\n",
            "2 2\n",
            "2 3\n",
            "2 4\n",
            "2 5\n",
            "3 1\n",
            "3 2\n",
            "3 3\n",
            "3 4\n",
            "3 5\n"
          ]
        }
      ]
    },
    {
      "cell_type": "markdown",
      "metadata": {
        "id": "XJHPLWOz-9hP"
      },
      "source": [
        "###**9. Programa tablas de multiplicar del 2 al 7.**"
      ]
    },
    {
      "cell_type": "code",
      "metadata": {
        "id": "nc9AeWqM_Uqw",
        "outputId": "b796947e-4792-4a16-af9a-92fa5230953e",
        "colab": {
          "base_uri": "https://localhost:8080/"
        }
      },
      "source": [
        "for i in range(1,11):\n",
        "  for j in range(2,8):\n",
        "    print(\"{:2} * {:2} = {:2}\".format(i,j,i*j), end=\" \")\n",
        "  print()"
      ],
      "execution_count": null,
      "outputs": [
        {
          "output_type": "stream",
          "name": "stdout",
          "text": [
            " 1 *  2 =  2  1 *  3 =  3  1 *  4 =  4  1 *  5 =  5  1 *  6 =  6  1 *  7 =  7 \n",
            " 2 *  2 =  4  2 *  3 =  6  2 *  4 =  8  2 *  5 = 10  2 *  6 = 12  2 *  7 = 14 \n",
            " 3 *  2 =  6  3 *  3 =  9  3 *  4 = 12  3 *  5 = 15  3 *  6 = 18  3 *  7 = 21 \n",
            " 4 *  2 =  8  4 *  3 = 12  4 *  4 = 16  4 *  5 = 20  4 *  6 = 24  4 *  7 = 28 \n",
            " 5 *  2 = 10  5 *  3 = 15  5 *  4 = 20  5 *  5 = 25  5 *  6 = 30  5 *  7 = 35 \n",
            " 6 *  2 = 12  6 *  3 = 18  6 *  4 = 24  6 *  5 = 30  6 *  6 = 36  6 *  7 = 42 \n",
            " 7 *  2 = 14  7 *  3 = 21  7 *  4 = 28  7 *  5 = 35  7 *  6 = 42  7 *  7 = 49 \n",
            " 8 *  2 = 16  8 *  3 = 24  8 *  4 = 32  8 *  5 = 40  8 *  6 = 48  8 *  7 = 56 \n",
            " 9 *  2 = 18  9 *  3 = 27  9 *  4 = 36  9 *  5 = 45  9 *  6 = 54  9 *  7 = 63 \n",
            "10 *  2 = 20 10 *  3 = 30 10 *  4 = 40 10 *  5 = 50 10 *  6 = 60 10 *  7 = 70 \n"
          ]
        }
      ]
    },
    {
      "cell_type": "markdown",
      "metadata": {
        "id": "jZ1EmXORJFd5"
      },
      "source": [
        "# **10. Programa que muestra todas las posibles combinaciones para poder abrir un candado de clave de 3 ruedas**\n",
        "\n"
      ]
    },
    {
      "cell_type": "code",
      "metadata": {
        "id": "29a2BxdJ7Yk8"
      },
      "source": [
        ""
      ],
      "execution_count": null,
      "outputs": []
    },
    {
      "cell_type": "markdown",
      "metadata": {
        "id": "7zv_AhE0Kn41"
      },
      "source": [
        "# Listas anidadas\n"
      ]
    },
    {
      "cell_type": "code",
      "metadata": {
        "id": "x1FlENgt7k-F"
      },
      "source": [
        "nombres = [\"Susana\", \"Ruben\", \"Clara\", \"Jorge\"]\n",
        "edades = [18,19,20,21]"
      ],
      "execution_count": null,
      "outputs": []
    },
    {
      "cell_type": "markdown",
      "metadata": {
        "id": "o9HiFrNtXrgk"
      },
      "source": [
        "###**11. En una tienda quieren hacer un inventario de las figuras que tienen y el numero de unidades de cada una.**\n",
        "Crea una lista que contenga los datos del inventario: 6 cuadrados, 5 circulos, 4 triangulos, y 3 rectangulos.\n",
        "\n",
        "![Sin título2.png](data:image/png;base64,iVBORw0KGgoAAAANSUhEUgAAAYAAAADrCAIAAADv4dbFAAAAAXNSR0IArs4c6QAAAARnQU1BAACxjwv8YQUAAAAJcEhZcwAAFiUAABYlAUlSJPAAAKf3SURBVHhe7b11fBXX2vd9/ng/z/Pc5z6n55wqpS1QSnESJAlO3AWXBPcEdy+UtqcUDwlOgju0uLtD3CEh7m7bdd7fWmv2zs6OECAJSdhXf93MzF6zZul3rmsyM/tvRYVFJcWlQoFQJBRJxBKZVK6QK1VKlVql5lQcp6YymMEMZrA6sL8VFRSVFJWUB5BCraT0YTIwyGAGM1jd2N8KCwqLi4qFpeUBxNwfXQYZzGAGM1ht298K8wsRhRkA9CHN0LxNwwz9+PZWEUAyuUxeLgQzAKiuDc3bxFq46dXojcaq/LHV+r2tAQPo4+nOplfTj6fvtMaq/LHV+r3tgwJI22d60v2qiZpa06plf21sStb0alTR9Cqopl3ZeGqN0pICa+0DlfzDAQh5QjR/zEaVUgU1ov57TyMtzCpLq9/EKs5T9SMzpaJhD+DyZVMqyN02/Aq+0qp+rYEASI3mUMgU/Fcfm32Ijq9TYx2qlCv59SZmVXQWqS/Gc0M1dAq5vw9Tm6yUqwW+4s8Z5bfXgzUUAJXBuGmbmispLklJTklKSMJnemp6UmJyWkpaaYmgXCOzxmm0Jse5pDGXv3oTCUS5OXkZaRkZ6RnZmdmpKWnowYL8Av7rhmoqZfmYq1Kr917jASQoFQgFIonow1wDQrvguHGxcYEBgY8ePrp3597DBw8f3H8Q8CIA87P+G6XuLD8v//KlyyuWr1i4YOGiBYsW4WPego0bNr54/kIulfOJYKxlGq1hUMW+jA14HvD0ydNHDx49fPAoKCAoOSlZIW8KTm5YSNjePXuXLlmKHmSfy5ct37VzV25OrgpRWEM1Qh8MKhUnlcjiX8c/e/Ls9q3bd27deXj/4fNnz5MTk6USKSBVzwNPA6ASAEgoFonrFUBaU3HA3769+2bPmj1uzLiJEyZOmzp97Jix8+bOO3H8RFNyjl7HvV6zek2L71p2Nerar2+/Xj17tWvbrn+//ocOHBKUCvlEMAYgrRqbJcQn7vffP8NrxuRJk6dMnjJh/IT58+YfPnS4tLiUT9GY7eyZs0MGD2nzQ5ueZj3NB5h369qtQ/sOjg6OkeGRmMN8ooZj2iFEF5QKVV5uPnA5fer0USNHjR87Hpo6ZerJEyfBAQWiyPodbzoAKv1wAOI4DE2M19bft/7qy68wLXv17N3sq2bo47lz5jaN0yYz+AWLFi7+n//7P2NGj9m4YdPPa9baWNl0aN9xy+Yt6AU+EVq7fhu/1i0sNMxzuie6smWLlp07dfnm62/atG4zbco0ONp8isZs+/32W5hbGncxXv3T6u0+2zF7e3TvYWpiGhIcIhE3YADBACC5EgHjQLeB6J3mXzfvatz162Zff/qfz1atXPUhAYT5j8EhFn4wAJUUl2LIWlpYzp0zLygw+MG9Bzht9undBz5RUwLQy5iXy5Yu+6b5N377/DIzMmNfxcJ7792zt/dWb10AwVsmDnN9NX6tW2hIqJenFxyEzRs337xxE2cReHme0zxLikr4FI3Zjhw+4uzkPHjg4OCgYMwa+A4DXQd279YjKDBI2gABBNMZQkoFDyBMruVLl9+5fWfhgoU40y9dsuxDA6jkQwNomqeDvcP6P9Yj5kI8+NOq1dZWNrNm1gGAUJ0PNKujIqMXL1yM/j596gzc9bzcvF9/+a1vn77btm4rLizmEzV+AIUEhXh5zrCytDr317nM9Mz169bbWNsSABWXfMDGry07fOiIm4ub+yj3+NfxWL165eqI4SNMupsEBgQ2RA+ovCEEYwCyt7Xfu2cfTgn79uyDH4Tz4kcMIDVXWiLAAHW0d9y8aQvb8vtvv9vb2dcJgD7crI6KjFq0YFH7dh3OAEBiAqBffv6lT68+3gCQ1jtoAgAKBoC8EF1eu3oNYN26ZSuGOzzc4qJiUp1GWCNdgweECTzaffTrOAKg61evY7mXWS8AqIF6QDqmBRBO9ocPHUZfnDh2wszUbMXyFR8rgOh8g8szfdp0NAqcdmyTS+W//fpfrNYFgMjcZjWq95kQHRW9ZPHSjh06nT55WiKWAEBrVq/p1bMXQjDiHTCrRQBh34q7V7qxVo1eA/JCQI3JiXqhdg72jjO8ZhQWaMLMOjJWNT3Vth07emzwoMGjPQCg11hFjDlh3IR+ffsHBQS970VovZLrqpZMCyBbG9sD+w9ggB07cgzB8soVKz9qD0gsErMQrF4BhKrVr8VExyDY7typ859n/0I75+fl/7zmZ3Q/fITa94CwI5Ou0ZvOK9leq1avANLWhbUbu9uFtVvdVLOuAKQpsBr9g1popR2utWEGAFVu9QkgcrODxhAD5+cVCAUiskK7v04tJipmGQXQX3oA2gwA1f41ILAGIlnpWR3X9MMASGtsi1a1bXULIHZfrkJFbinSLXwt1aUBA6hU8AH/DE8ANB0Acty8qR4AhCqRSmVmZPr7+R86eDgsJIxsqPuaRlMAdenU5a8/ywFoCwBUBxehgVqlQllUUPQy5uXtW7cf3HsQ9yoO0S7/dZ3ZBwFQaQkZw2jVshbTfFW7VucAIr2mgrAsLBXmZOcW5Bfwg/a9rSED6EPeB4RDe033cnTgL0LXcQjGoY7JSclHjxzt26fvsKHDzp45S7+o85ryAOqsA6DVDEBbiurir2BqMoKfP32OVkXzzpwxc9vWbc+fvajratYngDBWRQIRevPSxUtXLl8JDwsnhGUVpC1Jl2rT6g1AmJX37t47uP/g40eP3/fqksaqBNDylThR4XRV12NDzz5GAMHiX8f7ePuY9DD55z/+aW1lferEKf6LOraKAFrz0xozUzP4fegFPlGtAIiNZnLvdfwva3816W4yYvgIGyubAf0HLFqwCOE26eI6s/oEEIZKVETUooWLenTr0b1r99mz5sCfJdOVtkBjBpAyKDBo7Jix7du1/2PdH5ihfLL3s+oAVFhERkUdjotKTB9A6E7UvGz0v88ceBurZwDFvoo7dfIUZqaNtc3QIUOPHzvOf1HHVv8AykzPvHL56t7de0ODQ48fPY5pM27MuKzMrDp9VB0IqDcAoQ2vX7sxbuy4db+vmzRx0qCBg/7763+1jclfca9VqysAMUNpVcCEMjsre+3PazFU2rZpu2njptq6ibwqAK1YvgIoIHOttpuretMAqKSUPIohFKMFUYgmD6CCvILYV7GPHz3BwHUf6Y5YjGxFNeu4pvUPIDRsbk5uelo6HGyAANNm+bLlgEJtXVOo1OoTQAi4Yl/GIog+cezEpImTXZ1dd2zfIRLSvyrA6qCW1QGolu4DKiwoPH3q9OJFi9GG/fv2X79ufW1duasGQBgh2mFTb8YDCD45aigCgMRSuaz8z/JAdV+megUQKqdUIdjMSM+YNnWaxyiPI4eOsO11XVN9AOXmr/5ptZkJBZB2ctYegEgm1ECB69euTxw/ERHKhfMX9f/CUttWnwBCE8FfwPi5cP7CmNFj4AGdPHFKIpaQr2gj1LpVAyD+uO9nEpHk+dPnODUuX7YCNbKztVuyaEludi7/9fuZPoDUpDo9TXuuWLai7CpkPVo5AKEXpRJZ0/eAKIDg6yUnJU+dPJUA6PCHAJBUnpebt3rValMTU/jYOOnxiWoFQMxIVhyOcuXyFbTtyBEjjx45lp9XQDKvy5rWK4Boc6Ex7929N2f2nCGDh2zcsBHTldVR95aL2rJqAIRhzNK8j6Ukp2zdsrXldy1nzZw1bOhwoy5Gg+hzZwATn+I9rCKAjh87Dh8cfnGZD16PVhFAUrgGpNu09HnPOVAzq1cAUcNpMzUlFUNn1MhRGFJkE6pZxzWtbwBxHIIRHGv4sBF9evf12ebz4P6DhNcJcHVJ/nVmoSGh9Qag0pLSqMioUydPZWZkgrNzZs91H+UONNTdRa5qAFQW+r2D0bMFLDEh0XuLt1EXY0RG37f6/pN/fNL6+9b7/fcjjqbp3su0ALKzsTu4/yAOSgBkYrZsaYMBUNP/KxgFDcKQgvyC7T7bt2ze8ujBI/6rOrb6AxDNBP8mJSat/2ODSQ8TCKidOWPmdt/t2Vk54C9L+L5GG1PPQuvRA8rJzjn31zkXJxcEs9OmTAMaFs5fmJGeSZoOxj5r1eoKQBoTlgqjo6LPnjkLoRm7d+s+dMiwoMDaca/KAegAAdCJYydMe5hiWDYIAMH9abIhmHaq0FMNIAvaRoRHhIWGZaRnlEtQZ1b/AEpJSjl+9PiC+QuXLV0GrVi+wn+ff0FeQa29u481WvlC1lMIRo9bXFR8/+79CeMnjB0zbujgoTjKhfMXtCBgjVC7VtcAYgY/QCFTXL1y7ec1P8P9QTPyX7yf6QOI404cP4GT09IlSxsIgD7ML6PWM4D4Smm30AuZ9VDT+gQQ21EskuTm5KalpiFCycrMghtPr4/UXk3ZgcrnVh/3AbGD0opg9AYGBB46cGjf3n3AAZmrrDwVClYrVnchWMXS5uXkxb6MBTJqaxZUCqAe3XssWWwAUD0DiNULFaXPKzQ1AMG0+dSp0TbUK2R9AgierEKuhDPLLl8q5UrWoQSy2idva9XqFEDV9VdtVKRyAHUDgJYYAFQvAGLSVA01xXit5Nm/urF6DcG0z4XXqWmbVMfqFUD0J1UgTC1SX215IJastq1OAUT+/lNVmWujLmUAsrWDz4gtJ0+cNACoXgAEo31MRAeuVmwE10M16/sakLa+dVe1yvKvp0cx2HG1Xcn+ckIqrl+e2rU6BlDdjkMdANkfOqgBEAnBDACqBwBpTTNq2UITBFC9GZ02eoWsJwAxw6F1GwqtpyFRHZkBQLVoHyuAUCNN7QwAei9D8Zh0zACgdzHajAYAGQBUh2YAEJ+iFg2H1m0ovdU6MAOAatEMAMJsp9drcdqse6sRgGCUQfXW+O9lKB6TjtU3gHQLoF3VbqltqysAwQiA0Pf8Wl1YAwUQfZscAxC5ERGtwE7C7G+ZddqdzD4AgHTEKst/VZdWLYB0uh9lqa+Wf19jJSxfyHoFUL1bHQIIDVnHp5yGCiD6Tmg0H3sUQ6VQMaeAD6fruFFg9Q0gXWvgAGrghhIy6ZgBQA3WDACq3N4CQNoRr5Wu6X1VURWt5gDSzYdJz/S+1ZMBQAYAvdEqNGbtmgFAlduH9YDqute1VimAzEzMNm3UeR8QM5THAKAGaXXuAdVlp2sBZG9nAJCOEQB5znB0cNIB0G/1BCBYhSlUR1Y5gEzNNlcKoPoq1XtZZeWsAKBtjgCQJwCkc6G90VpFAI0nAOrXuEIwCqDD2HLyeB3fCV3tMOYBVFI1gMiTClio40skEpFk5oyZzk7OWzdvxSrK8Osvv6KNZusCqNqavJfVXc7lLSaaAKgz/WFCmVQGAP3EAKT7StbGb2Gh4dOneZoPML965WpxUfE27204tXh5ehXkF/ApGrMRAA0kAEqIT8DqrRu3xo8b369Pv+CgEJxHWZoyY0OrJtJaxS1a0371VmJGF1RKVVpqmpuLGybXYQqgE8dOdOvaffGixbU8Atlx8Vmt+/I3nJSKC4tLikpKS0orAgjFxTzBxrp2Q2RS+ZzZcwa6DvT18cUqyrD251/sbO1mzyoDEIEgalJ1ZRq+vXr5atnSZe3btT9z+gxaNS8nb9XKn3qa9dqyeQu6gE/U+C08LHzypCk9TXue++scILtt6zYnR2fPaZ75efl8isZsx48dHzRw0JjRY9gbwu7cvsM8oOioaP1pwoZrQ5CKI2XDAsdlpGfgfIDJRV4ESl/JCpd84fyFZb/NWytGj4s5C4ZU475UDiDyDbklQYVCI1IAHfCJ7eSTroJKFcXSYBdIKSfPl0PIpHrRYpD32gFALs4um9gvowJAa9ba2drPn7eAJUBKuawsZ90cGotQC8Qm8+fOb/NDm9MnT6OpcwGgFat69ey1dcvWtzj/sCFVz3obC3gRMHXy1AH9B1w8fzE7MxteLXoWHm5+bj5CADYwGqNYOxzYf9DN1W3smLHJSclYvXr5qoe7R+9evUkIJhAhDc7cbBYoZAoM2gYijDdSC7kyKTEZ9IEOHzoMV+PokaPdu3XXhmAYqEijeA/hKMiEQIdSD7mhQUjDVWZVAEiTHrlkZ2XfvXMP1H+j4MudOA6dPHkCOnWK6WTVogngC5w9cxYwdnRwRDAyaeIknDaRw/Bhw406Gzk7uZz76zwSIFI9flTnQI1QqAU8HXh5X3/19by583Dm8dvrh2i87Y9tUeuDBw7pt49WJ07RJiVC8+plWx86jgPzBaiJ/lj3h621bYf2HRYvXLx7127M1R7deyC+Prj/ILIi/dg4haqdP3cerhxmLALMvXv2/nn2T7i0fXr3/bFN2w3rNx49fPT0qdNIxu/SkMYqCoOxhDPf3t174fL06NYDXs/ZM38iyGjxXQtXF9eDBw7+efYvPj26qfzsrrnY7oQDx09ikMNDZKSu1KoIwUAsDYNCg0Pnzpln3t8cAwjgR/RIhIVK5eLmyr6lC6jVG+RMPln6Vi1afffNdybdTYYOHooTZru27T7/9POWLVpiGWnwiQJo5OLSCDV40GCcdjq27/j3//f3bsbdEIRbWVq1atnqP//+T+dOne1t7R3tHSuVg72DvZ1W9uz0VZ/CQXUK8GZZmFugN//1yb/AHRsrm44dOjb7qhn8PvQd2gH+fyOVs6MzThhdOnX57NPPvmn+DVs1NTH9utnXn/77U2tLa4xSjGR8Ojk4OTk6kfpihDcM0XnkNtBtEAqGmfXtN98hbBw6ZFhX424YkOgvDLNBAwejUqybUAX4BO8mZAVh6MILnjVz1vWr13maVLAqPSD+ggu9xtand5//+b//A/fEYoDFgH4DUO5K1bdPX5wK+vTq07tnb4QVPc16mplWqZ6mPXuZ9YKQmOzVu8+XX3yJdmn7YzscBQ7t9y2///Q/n37x+ReYnEiM/FEZJpx8zAdYNDqh5D26m3z3bYu//e1vP7T+oVvXbvARmn/9zd//538xgjt37IzzalVCYiYMl65GXetbxjgwX4AaqLtxF+MvPv/y7//zd5xp0bPt2rb/8ouvwCD0NXqW9XujVE+UvnfrVq3/9+//+8k//wUnAoMcXQn6/Ptf/0Zl8S0GKsYzGdW9MB8wK/r179e/IQhFQnkgdCjOeeggzCxMJZT/n//4J3gKkmKUIgFSol5YxXDFKeQdBDeCzHGzXp/84xPktmf3HkqbSqxyAJHrLIjcKIPu3blnbWVtZ2MX8DwgNSU1LSUtJTkFPhWUlJikrwSiRKLEGorkk5AUGhI2dvRYG2vb1atWp6akvY59jSClX59+E8ZPSIhPwHFTklOTk3BcIhQgNTm10QnFvnb12rSp08CgrZu3hoeGP33yFNXEpF20YNHTx09RzcqFfZNS0KpoCqLXH0Ls0JWJ9SMbAMmJyVmZWZcvXnYf5YHput9/f1hI2C9rf7W1sfVw9wh4EYD0ZaOlsQkdkZuTu2njJgSYCKVv3riFiiPGxDm/e9fuFy9cjI6KJinpFKCf5Yb6h1Vc7Gs0fnxc/IP7D3EuBJI2bdwc/zp+y6Yt7du1x7CMDI/MSM/ASGOzG12pW/e3Ej1c3LOnz4cNGQavym+fH8+bClYFgBT0oin1gFBcSwtLnHj37NqDiPfcn+f++vOvv84S/XnmT/bu/vcR8jxz6syB/QdsbexMe5hOnDARG48eOTpq5CjMTHiDOBwCb3zq7PUnDt0YBe4gwPzy8y9nzpiFkHvvnr0jho9o07qN+0h3nCX0EjOhsqjymdNnT586rXc9qEGIv+RHRC//ncI8XP/HekReHdp3XLxo8b49+3AWQVdaWVihjuzKSCPV6ZOnr16+OnvmbFMTM0xg763bLp6/uGzpMjhHCDDX/b7u0MFD2tYgOo42YRdEPryOHT12/Bi5locege9mbNTVy9PryOEjs2fNbtmipZurGwYkKogeLFeFtxS7sAvhiBje8Kfsbe2xQGlTiVUOIHLVWnMNCGdphLUtW7RydnIZPmz4iGEjeA0fgdXhQ99Xw4YOH0Iv+iAKRSQCbx9bsNqpY6fmXzdv+2NbdlCgdMjgIY1aqAICYzjqiE3gpiIaR6+3b9se/rBRFyPE50OHDK1Eg4fyOQwaMpho8OCBDUWDBg4a5MYLHgG9/Ddw1Eh3a0trjGkEJgjbnRydEJE1+7IZ+neQ20CkdHN21RW5QqF3ZbC8XPTl5uIyEJ81usiolbObq/NA8qm/F7bXNCsU3n2UO06T33z9TauWrVC1MaPHmvc3/6b5t//65F84T2PcDnQbqBVag1zfbCCivYNRhF5DwIW5Bgy5OLsCphiBGIesgnrd+tbCvkSD2YEwizGGASaeJhWsCgDp/N0+Ijxy5YqVdrb2CMRwEkMrW5hbWkIWVliwMLd4b1kiEEXADNygIRCR2tnaIXJGnPLpfz5t+V1LesXHHCccFsFS9WuMQk0RD//w/Q//+/d/dOzQEbPUytL622++Q63RT1aWVmjexiUMBjoSiNCV6CZ8YlqCOxjf//rnv7p06oL52aFd+2ZffPV9i1ZO9g521raWAyz0pDMYKpG5uQUy1shygLnVAHNrc/O3HH4DrCwGWBPp72VJviIb35wbKotew1z98osvMT5RXzsbO5PuJqjs//79fzGT6RUfRDda9ceWD67+ffnLQAP6kw7Cls8/+xzq2KETVjt36vzJP/8FnqI6mOPWVjbk0/K9xEaFvZ09eL150+agwCCeJhWsiovQMCCI3qODLelp6XGv4l7HvUaIGxUJRUVGREZGRCFojAiPeE8hN2QbFBA0bsy4Af0GLF2yNDMjMywkbIbnDLQUIjIkeBn9EsfF4XhFREZFRDU6xb6MRXgyccIkeAfoFZA94EWA13QvOAioNTxN2rZVCq0UExXToBTNFqJfQq9iXr2MefXq5auU5NTLFy+PHzdhQP8Bu3fuvnfn7qL5C0GZyeMnvnj6/FX0y9iYV7piO1aml1Qx/L+8XsXExMXExMfEvI6JiaXJ4l7GxOvo9Ut+Oz7xFVtmq/hK+61WWGXS3Vi5Xr2MjY+LR4Bpa2OLM/yD+w8wL/z2+WHZzLTn+XPnMdMwXLWi06RhKSw07NbNWzbWNkAPKoLu89nm065tu3Fjxz97+gzVod36viMN8zo8LDwmOiYtJa2ooEgmlRGUVGZVAAj00QAIplQoFfQmQP6eQwkvJH5/sVu2UAxEpI7kYVRyI6KgVAC3C07BrBmzWBocTiKWQFJx2b58eRqJ1CpyI+KCeQvatG6DgFxQIgBqly9b3r1b9z/W/ZGdma1351gF0XtBG5LYqNDee8ZuoEf3hYaEzpo5C8H/pQuXMtMyNq3f6GTvOGO6V2FeAadUqxUqlVzJxO55kxOp5Ao1LzmkUhAjx5Ar5HSMaI4pV2OEQnIFhJRkQaXiZDIitortCgUHqejvv6JUSmzBjhKlTIKxxCTXUdmorkY4PCaFv5+/s5PzqJGj2LNgVy5f8XAfDcc8JCgEk4jUSKYzU3QGwIcVCo9uwqwBQ52dXBzsHQ7sP4DVY0ePG3Uxmj93fm5OLmY9ugP9yG5HfDeR2SrFbMX/MqVCRTBSFlDpW1UhGKVP1bvVuuHQM7xmoF99t5FHMVCH1T+tJgCaObusGKxI9ViqWjecwRcvWvzjDz+eOXUGncQexQCANm3chF7gEzV+w8l/zqw5DnYON6/dKCks3u7t4+LgNGOap1Qk4VPU1NDl/E9Iqzk1vTmEXB7gRb+TKbhSAYe5k5vLZedwWdnyrNzS7NyinNzS3FxxXp6gqLBUKpGxYUPeflm5SL5vFC0Id/DAIQzUkSNGJSUmYfXmjVujPUb36d0Htca4ZWkasqWlprs4u+Bkf/TwUTTLyRMnuxp3XbJ4CQjAp6hdY3NWVzrWYAAkMACoCQEoonIAyYSV/7o5ulTbt2CKnApTmYkMRpyZVZxcyUk17g8kVXASBZeTzwWHSU6djbtwOeOvCxlnzsWfvfDy7IWYv87HnTufcP585Pnzz2JfZYiEBGRqJWMNeVCALDPpIKZ6sbHXZAFUXKsAYt3JxHjCRNtQaw0FQEKB8CMHUFN6Gj4yIrIMQAXF27duc0EINnW6VFD52yrQsYw1rG/Z6NPrbaxK5QRDCiUhESRTc1I1FxWn3rEnwt7F23Won9vww27DD7gN9xs43H/w8MNDhp8YNnzHkKE/nT3zJCuTHpp4OwpODYeI/hDu24pakwTQooWL2NuaCGeZsdZ/N+m1m67wrY5VCyCovswAoKYAIE3XRIZXBqAp02WVAQgxVGqm9Py1iEOnQw6eeXXkXOL+M3H+Z2L9z8TsPxN58EzE4ZNhp85EPXycUlTCiWUkPaEPvCEVJ1ZxwZHcH1uiB9jusXc7Y+d20cb1Aj7t3C47uN5wdLnj7HrMyWndyROBWZkMDSiijOPgiNFHw99W1JomgBYsKsgnb2sqewxLC4H3l24bssw1VhWA4HCSs0W9maBE4OXp5ezkwl7HUSWAtJVpnPaRACjibQAkEHDPA/NW/nxuyowT4z0vjZ9xbbTXFXevy+5eF0fNuDDG66/xU47PnXPWz/9Zbh4nlpYBSEIBFBDO/bbxZT/rg7ZuV21c71k537N2eWTj/NTGOcDWKdjB+aKjg/fJYxHZGaxwGEAI76T8paV3GkhNF0DkbU3aO5C1gec7STNbmapu58oBxJ6mr08AIf70ml4zAFVbnwZuHy+A7AiAKg3Bioq4m7dzJk876eB62NL+fH+HS30cL/VyumjmdNHU6WIfx7MDrA8MH3x088ZH2TmcRKaJv3QA9OvG132tT9q4PrByDrZwDLNyirFyirVyirdyTLR3fOBot+/U0bjsDHY0jB4ACE4QnWZvK2oGANVAmqnKpGm6ilYFgBT0dR5V71bLpuZKagIgLLypPg3cPk4A+W7d5mzr4DV5mrRUyKfQsZJi7v79khkzLg4cfM4e/ovzQ3OXh/1cH/Zxfdjb7dEA19uWdn+NGnphy6aA7FxOIifoIQBScRK1LoBO2bo8snYOt3SMsnaKs3ZMsHFMtHFMduABFKsBEPlLGvl7mnZuvJWofSQA0q/7+6jqCVsDAOFTq7oxDAkUwLMyAM0GgLSGArypPg3cDADiU+iYoJh78qB07qwrw4ZcdnV5au/8wtr1hbnbi/5uL/oODLBwe2zndH3MyNveW8MAIJGMoEeuplegOU7CcYERCMFi+1udtCORV7iVQ6SN0ytbxzg7x9f2Dq+dHO842e86dTRGAyCdUfQOotZ0L0KTa0Bk4jPTq/v7qOoJ+6YQDHvqqm4Mxyo2AKhJAShi9qzZ9rb2N65eLyko8t3i7WxXJYCERdzT+yXzZ14ZOeTqIOdAJ+dgW5dgS9cQc7fQ/m5hlm4BDi73x3k83rYtOjuPE8rJX74QQUEMQEGRqt83vhpgddze5YGdU5iNQ7itY4yd4ysHh5dODjEujted7H3JNaBMTeEwfpSagfS2omYA0Fur6glLAFQEABUDQDovpecBRDzVchh6H9Nmoid81BBAMJ29GqM1QQDpdodmISIsAh1nb2t3/er1ooJCny3eTnYOnlOmSaoA0JN7pfNnXh015Pog5yAnp1Bbl1Ar1zAL1whz12hr1xBH14djxzzc5hOdlccJ5CTyYuiBxARAyt83RvS33m/vcgPek61ToJ1TqL1juKNDuDPRRXvbTSePh+Zkk8LR6xNkSPPCMjbrTpXqRa3xAyjNhdwJ7cjeCX3yeBUAwr+1qCqs2p/lYQAiC9VlUeUxNNtZZ5frSF0hSc0B1MityQKI9T771ADITgOgbRoAiasC0N3SBTOvuw+5OcQ52NkpzM45zMolwsolxsolzsYl3NHlwegxd7f6RGXkcwIFgU6Z1AjBFP/dFGRus9ve5aKj6yNH16cOLi8c4Uk5Bro4BDk7/GVj9d+TJ4Nyc8lQUyhlGNn8dVJKn1oGkKwRACg1JRXlR4B85NARtMKJ4yeMjYwXLdDeB8RS1ZO9+XfBIO3AqtRQB+zC0qiUavbieu0L6tnjIfxFJd2+1IrmUCWAZhkA1LAN/c7ElqnpAgjn1W1bvR3tHKZXA6B7xQtmXvEYenWo6zNn5xf2Li+sXQOtXUKtXaJsXQJsHa+MGHVh07YgAiAlQ49Sy6DASNEfWx87DdrpNuyk29ArrkOga26Drw8adHPIoFuDBx1xdv716NEnmVn8UyBqDgAiw1HLIP0BWY2oVQMgMhEavFUOoIWL+BGo6cT6sRoBiPeA9MSMOjhIT34qgzytp0D4piOyO1um+TDpd6oBQE0MQOFh4bNmzLK1sbt25RoGGDygagAkKuaePShYMOvPkUNOuTlds7e/ZuVw1dzxmoXjLQuHe1aOVy3tDg8ZeWjjtodZRZyIRl4iTi7iVAxAr9NVV25n7N4fvsv/1U6/pJ1+8Tv2xe3ye73HL2HfvqS9+yK377j3IiBL85MzAA4ZixRAhEGwcqOxelGrBkCYBSxNQ7aqAUQfBtJO7XqxGgKoQidpBxwEAClV+bn52VnZJcUl5ZJREehUkxvyMACoiQEoNHwmAZDt1SvXCvILqgeQuJQLeVG0csm5KRPOjh990330reFjbg0Ze2vomLvDxjwYPub6EPdjEz0Pb/d7mCsgxJFwahEnAYMYgPKFXGIm9zJRHZPAUSmiE8QvE0WxiZK4RFlsgjQmVpSTT26hJrgBfQiAGH2IahtAVb53ouFYowcQ78LA6MhTKpQF+YU3b9y8c+tOfFw8v71c+rJ8mHS/JckNAPqIASQTcwmxxQf97/t4P9jmHbLVJ2yTb8iG7SEbfbEQsdk3aP3Wuz67bl25FVEs4SRqtZRTSDixhJNJ6d/CiNT8o2RKKragKQtZwCijz7LKdIIviAGIDmjdAVmNqFUDIEwflqYhW+MHEP2xZj4D+puCt2/dHtB/wJjRYy9dvEQ2sT7Xpkcv62RCO10nQyQ3AOhjBRAGhkKmlks5iZgTCsmLNYqFXKGIKxBzhWKuSMwVi7lSCSeQckIpJ5IpRTKpWC6SKAUylVRB4FE2jpgIgNScXPMWGohs54cbNsspd9gLPRiA2BPxOgOyGlEzAKgW7Z1CMNax1LIys8+ePjto4KDPP/scnxfOXSBb+W7nRXu5QiZaIbkBQE0aQN7VekBkN0oSNmqoC6OWw7EmLxRjz10oIE3opFSpZEqVhL7QTK1Usis6Sqyq1FQkEXk/GZBCLjHzrKG4IY+vwgnSBRDGJThGUEbSk7GqMzIripoBQLVo7wogjaEPzpw+M3/e/C6du4waMercX+fIVjaUNCKdWzETrZDcAKCPAEDTpkwTCSoFEEybBf7BQAEphGquVM0Vq7kSFVeqVAmVSik4Q8YS3G+VggwntpPmoGVWfiPIQkYxQZiEPENGBiO2AHOEcWQ7/4d5cmADgCppz7q09/WAcnNyI8Mj7925B/dnwviJ5/6sAkB8D+vsrhU+DABq6gDCcAeAhNUBCCMDwZNMzYnUXJGay4N7zXHpHJepVueoFAVKuYC8tJW/0qNSSFSiEmVpISQvLZTRT1VpISco4ErzOVERuUZNEhNXiNwcouSkSk6sIG8xg8NDrhPJMcrI61vhZympF0SoRFwn7ShlC7rL1AwAqkV7x2tAEJ8BNQyy4cOGjx83vlIA6atCDQ0AavoAsq8aQHR3EgExkTUMOJBIrOYEarVYrUJABjyQ2IwIaSRcTpo06EnOvRtZt66m3b4OZdy+ln37Wt6dqwV3r5U8vVcSF12an1MqlZCgjMRoJJSTIgATiLgSAVcs4IqERMUaYWOpgBMJOQUYwkap7ohlq9QMAKpFeycPiAnGBotSnZOdM2zosAnjJ1w4X8k1IH1VqKEBQB8pgOiOKsRFUk4o4CUo5UpLuRKmEiJBCScpJdAh6enft4ozxNf/jJk16dhkjwsTPM6PGw1dnDD6ysTR1yaNvjzR4/zYEf4b150PCojBQTB4FUoyiqUKWUa28Ojx5747An13hPjuCPfZGe67K8xnV7DvjiCf7QG+Po9OHHseGQq3ixqrFxuxbOhSMwCoFu1dAcRKSTtGqVBmZmSNGjlq8qTJlV4D0leFGhoA9NECCC6PXMbl58vv3Ys+ezro+NGw48cijh4JPXIk5Aj5DD1yOPz4kag/T8Q9uZNcnCEhj4EhQkuRnTv0epTLmYG291zs7jvaQw+d7Z+42j9ztb/nanvVwdJv2eLT9++HoUQUQMSFksiVSamypcv/Gjvu3NhxV8aOuzVm3O0xE26MnnB1zPiLY8acGzv62KrlZ65dDCGvDNLWSHfoUjMAqBatFgCExAV5Bb/98tvGDZsePXhUSWI9VaihAUBNG0Bbt3jb2ztMnTpNUB5AGCmECzIuPVO6Y9e1ufMOT5x4fMKkM2PHnx07/i+mceP/HDfuzAzPi75bH8ZFFpH7oDkuL016+kjcMNfTznb3HOwf2jo8snF4aufwwsE+0NH+saPdbVurI0uWXLx7/yX7q7wUARgiOjmXmKKe7nnC0fGEg+NfDk5X7J2u2ztfs3PGwgV7h7MOdgdmeR4/c/y5uIQOVBgAqTueqRkAVIumA6BSBiDy+0H8kxNlANIMsoqiF+0wl0JDQiPCI7Izs9nGctJNz1TeDABq4gDa6m1n7zBFB0BsD9ABroZIzqVmqddtvDTC3c/S9qC59cl+Fn/2tbjY1+JCX4vzZLn/MSfnsz+tuhcRJpRTAGVlSI4fjR008LS9/X0bh8cWjs8sHAOsHIKt7cNsHQJs7R9ZWp9etOzmvUepOAq5mIQojwIoIZnznHHRyfmKk/MdR+cnDs4vHFwC7V0CHbDseM/R/vwsrwtnj4dqAKQgtwgZAFSXxgMI7g/cY7FIjFmBya/vxeiVCatsI/0WACLpsYEtYFHzFS/yZXVmANBHAqBSHQBhXCjofcwiBZeey23cdnfUuFM2TlccXB/ZOj+3cQ62cQ6ycQ60dX5maXfLZeDtlaufhYaJ2aMOGZmyI8fiXAeetXF4ZOn4pL/Ts/5OAeaOIRYO4VaOQTaOz6wdLs1dfOv63RQAjjw7piRvERIrCICmeV52cLxm73jf3jHAzjHE1jHExjHEziHAzu6xnc1lr6mXTx+NkABApC44GBhkAFAdWkUAkUfY3wwgPWn6hph2S1W7VzADgD5OAIEOmK9CBZeWy/2+5dawMWetHG/Zujy3dgmycg6xcg62csbCcwv7u06D7i1f/Sw4vBReDCwtU3noWKLzwAtWDs/MnZ72dX7c1xkMChzgGGrhGGTp9Nzc/uK85fdvPMxC/mIcQkUORACUAgBddHC4Zu9wHyGbjX2QjUOAjeMLO8en9vaPba0ve06+cupwFAEQ3DOykwFAdWvvBCA9w7dMzNhyzXfH9wYAfcQAEii4lDzu1803h3ics3B4CO5YOoeaQ04h5s7BFs4v+tvfdxj8YOmapwERRaAVdkzJUh84luo48KqFQxDcn94uD3q7POrr/KKfU8gAp0AL5+f9AaCVj248zgN9RACQmjw4hkCMAuiCg+NVe4d7tvYvrO1An2e2To/tnR47OAJAV6dPvnbq8CsCILhnBgDVvRkAVK9mABBLgIQYF1oApeZyv226NdTjnKX9QwRf1s4hlk6hlk4Rlo5RWDC3f+A4+N6yNU8CIwoRr2Hf1Ezu4LFUp4GXLB2eDnB62NflTl/ne/2cngxwCgB9rJyfDrA/P3/lwxuPcxB/UQ9IRQDEe0AA0BV7h7t29s9s7F7YOgBATx2cnzs6Pre1vjl90s1Th19LSxmAUEAlX1YmagYA1aLVBoD0DIl1+6wGuxsA9DFfA4JTk5LD/XfTrWEe56ztH9g6Bdk6hVg7hVo7Rls7vLYGg+weOQ+6s3zNo6CIQkAEBgAdOpbsPOgva8f7Fk63+7vc6O98y9zpgaXTM2vnpzYuj83t/1qw4v7Nx3wIJqZvcRXJtQC6bO9wx87+ia3dc1v7Z2CQvcMLe/sAa8vb0ybePnU4US5gIRi96UhbQZSYmgFAtWj0pfRFxVoAyaVypYI8cVOGD+ityqTtrRrvbgDQRw0gOZdKAHRzuMcZG/tb9s5P7Zyf2zoF2DqE2zq8snUIs7K74zL4yoo194IjCnQAFOsy+JCN0zkr57PmLqfMXc5YOp+3dr5i43LFzvWyhcPBBSuv3XqcRgCkJr/eUwYgr1MOTiftHc/b2V+3sbtpZXvT0vaGlc1NK6ubA/r9OWX8pVNH4hQoJgEQyqhTQboGMwCoFo0HUGlJqbBUB0D03p8yDL1tmbR9xvQmqw5AhndCN3DT7WVNX1cJICEBEFKxYVUOQBuuDBnhZ2lzwsH5ir3zDTun23ZO9+0cH2PBxuGM08DDi1ecexacjhAMO+YVqx8+z9zs++i3jc9/2fR07dYna7c+/WXLi9+2BP62JeC3zS/WbXty+tLLyIQSoaoMQGKVKj1Xvuynw+Mm+Y2bdGL8pEvjJl0bO+namElXx068PG7CpbFjT69acenqhVcKeE04DDNWO1ZiagYA1aJpAETuAyoDkPYNqny713GZDAD6GAA0eeq0Eg2A4F5AcgogOCbpOdy2nXcmTz8ybOTJ0eOueYy74zH2gcfYh0TjbrqPPTt20uG16y4EhGcgXsNeArkqPV8U+To/5GV+0KvcoFhewfh8mRMYkx2ZWJiSLyuQ0HdIUwBJyCtcpflC4clzt/YcuLr34GO/QxF+h1/tO/wS8jsc6X847MDhgAsXwiLCMsjjYFpjU4CJmgFAtWgNCkCeFQBk3VQBdNoAIC2AFFx2oeLKzcjd/s82bwvavC1i87aYTdteaRSxadtzn12Pz14KT0wXUZRwIrUCWMG+GJtwozDpdYUE+MS3EBYYgMRqtZiTlSqkpTJVqYwrlXIlEvop44pl5BPLAin97Xkpp8CepKA6U4CJWrUAYns2aGtkACKfdVwmHkDTACBnXQBZA0CzdH6aufEbA1Cb1m1OnzqtBVCPbj2aMIAwwKoHkFStFiqUeSXSzDziCukqjSo1m8Ro2UXkR8EYSiScDB4NY41ITW7z0RX507uaE9FlkZIs4BMYYrswsZ91FrNvaWKsSlXknYlqWguVklPKVeQ9HeyNiUT8RKgKQJERkTIDgN7SagAgTbvXoak5AGg6AORYHkBW1nNmzdGeecoZivRu+qBWOYC6fywAKhWK8C1SMX8CzgtlkEKqFouVYrhCCMfIJwQ0gBr0s5yAFaVcpBbBTSHeDQUHMFQmgIbCRbsLMiEi5OI9IwIgJFCQy08CBVeqIJ8QtkgV5MVl5NYfJadSkM+KADp08JCLk8uokRoAXb/p4a4BUON6Kf3hI6iRBkCLwQE+BTPWre+smlnlAAJ6mJAR+axrU3MlxQDQdCcNgEDA1T+tIQCaPbc2AfShLSY6ZvGiJT+0/uHkiZNSsTQvN3/NT2tMupsAQOxn4RqfVda2EeERs2bMsrG2vXHtBsC6bZuPg6PTlGnTS0XlAAQniDJIJVcrpEolJr8ECKCvDoMzQt+fSiRVqaQqJFCL6bcSpVyiAqnkcrhCNKVcXSYZRPfl89EVy5CmwY7IggBIR1iV0HeUKUGf6gB02MXZxX2ke0pyClZv3rgJD6hvn76R4ZHyxvC7YGmpaU6OTva29ocPHUaNACCjLkaLFiwq0fx0EW/ann030RwYQ6oxfQBp7wPiAYRM0O51bWqutKQUAKIe0Ha25efVP9tY2cybM4+maCIWHRW9ZNGS1t+3Pn70uEQsKcwvXPvzWlMT000bNzdWAFVm8AVmes20srS6dfMWfFsfH19HJ+dpnl6VAoi8n5C88Jm+HpW8IZVKrVCoEQBBGI5iuVogV0nlKhX9Fl9J6HbyXmgqNRV9fTTbnYpt4bfrfUUhBT9IK+JJAU80JaEPAxB9HJWIXYughnkLAHmM8shIy8DqrRu3xowe279v/4jwSCWO1MBNzWWkZzjYO9ra2GkB1KUzARB6ik9Te0a9GX65UqscQNiNDBM4ogoVaVO6XHeNiyIKS4We0z3h2W6nAEIBfvv1N0cHxwXzFrA0TcNexbxavHBxq5bfwwNCe+Kc89PKn8xMzLZs3oIu4BM1fgsLDZsyeUq/vv2uXb1WWiLYtGmLtY3tjFmzSgRCDCUMI17sLaj0HImop0zkA24Ke0sqPonLQhewnYxKzX5sYFYtbYYVVIY/3gvjhY34tkJGGlE7euQoAZC7R252LlZv37oND6h3r95RkVEk3wZvOVk5drZ2jvaOQA9WMRRxCly+bHlxYTEiD5am3qxyALEzlNZ9UinVCG7FIgnKByeThGly8oPLSFkLkilkEhkcdQAIbuHG9RtxRKFA+OvaXx3sHWbOmCURS5GMHRdCCalk7yjJBxOaFLHJ4kWL2/7Y7vix44JSQVZm1soVK3ua9ty4YWN2VjarIGqKNpETkeWGLtoXWEAfEf+EDphnT5+NHze+d68+Vy5fKcgv2Lhxkx26ctbsrOycUqGouBTDjYncAFsqEAkEYqFQKhTKRUKVSCQTiQQicZFIVEIWREKRSCwSSeknltkWZtiilYQKyZiQiUxEMtSVQiOlUKQQiBSlIjmRWF5CJIMEbEeRVAwJNRJJqMQYiqjjfv8DCGFGDh+pG4KZmZo9f/YctMW5Ew0ilUg1Kjf8dAZwPYmNKNpBSqVChdWkxGR7O3sA6NiRY5jahw8e7t6tO4Zlbk4umdca54PN8XcTQIGGYlUmGVaNtapDMHYRmuMwT548enLk8JF9e/38/fz37tkL7du7rxa0hwi57dm1x9fH18LcokP7jkOHDD186MiunbsGDRzUuVNnuPF79+zz3+fvt8/Pb69GWH4H7fVDFbQHrX/t99v/y9pf4NY1/7o5aLtzx87Nmza7uri2atFqxPAR3lu9d+/cra9dVDt3o0EarFARfKKcqCPaGYNk1cpVfXr1adWy1eyZs7f7bh81yqOLkbGNrZ33Nh+k9d2+Q6vtO3bu2LFz5w7kgzru3bVzH6217+5d3rt3+ezetWP3zj27dx7YvePo7p3+ZJV8tZNuhMq3FdmyV0fIyo9+QtpVf6r9u3b679zpt3OX345d+7bv2rt9157tu3aTUpAqbd9dJhxrl/YQGKio4LQp07p17darZ6+tW7Yiilkwf0FPs17oxJUrVqEpMMbQFKxlSLNgR9qJ2HfPbmgv016owgipY+3DcVGkP9at79yxs7GRsdd0r/3++ydPmoyewrD02eaDaa6ZKft279pDpRmEbyMcDpngiFi+euVqYkIiw01FqxxADGDMA0pLSVv90+oB/Qf079ffxtrW2srG2sq6VgS4MFlaWA3oN6B5s+b//td/fmj9A/xDfPt9q+8//fenLVu0hB8EWuNTK6y+rciOdg72RPaQnS1kV++yh1OAzv77//y9q1FXGysb8/7mqO8n//ykfdv2aAcbaxtstLakLWNBZGlhaWlOBDp/MA0okzmRub76k0+kRGnRcagCJufXzZr/79//t1PHThgzOJF89dXXrb5vDQYhFrO0sqbi+x9GxwPqbmtjZWdDcjC3se5PPq0skZuNpYONpbONlb2NlZWNlQVNgJSkregyE1vFdq2QlZ7sbSwh5OZobeUAWVnZW1rZWVhDthbWNpZ0VKL1dcTKxgsdhMGDqdvsq2bffvMdjmhrY4vVLz//8p//+Gcvs15IgC00D031SFWticoKSYW+tratH9lCNpAdioE+6t+3/2effvbVl18Bo4g50Ef/+uTfrVp+j2Hm4uyKcqIr+W7tb46J/w6yMLdkTYHGmTB+wsUL9PdKK7MqQzDy40sICNUc/MxxY8d99+13aMpZM2fN8JqBs7fndK/aEjKc4Tlj4oSJbdu0bfFti759+gLMXp5eiEtxULTR3Dlz582Zh8+5s+fOmT2HafasOTi7NjLNmu0+yh01AoDgw6MW06dO79Wzd2vMTGsb1Bp1xEbWyF6e+kIrfRChL8r6a5rn9GnT36hhQ4dhWH/T/Fv4d6g1Jm27du27d+8xcyYqN9sTQ4iIGXInH+xYMz1nzvT0muk5babnVPo5na5i42zNV0xI+UYhPdMsHSGfOTOnz5nhOceLytNz9nSvWdO9ZmIkohSsRKx8Gum0htcMVKdf334Yme3bdZgwfuLMGTOdHJx+/OFHAHf4sOHTpk6fNWOWVvh2plcD0AwMKVqkmdDsqVOm4rSHEzxOyRhvwMTnn33e1bjrxPETp02dhi6mE1xPpFlqLhwRsxWfLb9r2ad3H7hdPG8qWJUAYlEYA9CkiZP79u4LhzMnOxchfU52TnZmdq0pKycrMysu9rWHuwecLHjvOERqSurCBQsBYzRZSlJKelp6WipTGoTVxqiM9Ix7d+7Nnzu/davW8MzjX8eHh4YvXbIUZ4k1P62JfRVXmF9YkFeAUDw7KxttoifaVh9CmbQwGbwya6Arl6+MGT0GvXnqxKlXMa/W/rwW59JRI0fFxsbloHZUOdRyMaT4Tbl5vHLysrPysjPpZzZdhbTfvoPy8rLzdVTAlJuNkQzlZ+dAOAgrVS5KUpUw8tECG/7YYGdjB9w8ffI0Pzf/+LHjgwcN7t61+/VrN9Cn5ZsiE53eAJSZSYXyo0gvnr8AdODjbN3ijdnku80XIxDn+LhXcUmJSSnJqZh9iHvYoGUzDsJGJiR4o3BQVD86KnrokKE4CSEi43lTwaq9BqQBEHNP0OLeW7wRtfv6+G7z3laLAtrW/b4OnmGH9h0GDxyM+NPH2wfl7tKpC5zVrZu3em/d5r3VWyu93RuRli9djnjw62Zfo0kxjn9d+6ub60AEZRjBG9ZvAJV27di13Xc7ovFtW7cRle3rg40+23w/iDBG30oL5i3o3as3xgxOhn+s+wOjsGOHjjgT/v77uu3bd+zcuUsj7dIuVBzaTbSTagcVW2bb31m7y2sPtEujnTt3a8SXhV27qVQ7d+zasX0nzpSIoPv07vvL2l+xEed50x6mLb5rgXP+7/9dt2XTFq02b9q8aeMH1mZo02ZWHswdzLXVP62BvwMX1cN99OZNW+DHtWrRCl7q+j/Wb9lM0rAhhzmoM/zICKTiv6peQASESW1s1BWw89vnx/Omgr3pIjQF0IL5C7t07mLUxRiMYNcFWNhfGyLRJoJGRF4tW7SEK/hjmx8dHZzsbO3atW2H1W+af0OCSRLK0rC5XPzMFhqPrGx69+wN7/ef//vPzp06o9Zw5lHN//z7U9Qaq/TilB2SWVlYsXYm14CIyGUyK3YpoZ6lc/mj5kL43Pzr5v/+5N9GXYxQC4z1r7/6GlMUvYyOQzXrV+zaX/XS26VyOdg7ODs6ozpffflVi29boGsQxaCy3zb/9pN/fGLU2ahPrz4D+g3QCj5gv74fWJiz/VEYeg2XTVucGxAwokc6d+qCKsD9+dcn/8LsQxr0uPaCEbw8uqBZZdcx+QV2FbUaYV9yyQknHjgup0+e5nlTwaoGEBH5a1xGWsaxI8eWLlkG0iNERADJhOX31/Sp5JIBwk4sg3HAjamJGY1UZ/U069m8WfP27doj6mZXfLBxJomrmWaSi0cINnmR+LyBC+Unf681MQOA0DdTJk+BHwQkffH5FxjE48aOnzN7LipLquY5Q3vZhQbV9BpQhQzrXuTyAWtw7RWECirbzq5zQaNGuoOwYJCzkzO62MrSCtjFWJwwfsJML/Ri+UtjjUdzZs9ZtHARqgOY4pwxYdyEuXPmDh86HEO32ZfNhg0djnmh24Ck79CDDUOYaGxceYzyaNXy+zY/tMGZHj0Lvnz26WddjbtNmTQFZUb3zZlFLrPCoeOvumKVinRuhTapRth3xbIVcBIDXgTwvKlgbwrByE1AKqFAiGS6Kiosqi2VFJWgAOlpGZiQ6NrVq1YXFRYjUl22dBnwPG3KtLzc/ML8wrzcvNyK8XlOXl5OZdsbpNBujx4+wpRu8V3LfXv9sjKyXse9xoCGm7Bm9ZrYV7GoIxGpEa0UL7aap5fbB1BZkcpEruHQKzgoYX5ePhsbt27eHjtmbO9efY4cPhIXG/frL79aW9lgfKckpeTn5iMxX9PGJlQQYxXBBc7ww4YOi4yIxMQ5dfI0YkyTHiYP7j3AMC4qKIIKITQGr4L8PCj/g6oAxUDB0E0hwaE4McDv27ljZ1Zmlr+ff/du3QGXlzEvM9MzMfww46AKObyL0AhoInITXBVWOYDIn+GpmBNEVMcmEoqAW1cXN8SoWEUZfl37K5xenGH4oyMcpEzkpXHQtIZVbOeLrZuywQiFjIqIWrRg0fetvseolcsUGBM/reIfRkVH8E1dldhfBqoXDqS3pe5FxwmJ1rUWGBAIX2BAf/ML5y9gFG7ZtMXB3hGnRPQyvlWR25hJdRqfqB08cNDF2QXObEY6eRTj2tVr7qPc4clGhEU0gtdx0IsqQwYNcXVxPXzosFwmP3P6DKKNZUuWAVLoGjJQUVOd3qxTqwRA/I2MmpnMN32dFkjNFRcWgzWDBw3G6QUblAoVTptvCSCynRZbqSYl12KIZ9PbiO2uzURv9R2FQuoCSMY/Db8KJ88tm7fA72MVqdKQAeuLSkVfXoMSlvshvXeQ7tMKetJ8A2kLw5qdfas1A4AarlUFoKXL4KzhW/4GwPoyfQDJdV/HwaYNa3q9ImnG3/sK+dCbvuEL6AIIBdACiG8OjHtWJDriNcskJQrMl5lQCSUHgBiDkIbQBwd6SwapyAPRZSDTzZNl+y5CJXQBJJVIs7NyVq5YadLD1HuLd0lxZY8C0vbhpdtu+kI3aer+XgDCvrSxKsuE55KWQWyjAUCNC0AqDoEwJpqrs74HhDmITsRU4mdcvViNAQTpluoN8+FtRLPC0Jw3d56bJgRDGaoAEJ0HKiUnl3NSGSeRcIhccvO4wkJOIOSkUk4mI18pFByrguYoFFV0d0hBd0dKpEcOYjEnEXNS+pYrhVStkoGIVORhbI0/RQBE9kWDkA3k+Ug5NpMAhEjTXGQTWo9t1BMqUQFA2SuWr4AHtG3rttISAammnmEnzYQneFERg69DDUsEv0xqFarMykwqzsrJRNtB048kq4pGOII8aB3pM+AkNwXyJP4kETkqFQ8gPjcKIPodLarGggKCACDz/uYXL1zEsIZ/ZwBQAzEMhuSk5EEDB6MKhw4eght++tRpM1MzAIhdBPgAACoqLMLoZy+lp9eA3gQgOivKtr+nyOgnT5+CNaDyls08gH5Z+6udrd2c2XP45kAyMp3oDkoZV5jPxUQXnToZv25d3JIlMcuXpWxaLzl3louKJDDCQNd9MwudM5gnxK8Bm+QyTlDKpadxQYHqy5e4v85yN65wIS+47BROWshxQvJmK4WYU8jUCrlKoVCByOgVYIu8x4E8PS1FzMiRX7wDgygG2OzV0IdSgq6ViRy9CgCZmphu8/YRlGoAxJpXI54+5J0VKjmPQ5o9yqeSCqWCEnGxQFKikIs4pZQwiOyDFiToKSfW1FWYXAFjkJWRFwdCagmnlipVMrlajoagUsoJk2hdNN1Hqg/RY2otkALIwtzi8sXLCK5xUnkvAOm0xgeQXkk47sD+A85Ozh7uHun0dRzlASQlKRqwEQAlUgA5lQPQ8qXkaXgkoKdP9Chf2bq2yn8XjEynslNeudYnptcr7ymaG/yv2bNmo1/hruMIgOAva3+pDEBKkrokX/HiSea2zVGTxkc6OST07Rs1oG+Ek+3raZNK/PZxEVGcUEzeAVPeSC7k3M1xRfmq4ICSk0czf/8ldaZnzuRxybOnpf+6ovCUn+LlU6k4hVMXcYpSTiHBpFNRBhH6yOmbr3CGUxD0ZHOEQRKUiM1AHkA8gVgn6glHriQEW77SzMTMZ5sPTgCkbDDaINrGYfRB9pj8UoIAAkL6ihuZlBMXCPNCYoJehD1NTY1TS4pRZjK/6Q70RTt0gYmPofAlDw1dsSiW8As5KIHvYrkoVyLKU3I4p8MzlGIT2pQUgO6gLSGWUTVsoC3LmwZAllcuX0FoiQDzfQH0oUy3LzQlOeCvBVA6VssBSNxoAbRsObsIgAQUQLRH677la/bDhEysQEx6X72PYGoOBZg5Y5aTo9PmTZuxAWX45efKAAT/Ra1QxUal7Np+f9DAp336RJuZpffoHt+jW2SPrk97mYVP9yw5c44rAj5Y1npGswoPzdjuGzlxYoidbVSvnq97dAvt1SPAul/QxFEZ/j6i8EdcUQYnF3AykVouUSplSuCQ+EH0bZ0KOBfk5Z7wlOCxSNUoDZ2BRBry1BhAOfQaELrf18cX7U/KBtNpXpyIIBUOq1YjOKRODpm/ck4t5JR5nCS0IGnduX0rjm458ehiYn6SSCVQqKUqgimghOymAyDm6/DEqSC0LgoJxErl6tLUgsSAhIAncc+zlfDLRaUkTJVKeVcIiShv+YxJC1QKIEtzy6uXryK6995qAFBDMYzLJAKgQc4A0AEKoJOncQqkACJvpGrAAKojwRiAvMhzfW8AEKInmbjg2sWgWTOe9umX3LtvXq9eYtMepWYm+aYm0cbGD23son76lXuVQN7uW9EwLQvz8w4fjJg4Mbxnn0Tj7oXG3eRdu5aYmWT1MQsZ0PvF2FEp+3ZycVGIQdSSUqVMBAApqOibThCkkCgQIRhmEtwfGZ1+GgbVBYDIXIfkKkKfUk4pRiXo67nyOHWkuOBg1EPLP2b2+m3yrKPrz0fdz1IWooEUCpFcguS6ACLXlZlPS3FTQSRbtYzsoM5T5l+LvvfLnz6L9v/2IDM8QZlbQH4wQqJQs3BMCRRKiMBEFIxWXx9A5CK0AUAN0JQKVVJC0kC3gc6OzgcPHMQgPHXilCl9IdlHDaDSklIAyNHBcdPGagEklXLZGYn7dj4eOjS8u1l+j56iHiaKrkYyYyOFiUmGcdfHvfo9mz6be/iMKxaQ/bSHYCYSci+j4lYuD7W1S+ncVdS5K9e5C9elC2fcRWjUKb2X6VPz/i8XLVLfvcXJhJwCc1isUEkVSqlSiXBMQn6uRa4gkkGIgegCVsk1b3rVFt3LX7itNQCh1tgZmSK4EnL4JJBA0iSV9HR8yMTT3l02T/th03jbXQvW3PQLFiUWcCVyTqgAqchbRYnjQ7NC8xH6VA4gNC1HQjwhJy3ihKFFsZvvHBziO9dp/fTVV3ffyA5N4wqFnFCuFtNL93Ixp0BJBJxKDGYxH1APQC8MAGqgZgBQBcEAoGItgDZhQ+UAwgIAlJ4S67PloYtrTFezkm49ZT1MlcZdpJ06yY2M87v2eNqr/+PJM5T3HiMKk5MLG/QQ2nYsLOBu34yYMjG8b9/czsbyLkZcl46ccQdIatQuz6xbsJnZ68nT5GfOcCX5iMJUCqFYKZYpRSppKScr5YpyudcvhXdu55w6k+V/KO3gkYJzFxXPnnOpKZwY3okMAoDYn4100cOE478LgDTQQB701gByGbiEU9zPfLXm7jHL3Qtb+0xs5ju6o8+EQceW74q5GMtllHDFIq4Ujhr9exZ8H2RVvfsDJijlKkWBWpjI5R2OuDLt1K99vSf12jTOdfe89QEnngpeFvG/miUChiScVEAuksEpg6NInCBSOW0jGwDUgM0AoAqC1QxAJDFOwJnpyTt8AgcOTuzWS9Ktl6q7qdqoi7JTZ1Vno9JupoF9zJ9Pm809eg4AyRAzAUC6jZibw/11JnLEkFdmpkIjI7VRJ86oLWfcBlIZtRH06BLbo0eW+wTlwUNcfiamGOIeoRoAEhDPoCSbC3+ed3BPzNKFwWPGhrkNCxg6Kmzy9Pi1v+b/eUYZG8lJgAUJfUt6rQGIiFw6JoggIn8jl8uVkgxpvl/QJY8TvxjvmPr1nnGf7HP/asfITnsnjr3867XSwBQuo4grgh/EIaiCcwOQVXf1B0KB0eTSNHn+w8LoxVd97P1md9k51mjHWOOtoz3OrT0Yfy2FyynlSkRcsUJdKiG4lZVwSvhBBgAZAPQ+1rgARK8BFRZknTweNnFyTC/zQrP+JT3MRN26ibt1l/QwzerR86mV3fOFy7iQCK6oRKmgL6PVbcSCfO7GlRfuw0J6meZ36yrp2llu3E5p9IPU6AeB0Q9Zpl2CzHrEjp8oOn6UK86hf2cngRa5IC0q5l5F5u/dHjBy0DOLPsE9zWLNekf37h/Us98TS5vnkydm7t/FpSVwEgH5iz0PoHKC4fjvAiDSFwAQf2+kUi0ulOc9Tg9ccnmz+d5pHXaN+cbP47P97s32jmy1a6TZnonrwg8/FoVlc3lSrpT+KV2ujb80JNRFDxHylarlJQpRSHHitqC/Bh1aarJzUvu9YzrsG9t2+ygzv6mLH2x/JIpI47KKuXyVqkhGbnOQIkYVw+Vjf5hHmXXa2QCgBmsGAFUQrKYhmIrefyhWBQelr1sfZOWQ2McivWffPBOzHBPTzB6mkd1MAkd5pPjt5/ILyaUZTDryKwdkb94kIi7xVdzqpQH2VvHdjIrNupUatZV0aV1k9EOm8Q8vzTo/tOqX9MsaLuQ5JytiACISC7jMzHz/A5HjRsf07pHWo0u2cZdCI6MC4+753cxSTXs/MTMNH++uvvwXV5yP3iPBDgGOPoJw/He+BkSvKENKoao4pjjm5wvrnXZO6Ojj1nrXoGa7B3++Z+g3fiNa+Y/ssGPkwOPzdr08E62IF3PFnFpEnCAcGj4UyYhcrqF8JEOM3PZDeSQn17ZVadLCM3GPhx1Y1cN3Ssed49r4ebTcM+K7XcNa7Rzudmqxb9TpMFlsrjpTrSxQqgUytYTcpEACNx5A7A4HZgYANVhrOgCqMg0rN6S3vSrBagQgzGucquXkruW0VNWlK5mLlkc5DYw2t3rdu29sn37xltYRDk5pv/2XCwjA/vSOIWq6jYi5JigQnzsRMWVcgGn31z2M04za5xr9mNy1bXS3do96Gz0ePzzjqB+XFU/uRSS/8YvxJEPhuLuP4hasiDC3zOnUTtHpR1XHtqp2P6rbdeA6dpV0NH7dqdMrG/Os39dyOZl0qlOPA/NMV7Q87wog8mcstVSOnLPl2edir3j4e5l4gz52P+wf+J3f4G/8hhHtG/L9jiHdd3jMvbf5Ru6zUq5IpUYURv5wT6SmdzCwuyrJECsjkZRT5HOSJ9mvfr57qJePZ7sdE7/f5fHd3uHf+g//ct+QL3YP6r5vwpSLv13Le5YkT1Io81TqUiX5oxi5Z5ZkZACQAUDvau8HIBjrIVZWPZVPX6VoJjUDELkCAg+IKy3i4l9z169nbdnycv6CqEmTo6d5Zq36qXCrN3fnDpeTRa6VVAogmELKvYpK3bkzcMKk564Dn1laBZsPeG5r9Wywy9PpE17t2VoQ8pATZQM9KvqndsKggvyCA8eDR00O7dG7oGMnZccOyo7tFR3aqdp35DoaC9sbJXQ2iuzfP2LObO7VS7kMQ5DUvww9TO8HIJBCIpOUykofZoYsvra57/YxP25z/Wa347f+g772G/LVvmFf7R321Z6h3+0Y1nbbCMej8zcGHI0SJeYr8iXkT2dwgujvj6rgrxDR+30wytjf7BBJyUOFST4hfw49vrKj7/hWe8Z+u2fk1/uGNN8/9Cu/QV/tGdh2+wirfV6/PT/4qDg8h8sRcKUy8lOjFEAoHR2uuu1sAFCDtUYOIFYmJqwy0yul9tsaiu5SAwChUcgsog8c0L/DlORzKQklN2/kHD2ed/oM9yKAS07higo5iZA+1QUG0T8A6RlCs1KBNDQy69ifUf/d8mzOkmeec58vXBq9aVPGhT9FCRECcYZUXajghOQaCmNQbk72tj0hLqOjjHsLO3XnOnZRduyk6NxR1amLqqOxoINxUpfu0f0sgqZ7CZ4+FQk1T1TQqytlej8AyVWKUqXoZW6897OT/Xd5tvYd2XzHoM/2OH+6x/U/ewZ9umfI57uHfbl7+De7RrXe7tFx29jRJ38+GXfvlSitSFmsViHAkqqVUhX5I52MfCoRWtKIjPKohBMfj7s15uLPxrvGtd47prm/x9f+I5rtH9Js/+Bm/gOb7xv4/fahnb1Hux5cvC/2Wpg8KYcrFQPQJKBDJQmA4PbpDgMDgBqsNWYA6RYIC2xLRdPdpSaC1dADIo9H4jSO8zl9XgkYkok4QQmXn8fl5nIiEfkjvYJ+Sx7LRLxGa6FXSGzBybtUSv6qE5/OvQgX3XogffKcS0rmSgoQdsk5sQz0UZdI5YUqRQmnFgNqxf7HggaPDzXuU9zZRNW5q7JzF0XnTspOnZUdjUvaGyUZm0b1t3ox1VMWHCyVkDlGiqvS/LYw0fsCSKZWFCuFd6Kezj+5qceG8e22jf5x+6jvdw5ttXNoy50jWu3EsscPO0e33T6uk++EbtsmD9y9+Jer/pHCtEJOSG6cVJPfXmdiGFIqpBBrz1Rh5u+3/az8ZnTwGd1m34QW/uNa7B/dYv+olvtHtvQb8b3fiDbb3dtvGd3P12v2xa3nUp5m0Ad/Ndez2f/l2tkAoAZrTcEDwrcoIltNiE+4cvnKgf0Hrl25lpKcgn35cuvuVb1gNbsIDabQmYzi0VgMp3HEU3KcjIEeMYpFno6SS2m4gWJoWpDuXWbgAH2glDzPLpKSp8YKC7j8XK4ojxMXcQqBjBMoVaUc3AJpMbn3RyniSorll24ET54b0Msy29hEatRNYWSk6txJ0aGTrG0nsZFJYjezCAub8HkLuPh4JQpA/vIN/wslZGL3KFYGoGweQD7bfAWVPQtWBiCVMk9ccu7xzfn+fwzZsdhu5xy73TPt9k632Tvdaq+X5b4ZlvtmWu6bbb13rv2e+c67Fo3Z/dPKEzuepr/KVQqkaplYJpIrJMz3AX0AHbaMBamk5FHUswVH1g/w9uzmPbnTrmk/7pn8456JP+4Z13bPuHa7x7XfNb6jz4ROWyb22zZzyK6l3o9PR4nTS0Fx5vrQEpLS6rRzEwfQ/gOYvYBOWmoaVg0Aeh97l2tAKJ+KPmkVHRW9aePmMaPHTpww0cN99K6du17GvOTLXX6X6gSrKYDohQswSBPUKFQKiVpeSp58p8++k2vPcvK3IvKHHz5vbSNq/qVf8CvkH/KAmUoslZXIZCUKhUCpFJIbfeUi4l5J6YJAwIVEJv7uHT5weFJ309Ku3aRGRmp4QB07K9p3EXc1i+/RM37Q0NLtO8h9Rjx0yE2JVFoGVQSQLCc7VwOg8k/Ds9IzAFHBUSmUip+/jj729MaOJ+e3PD619cmxbU8Ob316eNPTIxueHV3//Ni658fXPz+58dnpzU//3PXk0onAeyE5qZkyoUAtFytlCnoNSFcEw2pZSUnuX3cvzN7zm/3WBQO2z++5e163PbO77ZnVfc+MHtDumSa7Z5nunGXqO8ti+/xhe1ZuuH8isCChhJNhlKBoxPdhKmvfpgsgagCQkwFAtWR/K6Bvii0tKdW8jkNGAISzLhn9vMr1AesSWrKrV656TvdEZZYvXW7SwwQkOn/uAvlCr9uqF01fcwARvJDwCiJ+kFItlalFxE8Bg+QSEpepMQgwu/A1n32lBg+JTG2SKWgqkytFYJBcIVSqxOSv0uTBCwl96kBMngPPzsq/cjVm6bIAW/r8avfumcbGaV27J3U1ietrHuw2KGH1au7ZE/IHe+L7UO4QH02rSgAkk8hys3NXrVhVCYB0RVsJHSKCEyQVJYkKXgqzIgVp0YLkl4LEKEFCmDAhWJQQIk4MESeFCJMiRGmRgvTYkqwUQUG2sKRYJkashUEFR4X9IYw8V6+Wk2V4g8B3Sf69Z/f2XDr233N+ay76Lb28d+GVPYuu7FlymWkvtiy9tHfZxb2rLuzbcvP4+YiHrwrT0S7Ikw++mFBUjTV1AB0kHtBI97QUA4De1/5WkFdQWFCIY8MJwvhAgeQyObm1g3r+vHQdIh0LCgw699e5e3fu4UyOAYcuQZXIF3rdVr1o+poACCVh98KQd1GQJ7AwyTHVRWplMScp5EQFnKCAExWS0EmFgS5BhMYYBOm1JLYQmqnVCiWZjWrkqJYKJcUyHkASAh1IIVaSe/kknLREnhKX/efJoDkzb9pY3e/ZM6SHyXPTng9Mez0fNCT+9/+KHt7livMJAVlsSACkF4VVABD/StafzEzMtnlX/UIyWgG0AeqC0U0FxJKn3ZX0pWoCEjoKSzmxkBOXqASIQiUqqUQhJXggkTIBLRXxXVEq3gNSyxGCKRUShUIsU4iFCmGRQpCrEqSrSlPU+BRmqkSZShH5VIkyVMIMlSBLKchVCguVIoFSip3prU46Y0OniZs2gDDInZ2cR410T01JxaoBQO9jbw8gnTJJxBK4ThnpGbdu3GKwuH/3PvlCr9uqF03/lgCiz38qZOSRAGGBPCEy+8b5pP27E3y3xO/xLblyjstO5qSFKpVQqQZZyGUfHEfbnljGFiLiUWEiyRHikEdLVRKFUqIEfYjvQyayWimRqAEysUIlUIrzuKSX0rs38/325q37vXDp0oxly/L/WC85dgwk5gpyyQUpcvlJA50yAFH6vB+AaKxDfBh+Iy/8j9zJKwLg/pEHZNXkz1t0Gw5Kb18kDNKVBkDk7WYAELkarULJyXO2ZFWmkmNdgSEI/xJ50JaWk0dy6VVrJfmWvBcNdNN1fyBaNGZNHkBOjgDQKAOA3t/eC0Aw7H7l8pUpk6ZMGD/h7JmzOdk5+n32RsHKAOS0ufqn4dlMJrNFwkkEXE6G+NbV5M3rQ72mvxg0KNjFJWjokFjPaTm+W7ngJ1xeMicpxXjXDnhWdnxqASQnc43cFIM1+hciLX2IsCpViWVqsYpEeYBdPpeTxr2O4cICuWePSMwVHsolJpB3MIJgpJUww+kVaCIKAi19AIKKAMrVAIi8kpV0v76hrLywO/OB+OvrrBYyDg6bPEdemFiUnlCQVqQoBTHI+4I09/5oRMtDi0f+PEelUsopgGQqtCdfVHQ8+eM6aSzWRrThsB/IT17HRl9LBPcJg4KUAoWgCYiwrLGmDqBDTo5OI0eMSklOwaoBQO9j7wQgjQSlgmtXri1csHCQ26B9e/fFx8UrZAp6wUGnzypKJwciGABEX8dR7n1A5I2I9nNm67wTGguYycTFkHDiYi47Vfn4XsJPq6LdBkX37veqg1Fqh67JXU1TevePHDgwbdPv0sD7XFEWEpMaaI5McyLLmFyYVFK5nJRYKZdIhHnZGRnJidkpSSXZWSrENOT9f1KpSiIjr51AbCVSKUUKpUilEJK/jkmKOGkp8XqQN2Y8xF8vo/OViUcPpQ9mnT6A5Hm5+QxA3gAQ7f6qDeWVkJegIfyiRwQLsAK+FnGy6ILEyyH3Tz+5EZWbVMKJ5ORPVGISOZJ3eNAQkvAIDEKp+D8jUgCh6mAQfXsZKyejJzwt0jpUlEE4IIE1fR8kZhi5wIYRUQ2Amur7gKhpADTSAKD3Ny2ASvQARM6UlQEIy6yIqAnG2cwZM/v3679sybJ7d+9FR0ZnZWS9G4BwdF0A4dys/V0wHkAwsjumEAVQYS4XEhi3YX3gkGGve/bLMuld2KW7GOpuJjDpFd27z00Xh4xDe7nUBDBCTqYUf2QYPrGMyYWpSP5+Lyjk0pNUgc+yz52O8dsRt39H9sXTXOhzLiuZXFFSiIjI4woSpUIiU0plComKvz6N0caXDTNTQic4jx4mwh0Nfd4XQNidekDkQjJZk5LnwkAfeTpXcjnx0aozWz391pwIu56iyBZzQgVHbj6k3JHRZ+IpVtCU9MoNewgDBgJB5GWPpJAoM/xBqVwtEytlJTJJsUQiUajg24HUKD7xrIhzxQurpGdIlXUal5oBQA3WGh6A6F/BSopK4INQAJG/gmFgUgZp/CAdAEFkGFMA+fvtt7K0+vKLL7t07tLVuOvYMWPPnj77bgDCMNVcA9L1gMqHYDg0OUsjoJBwWRnqGzdfTJgSYWGX3613qZGJqGMXZWcjlVFXpVHX1B6mD/v3j129SvL0MfKC50BO2vTgNCd6gsfpW0meNVVHBmbt2x7jNeWZi+1Duz6PHXreG2x5b9ygHL+t3MsQTiYgLydTwquQKDEfEbPJyYxVk5lL2olcQFJxMkQoKB6yJm1VUfyx3xFArKF0hZhIoZYqVDmcIIJL/f2J3wj/efY7py+6tDFUFCfgEIiJ6eUn4tSQa9HsbkHamfzzF+SJDPKSR/KeRwXagxo8QYVQzEkSxdn3UiOuRD5NEeYLlDIJrSO5/kYwRf6KRhoOyWlJeGFZY+xXMQwAaoDWaACEgmKQVgogbIeXhLZ++uTpfv/9mzZu8vXx3ea97dTJUxHhEW8GkJ5gNbwITSYQZpSMeEApSbITp5+6DIntaS7pbKro2FXdoTPXCeoCFXc3CcKAmD4j7+JlDlETmy2aAyI7CiAl+QtS2uvU/dvDx4+K7WOW3qNzWo82mT2/jzfvFGLdLXzi4KJj+7j4l1xRAbnHWgYGKdTsPj45IhhydVaGPJQ8fTA5SUm19aqoWgUQBN6lq4vOZT0ae3ZZL1+PbjtHDj02/9Tr6ymiVBknIvSBz6Rxv5iAXXaZB5IrVTIqhcbDwZcyTppPXKpnS6/s9vT/7XzkwwxZEcENktAQDeMB+2ILphp24qvGSqUxA4AarDUFAGELzptgUH5eQUZaRmpKalpqGpSbkysoFZLTqU7iNwtWIwBR+pC/cEvIm7BSE8WnTz8cNDSq94CSLiayjsZcxy5EHSDjkh49X/TsGzjNK/vCJYABg0JzNYMXoiUZopKSQunN65Hz5gSYmycbGQu6G5f26FBi+kNOzw7JvY1CBvR8uXBu4aVLXFYWJ5ESN4LMPAIgcl8g+/MQ6EN/L4O6BgRAgEKV/H2vEExnPNAlfMjUXIQwdd2Lw7YHPI19R3bcPdJ876Q1t7c/ywopIS8DggdEI0HSfbQHKcRZcE1F3FgI9VJJCF7lnLyYk7wojvvl/hGrXQv6rvdcemnP3ZyYHPIKAiSllQSnMABoLEZ6hlWNLxlvTfal9NQMAKpFe3sAvalYZJhqE9dEsBoCiFxGlZJ7fJSl5K9Rd24GTZoUZWGVb9RDCgB1MuI6GnHtunBtjUq69X7Wq3/U4mXCuw85Obvljj8aFsjtd5xSCk8qNydj2/aowaNemvQRdjXjuvfgehgpurYRGbUV9TBO6tYteOCgpC0+XEo6J5WRlx9TAJHXINNb+ZQaBgG5bG6SdqIMKqudrt4PQMgAhSdGuwDLBRLx9ZTgCWd+Mds3qeNu9zZ7R3Td7u5+cNHJyKsp8iz4MsRjIX+Mow4OKwOpv9Ydop4blVos4yRyISdN4Yr2RV4bemxtq80TOmydard36cbgC0GCFAEngeNH74FgvhLJgK8pLY+uGa4BNVhrEgAqb0gAhwhpsJcCC287vEgWNQYQ8f0l5DdpJEVc4quXa1e/cHF5ZWKW1c1EbNyDMzaRduwmaN81waTvzQHWqT47uFfxOFOT6aZzQAIglVICZyo9I2zxqij7wSlm5jLjXlyX7pyxkapLW3nnjqquPQpN+4Q7uMX/up5LSAGAhHK5VAoXQU1+EwO+B8EQzyAWm/CXnomXoXMwXb23B0TzIIYmLlXLIvPSfF+cN981o+2u0S12DP1qh1vb7cPNfSetur79dnpQISeSofKINHknSJMFQQ+TFkDs3k5lgVoYIktbeH2n2c6ZX3iPbrVzUoetk0af++N4woNc+sMY5ElgchMW8kR/EAyR+lYYEh/Hn+ENAKoFqwUPiFwbpgnwydLzy1RlO1YlkkXNAQTHH30sJg+L5qapH92NXbk8wMn5hVnvl917JhqbxnYze2XWN9jRNWH1Wu7JM65IyADEDsXKjvxQMynIkZYVsfTnCPuhyT2t5SbmXBdTdZeuys4dFZ2NlcZm2ca9gm1c4tb+wSWkcjI5yEdmDkUPFftTEJngZSIVJyqrna7eD0AaQw1QGEmasujPV0/Hn/i9286p3+3xaLZ76Od73FrsGmLsO3rokaXeAWdeqfIKOLECBSWeowZDZfTRAkiplitUcjnSJEnz/MKvDj2y0mj31K/9x3/rP+HHvRN7+89Ycmf3k8KYfK5ErBKQh+MUyJNkiB4m3iUdq7pWOwBivaWXdT0bjq5bJGoGANWivcs1oHIlK99DBDp0eDEq6e9YqWgmNQMQuQxDblkmThD59U4uL0N263rGhg0Rk6cFOQ4MsXKMGDQsabpXzvoN3INHXFYOfW0WmXo4S/NFpgXG9JHDl8nIS/htS6TzqFgTS0HX/orOZiojU0UnI0mHrgqj3rndBrwc6J65ZSeXmsVJZFIUgAEIY4xcleUBRIMajfSqpqfaARAOI5FyouDShPVPz1juWdBm96TP/Tw+9Rv6bz/Xr/YMar1jpMmuqTOu+dwofpnGCSUoqJLeV0n8NP4iTiUAUisFEsG95BDPE+ss/Oa295/8xeHRXxx0/9bf/cc9HkNOrdgVfiFOmVnKlXJKMEjI7irC0EBjoBm0w4FZrQHogxsdLWWiZgBQLdo7AQhihWPS2U6gU8PhpRWsRgBC0+Ccq1CqyV+faCxGruRw+TlcaHDhmTOxGzbGrP0lxcdb8tdpLjiAvH8e8xQTjM47EiZoS4spjDACAMorKjh9IWjq7Gf9bRO69c4nv/NjVtyla2aXbpmm/eIs7ePnLio+d4krKOLEYgV/zVml5wHxqgcA0WbAYdTkFfnF5xMfz7jk22OHV8vdEz7z8/jMf9inBEADW+wY3t537JCTa3a+vBXNFRQD1kp61xJFBsT6FNmQ9iT3W5AnMgScIiI3xfvBGcvNnia7p//oP+HzgyM+OzCsmd/QVnuG9/Wf7nVp08380EyuQMEJFEhObobAOGXdoCmaxgwAarDWVABUhQiAapyYF+wtAITGQdGwxAIeJbnbRSElrwQqzOMyU7lCeCv5nLiQE5aQRzVBHyRhTQnhcJQ+mDTkEVT4B1m58Tt2Px7pHtHPPNGkZ2p306xuJvG9er+0sYny8Cj09+fi4sifgMQiEvewP3rxDKpfAKHwLH+0DVfyWpSw8fExp4Mr2vtObr573Kf+Hp/7D/vC37XZ3oHf7hreevvo/n5zZ9/Yfbs4NoMror+NQa6hY1hhdJFepQMMPUzvA1II1PIkefHJyMcTj6zrtmFiW5+x3+4e+en+wZ/uH/iV/6AWfkM67vSw9p+zIfhUiDhexJUqEQKDPMQBAodI7WkPlZkBQA3WmjiA3kWwmgKITCCl9qXq5NIyCEQIQx46VUoVCrFKJVSrS9UqgQrnfAQdNM6oBEAQpo5Ezokl8pDgnL174728Am3tAgZYhA6wCBs4KGPJYu7UCe5lFHnjolTMSRHKkB89/pAAQjsggCLvKCq6m/J07vlNfXbP7rBr8rd7xn7p59HMf/jX5PWpg7/bPeL7naONt091OrBiX+zdWEWOigSiJBaFC0QeRSV3FaLdSBAmp+9GLObk9zNerbhy2GLznB7bPNvvnNhqr8dX/kNAn+YEQIM77PbovWf6hNO/Xkx9nKXIlnL0XfdKBc4BrOq0h8rMAKAGawYAVRDsLQFE6ENFb0khm9FgtKzYgFM9eXSLvu4PG1kQRluSNSg7KJt/UvpTwwV53KtX6rv3svcfzNqzr9DvgPDsX9yTp1xiIldURF4vTR5MhfsjJx4QuWii+zyCRsgQ0laqUr07gFi58a9cpC5JlKRuf3DE/cAyk+2TO+8Y/+Ou0a32jGq5d/h3+4a02Dvs+92j2uwc29FnUs/ts7wu+t7KDC9UFIlUIvIndNJ+aCb+sjE+0cMyhSK5OM/71p/Ddv/ad+NsU+8ZRr5T2u0c22r3iJZ7hrXYPaTV7iEdfUeZeI938PbaeMs/JCNcAgCpKIDIZSACRj2rNQBp9aEMh9YtEjUDgGrRGiGANPRhIkUrE1axDSd4+iwJzs8ESIQPOE5ZY7JRBdeIvMQCZKF8EUvFmTnC9CxZVi5XWELeDc3/7jtmLkT/9sxftdUASBc9dQggvrj0AOIsada91IBZR36185luvG10Z59RnXyGt/cd+sOOoS3I+6GHt97h/uP2Me19JnbeNs1m1yL/8OuJwgwBedE1aRC0ErtfCYYFuUIllkijMlOWn9pn57vKascy852L+u6ea7bXq5vfZCP/CZ39x3b2H2Oye0I/3ykOm6cvO7HhzsuHQvIMrJTegIAm53PTtdoBkFYV8q8/Y22vFTUDgGrRqgEQncIfAEDVvY5DF0CkUJWIuEIQ/CQkB4CAC0aGMmOjip79VXKZSiZVw7thswJJy/5IRDwEyh1GHwogspHSQCuGHiZWo6oEAEVGLVoIALU+/dYeECuZJLkk/c/gm1N3rhzkPdtmu6fN9qm22yfbbJ9osXNi310T+++cbLFzus2OmbY759ntXDzId/neJ5fiC9Nk9KIx2ofck0gFw6pMrioVimOz0nffurjwrN+8s7vn/Llj1l/bvM5vmnZh3ZSLv02++Ovki2s9//ptzpl1S06s97nq/yTueSmCNuWbAWTRlAHkrP86jl6NDECoQhmAepguX9pQAESehmcAguoZQOVex0EApPM0fHkAkRJVLnxVJpSdnPd1W5I1KzbhC/IDWQqVTA4Saa7v6EhKt7Cb9Ah6KqMP9JYAWrxocevvfzh9Sg9A3iXFJbR8VRmqo1CoZZmigkeJ4f6PLvg8PLXxyfHNj49sfXzY+/HBzU8Obnx6YNOTQ96Pjvg+PO798PSWR+d2Pr5yNz48o7SAPg5P2kcLIF60QiUKRZpE+EpcHC3KjxBlh4szwiQpoZKEUMnrEElciDg2TBQXXhoXWRSXIk4vVBaI1UIleSJPwYJcSG+gAkBTJk+1GGDRVAFE34ioCyCPPr36RIRHNCoAOR3Yf4AByKSHybKlyz5uAJV/HQcB0Npf7O3s582ZR45O05QBiJWoBiLFB4fI/tRYm0I4LqYBE4MLAw1/lYeKd4JYArZQBXe00q1XRREARS9ZtOSH1loA5a1ascrUxGzrFu/iomJaxCpNrlSK5bICmShVUhxdnBkpSA8Xp0WJU1+JkuNEya/ESTGSxFhxcqIoNUWYkSDKiZUUJkhLs2RiITxaenxSbx0GkVuqgFkVJ1FxYjUnRC+oVSVq8nsgpZxIwJUKiUoggaq4RFEoUJeIyR8OyfuGFBTsaFpyg1XlAJpiPsBcD0Dkp4fQL40cQIcO6gPIw92jT+9GBiBEGwf8KYBOnm5wAML8ZyLPWNBpjzLVkVg9yfuAZswElbds3oJiyaQyAMjB3mHBvAWsoHBjkJg5/ETlB0aVoonLmpG1KZNuOoIPDY90t+upKtDobKd3YFYuWEx0zLIly9r80Ob4sRMSkYS+EZG8lH7rlq1FhW8AEIomU6pFapUAPgt5FZlaQF6HqKSvvibv0Kc3CLKblMkVKkwFdp0KRy5rAVZ12izIEGhlf9Bjwi70p2CxI7nBgYKZSEEukknZxTB6OHJnFZ8XU3kLDKAekLnFjes34Nlt2bTF3taeAoj3gDC+NaLl00qbYS3qfayyrA4fOuzi5DJqpLsWQKPdR/ft0zc8LBzTh6VpWKZTeJVClZyUPGjgIAKg/QfkUjnOhQAQQjB2EYAfqxX7om6sWgDJiMixUSbmCtWBWPUEpYJZM2fhxOK9xRvFYgBydHBatHARKyixOmuFWjbWYRXFcbGvYlcsW9G2TdtjR4+JRWI0/k80BAN2iwqL6M5vMGTDAFjRmFv2tsaKxoacduBVaiwZDlFVAq0FBfJPw9++dRvjigFozqw5YqGYfM0OqVVjsyOHj7g4u3iM8mA/ywPIjhk9pn/f/vCAMGtYmgZrgD6KPXjQYEyuQwcO4aR++tSZHt16LF+2HHOQzMc6sioyrhxAKAfiLwXikfoZH2p4/CIACP3q6+PLtv3+39+dHJ0XLdABUOO3xISklStWtWvb7s8zf2I2I/D8adXqrsbdNqzf8MYQrBFZWEjYtKnTEIJhcsLR27F9h6uL6/x58yViOFiN3gAgZyeXMR5jcnNysXr3zt1xY8cN6DcAZxeWoIFbZnomAZC9IyqC1TOnz2AEAkBi0QfoncoBBMEHwScwlJmRmZiQGP86vo6UEJ8IRUVGwY+1GGCxcsXKjPSM13GvgR748JMnTobHiC1oNZQkg4qsvY3YXtg9K50ouwqxb5GsKmWlZ2WlZ2dXUFZaFpSZlpWRlpWemlmFMrIysu/duTdr5uwfvv9h546dGK/BQcEL5y/s1KHTksVLQoJDUpJTK1MalJycDiWlpCempCfQTwirbHuKjlKp0pIy0pIy05Oy0nhlpiZn4FuWnilJJ0NdYQtSpiVR0dxQgKSUtMSUtASqxJTUpJTUZPrJFvTKfOnCpXFjxg3oP+DggYNhoeE/r/nZxtpmwrgJ0ZHRCFuSEpO0QucmJ6VohW9Tk1P1lKKT4G2FfVEevQzfWfAdsjOzvbdug0M3dPDQgBcBmD5/nv1z5PCRxl2ML5y/8CrmFY6I8ZwYn5iakgqhRu8h/QK8m1inZKRhAKS8jn395PETuD+WFpabNm7CRMOnsZHxzBkzw0LD4mLjMNmhBMzL10QJTPHYRLbXROhWHCg1JQ3CQl5OHk5CPG8qWBUXoeXkbj8s5OXmbfP2Wbxo8dzZc+tI8+bMg2Z4zejSuUvrVq0BnYULFs6cMaunWc/vvvkOG9E0OHkiFkMx8NUCaOFbSrO0aMHCxdD8KkQT6Oymp0Vg4uL5iytqETRv0UKq+dDchZVq4fxF48eONzM1+8+//+Pm4gaPb/KkKX169/nqi6/gLKCa8+bOq0zz581dAM2du2AO1ey5C2bNWzCTasa8BV70E9sXzFmwcM6C+XMWzCOfC+fPWbRAIyzPm7NQNxNtViw3XWELkiEfJrYX25Elnj13/py589F1M+fN85pPPueULzNCkm5du3/f6nvMUvSstaX1j21+7NG9B5bnzpmLWKxMs+eUGw/IqHxWEDaWS/NWqizDdxbGIU4VLk4uHdp1wKT18vTCKmIxo85GX3z2xcgRo9CnGMyzZ86GkBjSy6Fmmj+fasG8BQvma4Xx817CDEI+c+fMmz5tescOHX9o3YZcmJs1G+eGb5p/Y2baE04rjo6hjpT4xBGpFpBizFvAqoNS0QFZlchcZlVgy8gH/m9gQCDPmwpWOYDYtWEsg4iODo6dO3U2MzHDMIKHAkAgtreoBZGsSIYDLDD9+vbp1/zr5p9/9jnCE1tr2/79+rf4rsUn//zkyy++7NWzNxJYW1mjpSwtrCALC8u3FXjPZAWZVyGdZJXKysLKyrxyWWpkMcDSvAqh3UxNTFt82+L//d//B7DCQehl1qv1963//a9/t2/XHt+S/CuRNWQJWdpAFpY25mWyHgBZkU9LS2trCyKW3trCxtrC1kYjLFtZ2ECWEE3MVD43XtiIZCw3bYY0MREOShf4hhyA2ltaWVohDbqGVAE91atnL3TfZ59+1tW4K/oOtWv2ZbNWLVv169MPq6i4rsz7m5dpAITxUF799Xd5G7E8a0eooL2dvVEXY8xYVLBfX1Kdbl27YRVj1aSHKYY02oKNbbQDhNW3FSYa29fGyoaXNWSLefHusrElmVjZIFs0C5tr6BeUH5//+fen6B2cC/EtUtrZ2tnZ2GGBCBvI0W1IqSzfVB06BojMMeAxqfu2+eFHN1e3o0eO8rypYFUAiP5kC7ZEhEfgxIWSAZx79+z13uLt4+3ju83XZ5vP+8rbZ5v3Nu+t3tDWLd4bN2wEdDq27zhk0BC/fX6+Pr7wEcBpDL4tm7cCort27tq9czc+IcQvO95GSF+m7W+SXnpd6aV8K+1AuXetWrkKXfvpfz5FaImK/7Huj4FuA9v80GbokKEb1m9EC1ehfVR+0J49frup9uzZpysk2EfFEu/b7edH5M+0j4jsrsmKF3ZkuekJX+3bvc+PCgssW3ag3eRzL4SCsQVs3LfPb8/uvXt2Id2+g/sPrlqxCueYDu07ek7zRM+OGD7CqIsRBuX6Pzbs2oEe3F2uVd8k9H4DEXrwgP8B+K2ADk7JP6/+GQMVrmvvXr1x4lyxfAUG9p7dexqeaGfRZdTil7W/dOnUpW2bth7uHr4+2yeMnwBflT2E4LPNFzXa7rP9PUWay3cHhnenjp1Aot27dvO8qWCVA0ghJw+cYxUAQsjgOd3z0cPHKqW6qJCkLCkuLSnG53uLZEVUXFSck5Uzw3OGg73Df3/7L8qQnZX908qfwNRJEycVFxaX4r/CYhwdRW28EpYKXzx/AW8WxDl08HB2Vk7sq9gli5b0NOv126+/ITgnFaxSqD5UAhVS0VW9NGVCcxUXlJRohOViuq8mH23KYpabnrC9GH2NgUGFZZa+UCNtDuRARUhM8sTAQLSvVqofPng4ccJEnGlPnjiZmZH5x+9/gD7YkpyUjGEmKBHgE31aQ2GcFDcMYawKSgU4ccIPGjliJGaHUCA8e/rs8GEj0ImYI6gsaY2GKvQRJlpQYLCDnQP8FJwMUCN/P//u3bovXrQkIz0jLzevIK8ATHhPsUmN4T186PDBAwfjEDxvKliVF6EBILFIHB4ajmAeGu0xevmyFYgkWUz4rsGtvhBSsphzzuy5Pc16tv2xLby4ZUuX4avePXt/+813OHNqY9c5s8klg8YrtNu4MePgUcLjheODOBlRN/r+62bNEVfO8KrqGhAVuVI2H5o7V6sKaXRF08/XiO1LVS4ZMtHJsEx093nzNWKrmvREuplAGA/kSs0c7LlgyeIlGC1dOht9+823cGMxZjDc0bOIUOAsoCv5waPN9k2aO3suhkdDECqI8gOmzZs1h9cA3wGjd/iw4QioEYWNGT1mptfMclegGohI15BLaRiEM7xmeLiP/uH7HxD7w+tZMH+hq4vrl198iWEJPwMJNInfSxgG6GJ4D998/U3/vv3hPvO8qWBVXoTm1JxcKn8d99p9lDtiOYRC9rb2tjZ2iEWtEUm+MRqssRBkIipBp6JFmn3ZrH3b9mgXxJwtW7RCXI0K8CGx7hHplaBGJytLa7iT33373d//5+/GRl1Rqb69+375xVf/+N9/YH6ySwyNU6RT2HU9LGCcmJqYff3V15/84xPMTDtb+67G3dCPqHi/vv3YZQJ2laSGQss0EGGU2tnaIdr65z/++Z9//6dvn37o026oXfNvPvv0M9TafABpgYYmNoPIsoXVgH4DcM777D+fffHZFwjEbG1sEU6ip7775rt+qA69hFcrwuH69+vfoX0HAOSvs3/xvKlglQOI3HAGU3FwxU+fOoM4nESGvtuZEDf6IlasLfmQK0obN2zEUEPECIcNESO7eR+hSp/efTZtQGjqQ2JLHJ1GmNhFNwcErjVWhUtR9aulS5aib774/AucPFHln9f8zK6+uzq7/vbLb9u2btu6ZWvjkvcW/ioelhGbbPfdsXf3XjitQG2rlq3g4m3auGnUyFEdO3TEQF+7Zi3SoMvwWXOxC4UNQejB3bv2wNPBQDU1Mf39t999vH0QWoJBbdu0Ra23bN5KL1qR61Y7yWcDuoCFrsEMQjetWL6ifbv2ONOPHTMWWyZPnNyyRUv4Fhv+2IDW5icaEbmOUyPpH6iMEhgeCFFfxrykQKnEKgKIfxqefxiE3jqpUpBnJhDbM2GZbKklIUMcDmXw8vSC74NpiYPKpPK1P6/FXPWc5gkgsjKQl/dVLgULG2simVT2oYRyBgUGwTX9sU3bI4ePAO7paemIN3FGWv/HBnQEKs63rc6jKhrxDy40ZPG3Uau5F89fTJk8Fe7A5UuX8/Py0afoysmTprA79xq1Yazu3bPXiTwNP/Jl9EtU9tKFSyOGjwCPnj97junDkpHp09CMTWelOjEhyc11oKO948H9BzEsDx44CFcIsVhebh5WkYClrBXD0OWXqrDKAYRZjYYmdKivdhSLxIj2XV3ccJ5hW3B6gX+IkJUvA5ql4lhvbBYZHrlowaJ2P7Y7eeIkqowJuXL5SoTfmzdtZs9JNQ0LDQn1nO4JJ/zmjZuCUiE8OwRi8IbycvL4FI3ZDuw/4Ori6uHukRCfgNUb128gyoDHFxIc8sb51hAsJTnFxdkFJ/tjR45h9djRY0adjRYuWAQUYOKzNLVlwAi/VIVVBSAicjuiAtOdT1qHRp6GL507Z+5A14FwAtk2HkCeMxQyBRiEmmhLhWXCR+aUURiRz8bAI10AobWzMrOXLV0OBx4+QmmJgE/U+C00uDyAvAEgu6mTp76jB4SebSCiVhFAo0a5m5qaBgcH019vamCmLTw7katUSfGJTg6ODvYOugBaMH8BPCDML8JQmp5MrkrFYiNd6ZmaOD7ICv6UWChG2MFf0qnM3gwgHK+c01Hrgqm5osKi2bNmD3QbiDCbbuIB5OU5AxVAfUj8RR+OJd4ZzyDyenp8xcQziGXYUE0XQEKBMDM9c+nipcZdjNf/sb64CT0LBl9AF0DwatGVUyZPYWFmY7fKADSKACgkSCpjzxzQgajzGhh+ZL676D/lttRAbEbwk1dNXpGOFYUiKT7Byd7Bwa48gOYBQPnsTE92VHFkllUqGhuVifcDyoQtmKRyqVwqkWKQAylIwJqhor0BQHSGl8GPlayWRQ2HJgByHeirfRhVE4KRFkFLkqahP4hRmQgoSSvQFm/AVimAjLoY/bHujyL2Og42dBq5hQRVAqCpU6biNMOnaMzGAOTu7hFPAXT9+nUAyMTMJCgkUK5kr+Ooh16swVgvlwSTl/6KpkKRkpDo7ODoqO8BLWSnB0w0mp68OahS8XOtWiwQEtGLxXCC8MkyrNRqDCAUq/wxak3UBKXkfUBurm41BxCjLy9toyDDuu769zADgMjXb1tHlr4hiBoA5FIeQCNHjexBASRTiNiwpr/X8h6mc7jKDJNeRl+aR3/pjX+/U5n4eYUc8C95m5OEvDYKogBKS0p2cXR2tC93DagaAJXNMio2y7Tij1ZB7FvQo9qKNBwA0Tciurq4+Wx7KwDxoNV4QBo3taGaAUB8ireqI2uThiBqDECj3D1ex8dj9dr1ayPcCYACQwKkilKOvOJNzn45U7NHNVY+CdYwIzDembBceRZyNSeiv7YE70IfQPzUx44QMpErOJmICBiCEySXAUDODk4194B46GhFD/IWYiWpwhoGgNgbEQmAXPWuAVUEUDnHh5aNLfMlrLqqDcHKA0iUmZG5dAkAZLx+3fpiQwjWSIwCyGWUu7s+gEIDJARAUvgm5CfT8B26UkuTitJOASZsUVSQNiU+4V0VchwokcdxuWouh3uD8jkuiy4UqiivFJxSjqAoLTHRxcHByc7+OH1GlAFoIQEQci8DED/F3h9AUNWj+p0AxLKrLcFqBiDSFtry6ElbPJZhQzUCoIU8gNDaWZlZy5YuMzYy3vDHhuIi+lJ6bZs0ZmvaANrvv9/ZGQAa9Tr+NVZ1ASTWAoj9+Rgjl73pVk/YqCc5Pmlchb1JdEVfT87/PgL9xQQxx8WLueel3BMh91DA3YdE3D0xd0/K3Zdx9xXlJSefzzjy7eMSLlrMoVzIQSFXSSVpiQkuDvZOdnbHj5AXksEPIgBasLCwgPSOFkBsZvFn90rn2lupilHdCACE+pN1HJ80B0qiU6uKYhk2VIuKiFq8cHH7tu1PnTwlFomzs7KXL13e1bjrhvUbS97wqxiNySoAiPwZftrUaU3jL30UQM66AKLXgEwDQwOF8lJQBEOVBGDwXyQcmfnoWF1hi54EOhKCFMAQ/clMJjmW5dhecCEqce3t9J8epi9/nLHkafriZ+mLX6QtDkxdHJSyOFhXyYuCUhe8SJ/7JHn23Zc/3Us7HMUlk0OrFEqlTJqelODqYOtkZ1seQIvY6YF6bsQYbvhJp6sGAaDatZoBiNW/rBi6YixjasBGALSoPICWEQBtJADCSGwi1rQB5O/nDwC5e7jHJ/AhGABkamoaFBIkkAnJH7ExCEWcNEEif1HC3RUSD+UBXBL4KXpScvc47r6auy/mHhRxD/O4x7nc00zuZR5XKOakoI9USX5tgCxwedLMQ8GvZlxOGHctY/S93JFPckc8yx3xImdEQM6IwOwKyhvxomD4k5yR9xNmPsja/oqL5bgiOFVqBUKw5NeuDtZO9ja6IRgcc3CAzC/NDMKUr0IVZl9NVMXEbBQAosdDy9D6lxVDV7VepLqxCgDKWb5sRbeu9EZEA4Aaifnt89MD0KhRo8xMzYJCQkokIrg+ZEAWc7n3MtJ2hheuCZP98krxW5zs11dY0JV0bbx0bYp0bbL0lxjJr8Gl/32ev+5JxqaHRRciuLQiTizlZBKJSqxQSlRyCZcpzN4bkjThRvbgu2KXAM4hinOI4exfcfax+nKII3J8yTlFc66hhVNCSremcdHk+pEU8ZxclpYc5+pgCQAdKwegxfCAyOUONpXwSWfWuxNHT1XM0FoFELZX9VX1Vi2AyKGZaQugFTviOx+33o39MGH7dgRAEpEkJztnxXIAqPumjZvQ/nyixm9NHkBOTk6VAqhYLJRik5K4G8lnYsLmX48ddCljyO2sYXczh97Bgq4yBz/IGvQ0c9DT9CH30oZeez3iYvjIsy8mnE7Y8YiLK6A/Di6VKsUqhZj8DSujNGdPEACUN/i+0iWUsgageV2Z4jlHKJZzjlG5hRVMCS3RAEhCAZSaHOfiYOVYHkAYlsWFxSoFJhU13ZmlO+PeWVXM0MYMoHc+3Iez6KjoJYuXdGjf4fSp0xKxAUCN0vbtrRJAIoVMjk34v4RLOhL+esadYteHKrcgblCIemAQFnSldg3nXGI4l1dKt0jZwJCioS/SRzyOm3Ava1cEFy/iRKCFTKYUcwqEcwIuvTh/b1DS5JsFQx9yrpGcfYIGNFXIOZZziZYNDM2ZGlLkncbF8ACSEgC9dnasDEBFJWUA0hqmmO6ke2dVMVXrAEBVfVuNVQegmWUZavOvvhgN2HQBJBVLycOoK1Z279Z988bNgtKm8yzYxwAgj/IAMqUAEipk5E+2+D+fSzsYnuH5iHMM5hxjOOeXAI2+nBM4p1TOKZ1zSsayyu1l0ZCwJI+n2d7RXCy8HnILjxwAkos5sZBLK8nbF/h66vWc4Q+4QeGc02vOJY5zja1SbjHKgRGlQwLTpgfmbUvmXhKnDCGYVC5PSY53drR2tLfVA1BJcUnZyV5r2un2nqpitv6tIK+gsKAQxy4tEfAAkjH0MFUAEDLS5sWWNUIakqz8RqI3WtUAwkb9HN4q5wZmNARb0r5dh9Mn4QHxAOrRjTwNXwagRlgvPfs4AOSRkEDuhL5G7oR2NzHtGRASWiyj7+NAD+ZzGQfDc2Y845wjOIdYzjGOc4JXoqdEzimFMgifyZxbrHBIWJr7k/xtUVycDoBkMk6s4DLlGfuDQ6ZfiB51KWvEg9LBz4sHPy8c8qJgSEClyh/6rGDkk7SRd2K87qX40ovQxewakDI1OdHZwYYA6CgD0FGjzl0WL1pUUlysVmGGlzftXHt/VWZaAJE39VIA0Tciah71rBJANDtsxJBKTUlNjE8sKiwCvMhfrFgyXVVx7DJ7KwA1ZtO9CI0QLC+H/DY8ex0HDyBN2zZqa+LXgPb6OTs5j/YYnZCQiNVr12+MGOXRw6zXi9DQQrlEzBIVc1kHI/K8XnBOMZxdPGeXwNkncg5JZXKEEjlHRFIQtqRwLrHSwaHZox+X+EaTW34kak6OMAQAUpFbEHO5nNMvw5bfCJ95NcHrbsb0xxnTnmZMe5ExLaBSZU5/ljf7WdrMe69WPkw9EMcBlSX0jiKZOjU5ydnBjgKI/hn+6BGjLp0pgIowpVnx683eHkDk+Q5sJ54mgognj58CGWt/Xnv/7v2crByyXZOsTAYAaUwXQGi9vNz8VSt/MulhsmXzFkxUksIAoAZvlQKoOwWQhERftAcFXPLRsPjZ94vdnstcQvUk5RUidQmmwkJY0aAXmSMfvZ54K2tXGBcv5MTEXaEAonchFnGSF3m5Z+NyD78q8IsV7U+WHkiXHsiUHciqTNmyAxmKg2mSQ0lFZ1NLHxZzGaRIDEApycmVAWihoLSEFJ5Y/Q3BdwEQVtm9OWdOn5k0cVLfPn0tLSyHDxt++dIVIWYRm0KaxERvrM4bLkKzDU3BDADiUzRmqwpACMHkSnINmvRgKZdwPipw6Y2wEZdeDbteXjeobuLzJdH1l8NvxAy/ETbycsDYc4+mnY3dH6hOl3NitVomUyiFaoWUPEUhVHE5ci5ZxiUoiDsTT/W6auFbJEMB0+ijG2JOLaW3VcuVAJCTg72DvV0VAFKXe5FIHds7AUhzP86Fcxd+/+/vixYumjVzVv9+/f399mNGkVxRfk1iojdWp1oAoQBsSxMwA4D4FI3ZKgJouLtHN7NegSGhKgW5BETGvIjLDMhIPhGT5Rud7/MKKoB8mWILfeKKfF4XUhX4xuUTxWbtiE7dGZa0PzTnQbo8n1NKOQU8IIVQqRAr5GKFTCoXy5Rwi8hDGzpPdUjeJCmnknEKejc1ebpDrkhJSXZydGjEAOKl5uJexT19/PTkiZML5i+wsbI5cuhIEX2chEyh8infYAYAGQDUeEwDoDEJCUlYvXr9xjB3j649ewaEBKvkCJYU5AF1GSfMFMvihFyklIuQEUXKdaTgIpVUKiolF4FlbBdzryRchlol4BQSTiZVyWQSmZx/qThMLpeTJ94R52mfVoWAJEhvVbsRe8jp2zjkKrVSqZTL01KSnZ0cHAmADmO0NU4AaUpYkF+AuYQQzMXZ9eKFixIxkEu/rSxxlfaGEKzxz0iNGQDEp2jMRgDk6DLaYywD0JUbN4a6uxsDQKFBSrmAuBxqmVqlIsMWgx+wqFRaXjDpIgOScVIxJ5VwEqkCM1IslYmlEpFMJJIJILFUKJGKmKRSsUwikUtkCqmMfSqkcqVMoYK3gzM3Zq5CpVYo1QoFeaRDKVPLJekpiS5O9vQa0CGMNmCo8QFIpVRh/iCxRCRJTU49e/qstZX1mtVrwsPCSa6s6bV6Y3UMADIAqPGYDoCSsXr1BjwgAMjsRWigQo45LOTUQqlSKuPUcD4w75mU5aSkUkH0yTHNlGEkQoTFpOURxLBF9mB7q6jYAmOWWiVCoKUiLwsiu1D6kAfZQR85oY9cSuI6uSQjJdHV0Z48ikEApCIA6tx5CQBU0pgApIZXeOnipUMHD505febCuQu9evaaP2/+i+cBJFfWmlq9sToGABkA1HhMD0DXrt8cjhDMzOw5eSEZKliiUJdIlGJKH0YLhYqIOiS8yHTCNIIw3UmPM4iwazoI46qS9spOpcLu2pRYBr8YtgAjOETAkBIkkmamJLk52Tvb2544QgB0/MhhYwogYaMBEEoIt06mAH1mzZw1YdwEoMfezn7rlq2v416TXFF+bWKa/g1WHYBmkhyaihkAxKdozKYFUGI8AdD1a7dGuo/ubtbzecgLobJQyRVJIKWI0geBGBHmD73FhvUuL8og4tWQEc4cH0aQfI5LVInCheIwgSRUCEmJsFwiCisWhhUJwwsF4QWC8HyqvFKi/NKIfEFkgTCqQBUv4jLVXBHNkAcQFblHjwRiWanJg5wdXO1tT1IAnaAAWqoFEMpFRBbrwXgAlQJApQAQIk1ZTQCET4Vc+fjh49WrVru6uEE/r/n5xbMXyIFvXm1ilr56qxpA2Pjm3RuPGQDEp2jMpgHQmMR4cg3oxvVbo9xH9+jZ80UIeSGZmhPLEIIpJKAOPVPTvxlXBiDsS/6H4RuGCXzCkXmtzL+Y+sonMHFrSMbm8ExoE1HG5rD0zaHpm0PStkDBaVuCUrcEppLP4JQtoUlbghM2B8RvD8q7lCSLKOVyKYDYBGQYItEeiCfPTksZ7OzYwABUIhAKhGKRWCaVk6fA3hSCYRVfScSS3Jy89LSMwvxCoUCEHUkjV9QbK2MAkAFAjccIgOhfwRLpRegb12+Ocvcw6dkzIDhIKgc/1AqVDLOI8gemoU9FMWM9jjWGCSmneiGI+/15wISLr8bcyBh1L1MjLGe432VKd7+T7n47zf1mGvm8n+b+KNn9foL7nfBxV9K3RylCxOTdZloAkcypv4WDKhVNA0DwL/GVSi4jPz+mlNOfCSyfpkxvrIwBQAYANR7TAGh0Ir0PiPwyKgBk1jMgKFhGH4bHXMAkol2JiaN5qyCb/+Wk6W7S43TOY7IgCnsqyfw5NH7UraIhTzjXkKoVzLkF0oUIzjVG6RYhdQvJHP6oZEsCF6QoAxDNVk3iL/yj5pRKDYDstADqSgEk0gMQKVWd27sDiG4s21Kd3liTygD039/+awBQI7WPBUDxFEDXCIBMzXoGBgbpAwjeD/k7FBWb/7zYFNJ2N/6nbwJjIdgTWc7PYckj7woHBXBOL6tQjEYvyat/yPs3XqpcwnOGPhVsTuEC6dtdURaWP5mGmL8UK0pVVlraIGdnV3v7k0fIfUAnjxwBgJYtrAxAUB3bOwIIqtLfqag3VqNSAP36X1trA4AapX1cALp+w8Pdo6dZz6DAILk+gNh7hBmANPOljEHsE5sUKtAC6QEgMcc9luetCU8ffl/uFsbZJ1WrZM4OSuFsU8iryJyiC4YEiDelcwH0VdPlAERFCqfOSssY5OLqYu8A9GADPrt17rx84UKxFkAMVVrVpb07gN5Cb6xDZQD6zQCgRmsfGYBuYrmXWa+qAcRmkGYuEGkZhGTYhfydnmxnAHoiTV8bHDfqVsHQF5zrS325aF8tFEvkzPRK7RopGhicMuJh4dYkdRD1gBS0uDBaEvIJU3FZ6ZmDXNxcHRz1AcR+FsEAILJFxf269ldrKxsDgBqjGQCkDyDtRNCKGHjD/vYuJ3+Px0ZsEHKKJ6Vx/332zOPca497eSMD9TUiKH9EcP6IEHwWjAguHB5cPDyoZHhQzshnKR6PgsdcTdn+UhwsIx4QcmOme1ADgCqxCgDC4X5Z+4u1lbUBQI3RDADSA1AVEwGEAH0kFEBISjeIOHmQIG57cMD861Gz7yfOeFZBzxNnBCR6BSZ5BSR7vUjxepHq9TzN61n8zMcxcx4+n38j8fArUbSEvEIIR4SxEcUEa8QA0i0Ta9AaSndHJj2rFEA/UwDNaIoAoi+lrwAgOM1VtE9jMwOAeACRMEtz8q6kZ7GV3KSsJvcI0vkFAAFHCaqim9lZJxMyD8bl+FeQ3+scv/gcvwQqLMTn+L/G9kz/2FT/V/GHo3MfZkrTpWV/AtMVPeabAURUfq86s2oAxDOIAYhURmsoE1bfWRWrVAFA6MK1P6+lAJpV101Qn8YA1KF9h1MnyTuhKwEQrPHX1wAghZyGVNqZwpbLG/2SfxyMfMkSIwMMhAJ6P3Q6x6VWrTQd0ZRqFAfL+fSH4xWag+oKpgcgNQVQJwYg2jsMQGRBZ6/qTZuyhul1rHIA6TpBAJB+vlhmzUpFLqUxL6kK6SYmqlhEDYBcnF22bd2GDR8jgEo0AGr8FhwUPH3axwsguDyYOGTcspnCFioY+xJODz8n2Dp7bAIS019JfaNEnFrEqfCpWSVRHbnrp7wXwwRTcZnkr2BuLg6OJw4DQPTP8J06LV2wUMR6h7k/ZEFnr2pMm0xXNTb+VzFKS0qFpWUAQjuSV9MryO2FlWTKVtFYGhEGVS3dlJrExC/VeqeAFIYpoi3069Yt3jgCJufqn9ZYWzY5ANHfBeMBJJHm5xEA9ejeY8P6DYX5hXyixm9BAUGe0zxtrGwAIIlY4rPN197Wfvq06UWFTQJA+zQAondC37x+c9yYcX379AsMCJRJEflQY3NEq5oYkmGCAEhMYBBopuVRNdKmZ0ImuofWFT1Kemqam7Orq6PzySNHgaqTR44Zd+q8eP6CkvwC8qB+DS8A6abR09sYBVBhEX0WrAxAMvrjPCyUJV4MIUWFwzC9g+nlgPqq1PC/ACAnByf4AkiCyfnTqp8sLaxmzWxSAIqMiKwAoFXdu/VY/8cGLPOJGr9hKnpO97K1sb1x7YZEBAD5UA9oetP4/XsGoDGjx6QkpWAVkB07Zmyf3n2CA4PLAPRuVn5eENW2wTVLTUl1cXJxdnA6duiIWq48cfS4UcfOC+fOL8jNV0rl5fgF0y7rSm/7e1gVAJLKUFBwgS2wwxBv5b2PV5WVFJeCNY4Ojps3EQChDBRAlvCAiBcGw3G1TdNoLTwsfOGChe3btT954qRYJMnPzUc1u3cjP0xY/EbvgLXAO6jeWywwIMjLkwDo2tVrOLUAQPCAEIJhjPEpYKwrqdgZTt9Z1iZoYIYQzMnReezosWkpaViFBzTGY4yZiVlocKhcBg+k4RpaGMFNGjwgFzdHe8fDBw+pFMpTx08adzZaOG9BQV4+eY1Z3TV4ZR1aOYAw5+H4UA+oLgukYznZOXPnzHVxdmUhGMqwdg25BoQTKXlJiFiKsmHGAohw6cl1pcZpkeGR4GzbH9sePnS4pKgkNyf3t19/M+luss3bB54Cn6gKI3UXSd5BcLVIP9ajhYaEoeNw/rh+7Tq6b8f2HS7OLqg4In30LBtRmKtY1vtbBznJ6QKoQdq+vftwphwzeiw8IHTK1StX4Q2Z9DAJCgwitWvwlpGeMWzoMPTI0cNHsfrX2b/MTEyXL11eh1ch0ZVVdGvlACJXf8iwUMql8syMzJTklOSk5MSExMT4xIT4BKLXCfGv46mw8F5CbvFx8WEhYRPGT7Sxsln902rAKCoyas7sOf369hs3djyOlZSYhHg7CUoknyhMSnJqI1TK+XMX3Ee6t/6+9Xbf7THRMUEBQfPnzTc26rpy+cqQ4FC0MN+88VgirU0+NUIrvY57/U4iPYU8SevViy5euIg52btXb6AnOCj45zU/29rYTZowCcuvY9HrCZi6erUjq0y6G4mStG3CRkt58WmYyAipUyViGiT/se4PnBqHDh769MnTlzEv4RANchvU1ajr+XPnX8W8QoCDZOWr0ECUhGEQHRVz9/ZdJ0cnezt7Xx9fFHXLpi2dOnbynOYJ9xz9kp6WnpGeCUhBmZoFrfAtHCi4fqgmGdJJhAx6wkYMdabU5FQIkHk7AOFEBACRn2UUibds3gIWeHnOmD1z9swZM8vk9e6aQTQDYstw16dMnoIuxMzs37f/3Nlzp0+b3tOsZ4vvWhh1NkICnDxnzWgAQjHeQ6jmoIGD2rVt959/f4oRgCadPGkyZum333zbr2//ieMnek73RMU1wrLuam2JZVu3GjliZJfOXZo3a25nazdh/IQB/Qe0+aFNV+NuqC8aYYYnur5sDBB5zsB2r+mVC83Caxr5JBuRuEyaTOpUtISsg+DZfd/q+/Zt248bOw5b0JVwab9u9jVqjVV0dNns0J0v9aVKBuoMvkioAgLh0e6jMdF+aP0DGIQCD+hv/sXnX3bv1n3ihElIMHvW7Dmz5hDNppo1B1v0NbNsAfmXrZaJ3xGHg49/7+69cgDSUeUAQjoGIGy3sbZp1bIVztIoLiJ5DCmILryz7Oxs7GxtbCEs4xOHQKe2bNHyy8+/bNumLfvqxzZtP/v0s2+af2NlaYUTTgOQDcpJy4Yyv4vg35mamH77zXf//Mc/0d9oBNS63Y/tvvryqw7tO2CW4iiorK6QoDGqd68+3zb/9pN/foJqWphbdGjX4csvvkTFsYw2RDuwJiV1tOBlaW5pUYUsWRpNm7B9kQnJioiMlroWjsIOh2V0FqrT/OvmfXr3dbBzQB2B2s/+81nfPn0xSNCtZaIzpb6FeaornRnHamE+wPzzzz7/7NPP4figYVGdf3/ybyAVIxDfljUvFe2mMmm/stVpdpJ/eWG044hI/MXnX/Tv13/fnn3sGp/+ZT5V1SEYi8yLCor69u5rMcDil7W/PHzwED7nk8dPHj+CHj96+M569PBBmR6Rz4e3b90eOmQo3AGg+sWzF3du3500cXKPbj3cXAfev3v/8cPHH16Pnjx9/PTZ02fPnz5/NwW8CDx+7DhOm61btV73+7oH9x9cuXwFToGxkTFOF1cuX33+7LmecLjGqP3++11dXOHSem/1hsO/YP4C+LPYgtDsyaMnGELocejBfegB0/1796uSJg3ZBYMHQnfQfDAan2JMPnvyrH70/NmL0ODQ5cuWYw67ubj9efZP9KnPNh9nJ2fjLsYH9h+8c/sOBkmZsFeFxqlroUHY0UkTaaYqG8OYa2jJC+cvwOsxNTFbuWLls6fP//vb7+3btR8zeizmYFBgENKz3tH0Ed9BGvHbWUdQYWqQ2aErHAi6dfMWGARC7dqxi1zgq3iZr4YAQnP/9stvmA9hIWFhoWUKDw1H3Pguwo4aRYRHQIDOqJHuABC8vuio6NCQMJAIJ1IPdw8cNCoy6oMrMiIyIjxSr/BvpYiwiLNnzk6aOOmH739Y9/sf6Lzr164zAM2fOx9jNzoyWk9REThu49OZ02fQcRg5e3bvwRxYtmQZToPDhg6/c+tOGJoiLALTGAoJDgkJ4hUcGBxUhYKDgvlkSB8cQvYNKRMdiuH1I/RgTFTMr7/8Bk8H0fSN6zdfxrzcsX2Hg72DUWcj1DrgeQAbz0wYM3otUx8Kx0AlR9edcbQwUTHRMRjJt2/dMe9v3sus19o1a9GeG9ZvQDg5YfxEkAsJ0LxocK2ApKAAHQVik6ZHaHeQHtHpDia2He4FfC4waLvv9poCSC4lL4SGp8RCsJLiEmtL6xbftkDsMHb02PFjx48fNx5RPdPE8RPfX5iBUyZPgV+ALmzxXUszE7Opk6dOnDDRtIcp4i9EZGPHjMVBG4JQSBQG7fBuQg4DXQd26dTl0/982q9vv1EjRw0fNgKrzb76GqPBfZQ7aq0nDAttazciuTi7tP2xXfOvv4FrgFqDRC1btOrYoeNoj9Ho6ymTp06eNAWCkwscM+lVXFc6aWgynTZB5hPGlR23HoQjmpmaffvNtz/+8COQOmXSFEyQVi1aNfuy2dDBQzFCKi15/WryZNKwpG2xgPnFhGmF0qIKw4cNb/Fdi+++/Q4xF2Y0huK/PvkXegcjEI05DuN07Ditxo6hY16jcWP47WgHjdAsbKDqirQVTkItv2tpPsBi7569bw0g6gEpJWLJooWL4EQhend1dnV2csHYcnF2xTJdcIFf7eriBneUl2tlcnFDMpa+opBgkNsgLIA133z9DSbkQLeBTo5OaJEvP/8SPY2vyOGcXDCay+TojDS8HJwcayAkQ2Lsi6xqJJ1CogDaKr+zUFOE3G1/bPvJP//Vo3sPbEF7wvv99N+fwoFHE+Gkyg5EWpUtsGUX17IWfmfpdUota6B2YcjgIfB3vmn+LeqFhUEDB3c17vrVl1+1/r41EgweNBjVxCdbKJPboIFVSJsGAwMEJ0ehI4pvpVppHIgWHvkT4UAVigGhkFCnjp0+/+xzjFVLC8uhQ4b2NO35dbOvP/v0M8w0DDCUBxOEzRRSNr5x3kWakryDUFrkwCrlxvJBA2IZE8fK0qrZV82+bf5tT7Ne2I6x969//gs8dXRwJIV3cqHzBROsbLrp1kWniagqKyRS0nZwATrg3cPTrymAdEIwJVIjBVzoyxcvXzh3QVfnz50/99c5CAsXzl9EbM906cKlSxcr6MIlhJ3n/zpfuc5BFxCboM9Mepjg/IZ8Tp44BXx2Ne6G9rp25dq1q9euXLqCYkDI7SLRRZInLQkyYYWpXrSo2PPy5UvQFQh5VqOrl69evcILBXh/oRv27NqD8wxOPgi/UYyzp8/irILzJ86WaIGbN26iMVHIi/STlPbCJSTjC/M+QhXQjLUunapdv3qdLtx4eP8hiUrsHDBRf/n5l7/+/AvnXqMuRvZ29n+e+RMdR/uC9V0tiDXX+4sNXdLUrK1IvVCjcrpx/ca9O/cWzF+AgKB/3/7oTaz+uvZXcPbHNm3Xr1t/8vhJzA5U8OyZP/88+9e5v8iQY1PjHVRuEr2lUCMUA40PkQYnE420FZb9/fwx0Xqa9Vy2dNmVy1dQHZwFMd1QYNQa0+T0qdOnTp4i+57F7mTiIDeMQ91RROYFNlzWnzWYVphi5EB/4ujnkBJRW1ZG1lsDiNx/jBQcJya/1SPFxjLJFHCUZFIZtlcQ+xnrcpLL5NULOxbkFXh5eiGWRkSKg5aWlK5ZvQaonjZ1GimJmnhk7OhyHB170QJA/HHFb5KmYNqDohaIMasRaQSFiqms+d5DqFd0VPSypcsxM/88+ydaOy01Dd3fqQOZqJkZmUgAlxPSNCaqh9Z5c1HfKPKrAZq61KbYm0Z1/7BKLTIicuaMWeg+zKLsrJw/1v1Bu3K6oFSASrEHD2tNAqFIIKoFCYkwwPg6VG2YwHAQRgwfkRCfgFVQCaElkPTg/sO83DwJvWkWNSVPdwvFur35tmIj9l0kkWHM4+iol7B8NVGqpMQkeGr2tvZ++/xKiksQH8FFXbZkWWF+IaY/jovy09Ygu2OB3cuKbNE4GEhsXmBBb4xRkbmJo6PWyIQcmt5FjO1lE6HmAOLHVjWGb3XyItIORKYam6BEAADB/fPxpm9EVHNrf15rY2UzZ/Yc+n3VhqNUdXRdNQyLi33906qfcLY8cfwkejcrM2vF8hVmJmabN23mH8VAUXUr0jgtIjxCeyc0htbWLd5Ojs4LFyzEOMa3bGjVlt7Q72+lmtmxo8cQzozxGJNEH0a9fev2+HHje/fq8+zpM8w3luatMqwr09aLCQ2Ff1XqtNR0hK7WVtb7/fdj9fChw/BPly5ZijnITpM0HZF+C7+tsYNSaf4Mr8lQo0oAxEOOPo1BUrNja6Vrel/p5Euk3V4DQ+UxZBE3+mzzxSr8ndU/rQaA5s+bzxJUbtpD1PhAH9ZevYxF8NXmhzZHDh8pLRHkZufC0evVs9fWzVv5BzUbSUUqN03JQ0PC4LpamFsgqES9vLd6uzi7LJy/EL4P+Vp3bDTCyh49cpQAaPSYhNfEA7pz6874seN79ewd8CIAZ3uWpsEaKJCakoaJhsl18MBBbEF1OnfqvHjRYgIgzHdmrGt0JvLbkUgvGVvlAaTJlqryi9AMQCr6OBjZQn72i7lPdDeWne4BYNqNOrnz0n5VhVAs5gG5urixF5LB61u5YhUgXQmAKuzeiCwmOgYhWNsf2x45dAReen5eARw9eECbNm5u3E+K044gr45Cd3NcWCgPIHgHhQWFW7dsdXZynjNrDgJtvfFXo+7TdnSlqnc7dOCQm6vbaPfRLAS7c/vO2DFjzUx7BgcFI/pgaRqsYUanpaSh/PZ29hiE2AKHrlPHTosWLsYZkXUKwQSd+4wXVJoAijolmo28ynpTI+a+sCPyxjoL37IFjaq5CM2CfPJMBllmDpGWQUzIQs+wRTdBTVQeQL7UA4KvDk/BytJq/tzKAKTZsdGZLoBAnOys7NWrVpv0MNm0YVMjflkXHUnoRAwVNuzCNB5QrQFIby9d1fswKAMQ9YBu3bwFALEXkkkbD4Ac7B3ghmOLBkCLSopK5DI5+lHbtvyUf5O06ctUsVOwhfVj+a8qB5BCc6kJuTM/iBxJSzuWV/mMykz7bY311gDSqrFZlQDauMngAVVpSKO3l67qfRjoAQhhJsKxxggg9jR8dQCqgbSJy6lip9ARUvGrqgBEr0Ozv/4Qj4uWiWXBVKtWDYDmzZ3H0jQNa7IAgpETCT82PioA0b+CNU4AHWEAOt65Y2cACD54OQChYd9HFa2yr94MoHro5uoANMcAoMZjmkHy8QGIfyd0YwTQ8WPHO3fiAaSQkTdhlDVs3bdtzQBUx0UxAMgAoOqMDb9qVL/WlAFEX8VT1jV137bV/SxPOQDVpRkAZABQdcZmQlWqd2vCAJJ/AA+oCgChoJABQLVrBgC9C4AamDVpAFW4BlTHVh2AyBXoegQQuxHR16dqANVLi9SpUQAtIwA6/JEByNF59qzZiPf5wa1VI+xQHkAe/H1AN641egB16dTFACCB5zTPNwCovhql7iw6KnrpkqUA0NHDR0tLSssBqKgpA8gJAJo5G8skDRvfTI2wN7UASkwgP0x4/dp1D3ePRgggxzIAde6yeOHijx1A06dNd3V23e6zHVuaLIAio5cspgA6og8gdD+fqPGapmsq3ohIADRrdlFBEUnDxjdTI+xNLYDYs2DXrzY+AA10HehoAFCZqTkcffrU6S5OLswDQiuwZ8EWzF/AkhCrr0apO4uKjEJPt2rRCiGYoFSQk51DngUz67V54+ZCTM7GbpquCQ0JnTZlmvkA8xvXbxQXFntv3ebsRACEIc6eNOT7sXH25oH9B+Cqj/YYk5RIAXTt+mj30X1692kcz4Ip1akpqQCQi7PLiWMnsAWfRl2MFi/6mAFEXkMhnT7NUwsguUyx5qc1tja2C+Y1NQAh2G7ZoiXzgDLSM1atXEU9oM1FhU0HQMFBwVOnTB3Qf8DlS5fzcvPZRehZM2eVFJcQANXvj5TVuvnv8weAxo0dl5SYjNWrV666j3IHgEKCQ2Tv+cuo9WBqLjM9k3lAcOUw00+dPN3VuOuSxUs+bg+oVDhpwiTzARZoiJfRL588foJTaN8+fWd4zeDTwFiL1H2j1J0hBIMH1Pzr5ut+X/f40eMrl6+MHzu+U4dOmzc18odRyxsAhO4z6W6yZdOWmzduzp8338LcEl1JnoYn9+835i6kP83s5EDefIjuiwiPgH9nb2ffu1fv8NBwuVTOJ2rAlpuTO2jgYEyulStWPXvybMP6DRiBy5Yu+3gBhGonJyUPdBv47TfftW7VGhhC67T8ruV337ZAdM0nahL2MublkkVL/s//938QdVtbWffu2fvLL75s2aKV91bv0mL6qoomYRFh5H1Azb5s1r5de8xMdOUP3/+AEBtRJ5+iMRscB4sBFl98/kWvnr3Yz9p88/U3GLGBLwIl4jf8vO0HNC33c7NzRwwfgYnWtk3bfn37t2vb7qsvm/206qdKAFT31iAApJAp0tPSVyxfMchtkJ2NHZxDWxs7dC1OMmvXrOUTNQlLS0nb778fJ0xElw72Dna2dub9zUcMG3Hur3MNeey+rcW/Tti6eaubq5sLfRM2+hR1xBYASEXfrMCna5x24/oNL0+v/v36owcRWuIT584F8xfEvozF9OETNUCjD+thRhcWFP285mc4QZhlKD9OhJhxe/fsA4Aw98t8n48HQDgKjo4TCLqWvED6HHmBND6vXb0OZ55P1CRMJBTFvYq7dvXaBfJCa/Y+7PO3b92GA4iZySdq/AZvLjIi8vq1G1cuX71CXhJ86dbN29hCTrAYVI08BMPJ8tHDRzhnsLeho3Y3rt14/ux5cVFJg64aZQpKKBVLgwODUWZSeDrdrl6+GhMdIxFLybmhfmvQUC5CG8xgBqsPowyqZEZrtxsAZDCDGayujCGmwcxoA4AMZrCPyQwAMpjBDPbBrCHRB2YAkMEMZrAPZgYAGcxgBvtgZgCQwQxmsA9mBgAZzGAG+2BmAJDBDGawD2ZVAYi+j5X9IA/oYwCQwQxmsDqwygHE6MP7Pgb6GMxgBqsbMwDIYAYz2Aezv+Xn5hfkF5SQ3wUTiIQiqUQml8nLrgHRKMxgBjOYwerCDAAymMEM9sHMACCDGcxgH8jU6v8f+TXpEbrOVqwAAAAASUVORK5CYII=)"
      ]
    },
    {
      "cell_type": "code",
      "metadata": {
        "id": "1bAeHwkj8YjS"
      },
      "source": [
        "figuras=[[\"cuadrado\", 6, [3,1]],\n",
        "         [\"circulo\", 5, [1,2]], ]"
      ],
      "execution_count": null,
      "outputs": []
    },
    {
      "cell_type": "markdown",
      "metadata": {
        "id": "Zlu5Me4c9ZSz"
      },
      "source": [
        "###**12. Don Jorge de la ferreteria de la esquina nos pide que realicemos un programa para llevar al cabo el inventario de una cajonera donde el guarda letras de madera para poder el saber cuantas letras tiene y poder llevar la cuenta cada vez que realice una venta de una letras.**<br>\n",
        "![Sin título3.png](data:image/png;base64,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)\n"
      ]
    },
    {
      "cell_type": "code",
      "metadata": {
        "id": "wLvm-y2-_N2I"
      },
      "source": [
        "'''Inventario de las letras que se guardan de una cajonera'''\n",
        "cajonera=[[[[\"A\", 11], [\"B\",12], [\"C\", 8],[\"D\", 6], [\"E\", 9]],\n",
        "           [[\"F\", 15], [\"G\", 32],[\"H\", 16], [\"I\", 9], [\"J\",4]],\n",
        "           [[\"K\", 12], [\"L\", 21], [\"M\", 10], [\"N\",7],[\"Ñ\", 12]]\n",
        "           ],\n",
        "           [\n",
        "           [[\"O\", 8], [\"P\", 13], [\"Q\", 8], [\"R\", 16], [\"S\", 19]],\n",
        "           [[\"T\", 31], [\"U\", 11], [\"V\", 3], [\"W\", 15], [\"X\", 3]],\n",
        "           [[\"Y\", 14], [\"Z\", 23], [\" \", 0], [\" \", 0], [\" \", 0]]]]\n",
        "\n",
        "#Opcion de mostrar el inventario\n",
        "\n",
        "for cajon in cajonera:\n",
        "  for fila in cajon:\n",
        "    for espacio in fila:\n",
        "      print(\"{:1}:{:2}       \".format(espacio[0], espacio[1]), end=\"\")\n",
        "    print()\n",
        "  print()\n",
        "\n",
        "while True:\n",
        "  print()\n",
        "  print(\"1. Mostrar inventario\")\n",
        "  print(\"2. Venta de letra\")\n",
        "  print(\"3. Reposicion de letra \")\n",
        "  print(\"4. Salir\")\n",
        "\n",
        "  opcion = input(\"--> \")\n",
        "  if opcion ==\"1\":\n",
        "    for cajon in cajonera:\n",
        "      for fila in cajon:\n",
        "        for espacio in fila:\n",
        "          print(\"{:1}:{:2}       \".format(espacio[0], espacio[1]), end=\"\")\n",
        "        print()\n",
        "      print()\n",
        "  elif opcion ==\"2\":\n",
        "    letra = input(\"Introduzca la letra: \")\n",
        "    cantidad= int(input(\"introduzca cantidad: \"))\n",
        "    for cajon in cajonera:\n",
        "      for fila in cajon:\n",
        "        for espacio in fila:\n",
        "          if espacio[0]== letra:\n",
        "            espacio[1]-=cantidad\n",
        "  elif opcion == \"3\":\n",
        "     letra = input(\"dime la letra: \")\n",
        "     cantidad = int(input(\"Dime la cantidad: \"))\n",
        "     for cajon in cajonera:\n",
        "       for fila in cajon:\n",
        "         for espacio in fila:\n",
        "           if espacio[0]==letra:\n",
        "             espacio[1]+=cantidad\n",
        "  elif opcion == \"4\":\n",
        "      break\n",
        "  else:\n",
        "      print(\"introduzca una opcion correcta: \")\n",
        "\n",
        "\n",
        "\n"
      ],
      "execution_count": null,
      "outputs": []
    },
    {
      "cell_type": "markdown",
      "metadata": {
        "id": "cwNFO42qyr-8"
      },
      "source": [
        "# Diccionarios en Python"
      ]
    },
    {
      "cell_type": "markdown",
      "metadata": {
        "id": "inwHkPPqy_f8"
      },
      "source": [
        "Un diccionario está compuesto de llave,valor (key,value)"
      ]
    },
    {
      "cell_type": "code",
      "metadata": {
        "id": "4g9TYF18DSdr",
        "colab": {
          "base_uri": "https://localhost:8080/"
        },
        "outputId": "66786873-1e57-4232-899e-c2254328e2d9"
      },
      "source": [
        "telefonos ={\"Jose\":1234,\n",
        "            \"Maria\":2345,\n",
        "            \"Oscar\":7890}\n",
        "print(telefonos)"
      ],
      "execution_count": null,
      "outputs": [
        {
          "output_type": "stream",
          "name": "stdout",
          "text": [
            "{'Jose': 1234, 'Maria': 2345, 'Oscar': 7890}\n"
          ]
        }
      ]
    },
    {
      "cell_type": "markdown",
      "metadata": {
        "id": "_GTbTI6E0vNg"
      },
      "source": [
        "Acceso a los elementos"
      ]
    },
    {
      "cell_type": "code",
      "metadata": {
        "id": "CbV4Wpro00u7"
      },
      "source": [
        "'''\n",
        "d[clave] devuelve el valor del diccionario d asociado a la clave clave. \n",
        "Si en el diccionario no existe esa clave devuelve un error.\n",
        "\n",
        "d.get(clave, valor) devuelve el valor del diccionario d asociado a la clave clave.\n",
        "Si en el diccionario no existe esa clave devuelve valor, y si no se especifica un \n",
        "valor por defecto devuelve None.'''\n",
        "a = {'nombre':'Alfredo', 'despacho': 218, 'email':'asalber@ceu.es'}\n"
      ],
      "execution_count": null,
      "outputs": []
    },
    {
      "cell_type": "markdown",
      "metadata": {
        "id": "yBmH3gSc1a5j"
      },
      "source": [
        "##*Operaciones que no modifican un diccionario*<br>\n",
        "len(d) : Devuelve el número de elementos del diccionario d.<br>\n",
        "min(d) : Devuelve la mínima clave del diccionario d siempre que las claves sean comparables.<br>\n",
        "max(d) : Devuelve la máxima clave del diccionario d siempre que las claves sean comparables.<br>\n",
        "sum(d) : Devuelve la suma de las claves del diccionario d, siempre que las claves se puedan sumar.<br>\n",
        "clave in d : Devuelve True si la clave clave pertenece al diccionario d y False en caso contrario.<br>\n",
        "d.keys() : Devuelve un iterador sobre las claves de un diccionario.<br>\n",
        "d.values() : Devuelve un iterador sobre los valores de un diccionario.<br>\n",
        "d.items() : Devuelve un iterador sobre los pares clave-valor de un diccionario.<br>\n"
      ]
    },
    {
      "cell_type": "code",
      "metadata": {
        "id": "FkYP09JX1d4i",
        "colab": {
          "base_uri": "https://localhost:8080/"
        },
        "outputId": "e9c5c6f7-e764-452f-cbf9-8de55b1cf6df"
      },
      "source": [
        "a = {'nombre':'Alfredo', 'despacho': 218, 'email':'asalber@ceu.es'}\n",
        "a.keys()\n"
      ],
      "execution_count": null,
      "outputs": [
        {
          "output_type": "execute_result",
          "data": {
            "text/plain": [
              "dict_keys(['nombre', 'despacho', 'email'])"
            ]
          },
          "metadata": {},
          "execution_count": 17
        }
      ]
    },
    {
      "cell_type": "markdown",
      "metadata": {
        "id": "ghPUuaasBF3g"
      },
      "source": [
        "##**Operaciones que modifican un diccionario**<br>\n",
        "d[clave] = valor : Añade al diccionario d el par formado por la clave clave y el valor valor.<br>\n",
        "d.update(d2). Añade los pares del diccionario d2 al diccionario d.<br>\n",
        "d.pop(clave, alternativo) : Devuelve del valor asociado a la clave clave del diccionario d y lo elimina del diccionario. Si la clave no está devuelve el valor alternativo.<br>\n",
        "d.popitem() : Devuelve la tupla formada por la clave y el valor del último par añadido al diccionario d y lo elimina del diccionario.<br>\n",
        "del d[clave] : Elimina del diccionario d el par con la clave clave.<br>\n",
        "d.clear() : Elimina todos los pares del diccionario d de manera que se queda vacío.<br>\n"
      ]
    },
    {
      "cell_type": "code",
      "metadata": {
        "id": "aNnCvYR_D68v",
        "colab": {
          "base_uri": "https://localhost:8080/"
        },
        "outputId": "e37ae9f9-7f1d-4e34-a202-0fb167f754dd"
      },
      "source": [
        "a = {'nombre':'Alfredo', 'despacho': 218, 'email':'asalber@ceu.es'}\n",
        "a['universidad']='UTP'\n",
        "print(a)"
      ],
      "execution_count": null,
      "outputs": [
        {
          "output_type": "stream",
          "name": "stdout",
          "text": [
            "{'nombre': 'Alfredo', 'despacho': 218, 'email': 'asalber@ceu.es', 'universidad': 'UTP'}\n"
          ]
        }
      ]
    },
    {
      "cell_type": "code",
      "metadata": {
        "colab": {
          "base_uri": "https://localhost:8080/"
        },
        "id": "TvqJHjPMc-VE",
        "outputId": "1462ad7a-3bed-4640-eaf3-d2fd8e25f373"
      },
      "source": [
        "b = {'nombre':'Alfredo', 'despacho': 218, 'email':'asalber@ceu.es'}\n",
        "b.clear()\n",
        "print(b)"
      ],
      "execution_count": null,
      "outputs": [
        {
          "output_type": "stream",
          "name": "stdout",
          "text": [
            "{}\n"
          ]
        }
      ]
    },
    {
      "cell_type": "markdown",
      "metadata": {
        "id": "wb36jbbycgba"
      },
      "source": [
        ""
      ]
    },
    {
      "cell_type": "markdown",
      "metadata": {
        "id": "7uKgmRdNWiE9"
      },
      "source": [
        "Concatenar dos listas para crear un diccionario"
      ]
    },
    {
      "cell_type": "code",
      "metadata": {
        "id": "chsnk5SFWkz9",
        "colab": {
          "base_uri": "https://localhost:8080/"
        },
        "outputId": "e288e60d-901e-4d2d-d49b-d8aab24aab8e"
      },
      "source": [
        "marcas = [\"Kia\",\"Renault\",\"Chevrolet\",\"Nissan\",\"Toyota\"]\n",
        "linea = [\"Rio\",\"Stepway\",\"Onix\",\"Tiida\",\"Yaris\"]\n",
        "\n",
        "diccionario=dict(zip(marcas,linea))\n",
        "print(diccionario)\n"
      ],
      "execution_count": null,
      "outputs": [
        {
          "output_type": "stream",
          "name": "stdout",
          "text": [
            "{'Kia': 'Rio', 'Renault': 'Stepway', 'Chevrolet': 'Onix', 'Nissan': 'Tiida', 'Toyota': 'Yaris'}\n"
          ]
        }
      ]
    },
    {
      "cell_type": "markdown",
      "metadata": {
        "id": "RjU-7Ciu3S34"
      },
      "source": [
        "Realiza una agenda telefonica mediante un diccionario \n"
      ]
    },
    {
      "cell_type": "code",
      "metadata": {
        "id": "D1juI61o4KJK"
      },
      "source": [
        "'''Mi agenda telefonica con diccionarios'''\n",
        "\n"
      ],
      "execution_count": null,
      "outputs": []
    },
    {
      "cell_type": "markdown",
      "metadata": {
        "id": "wYszZAE7VxPD"
      },
      "source": [
        "#Ejercicios\n",
        "A. Escribir un programa que guarde en un diccionario los precios de las frutas de la tabla, pregunte al usuario por una fruta, un número de kilos y muestre por pantalla el precio de ese número de kilos de fruta. Si la fruta no está en el diccionario debe mostrar un mensaje informando de ello.\n",
        "\n",
        "Fruta\tPrecio\n",
        "\n",
        "Plátano\t350\n",
        "\n",
        "Manzana\t500\n",
        "\n",
        "Pera\t400\n",
        "\n",
        "Naranja\t350\n",
        "\n",
        "Mango 800\n",
        "\n"
      ]
    },
    {
      "cell_type": "code",
      "metadata": {
        "id": "pnqeUjp5TYPS",
        "colab": {
          "base_uri": "https://localhost:8080/"
        },
        "outputId": "1915f591-6d9a-4731-df36-622cdd45b00c"
      },
      "source": [
        "\n",
        "#diccionario de la fruta\n",
        "fruta = [\"Platano\",\"Manzana\",\"Pera\", \"Naranja\",\"Mango\"]\n",
        "precio= [350, 500, 400, 350, 800]\n",
        "frutas=dict(zip(fruta,precio))\n",
        "print(frutas)"
      ],
      "execution_count": null,
      "outputs": [
        {
          "output_type": "stream",
          "name": "stdout",
          "text": [
            "{'Platano': 350, 'Manzana': 500, 'Pera': 400, 'Naranja': 350, 'Mango': 800}\n"
          ]
        }
      ]
    },
    {
      "cell_type": "markdown",
      "metadata": {
        "id": "CSuzZlm816qJ"
      },
      "source": [
        "B. Escribir un programa que gestione las facturas pendientes de cobro de una empresa. Las facturas se almacenarán en un diccionario donde la clave de cada factura será el número de factura y el valor el coste de la factura. El programa debe preguntar al usuario si quiere añadir una nueva factura, pagar una existente o terminar. Si desea añadir una nueva factura se preguntará por el número de factura y su coste y se añadirá al diccionario. Si se desea pagar una factura se preguntará por el número de factura y se eliminará del diccionario. Después de cada operación el programa debe mostrar por pantalla la cantidad cobrada hasta el momento y la cantidad pendiente de cobro."
      ]
    },
    {
      "cell_type": "code",
      "metadata": {
        "id": "omGBpr0yKzBN"
      },
      "source": [
        ""
      ],
      "execution_count": null,
      "outputs": []
    }
  ]
}