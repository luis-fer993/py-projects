{
  "nbformat": 4,
  "nbformat_minor": 0,
  "metadata": {
    "colab": {
      "name": "Copia de Clase 2- Sesion1-2-G168.ipynb",
      "provenance": [],
      "collapsed_sections": [],
      "include_colab_link": true
    },
    "kernelspec": {
      "name": "python3",
      "display_name": "Python 3"
    },
    "language_info": {
      "name": "python"
    }
  },
  "cells": [
    {
      "cell_type": "markdown",
      "metadata": {
        "id": "view-in-github",
        "colab_type": "text"
      },
      "source": [
        "<a href=\"https://colab.research.google.com/github/luis-fer993/py-projects/blob/main/starting.ipynb\" target=\"_parent\"><img src=\"https://colab.research.google.com/assets/colab-badge.svg\" alt=\"Open In Colab\"/></a>"
      ]
    },
    {
      "cell_type": "markdown",
      "metadata": {
        "id": "hLFFnHCle8DB"
      },
      "source": [
        "# **Sección 1.2 - Clase 2**\n",
        "\n",
        "\n",
        "\n",
        "\n",
        "\n",
        "\n",
        "\n",
        "\n",
        "\n",
        "\n",
        "![Sin título.png](data:image/png;base64,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)\n",
        "***Formador: Ayda Andrea Franco Villamil***"
      ]
    },
    {
      "cell_type": "markdown",
      "metadata": {
        "id": "C3Wg7psVgc0X"
      },
      "source": [
        "# **¿Cómo funciona un programa de computador?**"
      ]
    },
    {
      "cell_type": "markdown",
      "metadata": {
        "id": "SizQgb4ki1LS"
      },
      "source": [
        "Un programa hace que una computador sea utilizable. Sin un programa, un computador, incluso el más poderoso, no es más que un objeto. \n",
        "\n",
        "Los computadores pueden realizar tareas muy complejas, pero esta habilidad no es innata.\n",
        "\n",
        "Un computador puede ejecutar solo operaciones extremadamente simples, por ejemplo, un computador no puede evaluar el valor de una función matemática complicada por sí misma, aunque esto no está más allá de los límites posibles en un futuro próximo.\n",
        "\n"
      ]
    },
    {
      "cell_type": "markdown",
      "metadata": {
        "id": "2OlBTj1ZmZMO"
      },
      "source": [
        "# **Lenguajes naturales vs. Lenguajes de programación**"
      ]
    },
    {
      "cell_type": "markdown",
      "metadata": {
        "id": "kVjFOE6pmeaQ"
      },
      "source": [
        "Un lenguaje es un medio (y una herramienta) para expresar y registrar pensamientos. \n",
        "\n",
        "\n",
        "Otro lenguaje que empleas cada día es tu lengua materna, que utilizas para manifestar tu voluntad y para pensar en la realidad. Los computadores también tienen su propio lenguaje, llamado lenguaje máquina, el cual es muy rudimentario.\n",
        "\n",
        "Un computador, incluso el más técnicamente sofisticada, carece incluso de un rastro de inteligencia. \n",
        "\n",
        "Un conjunto completo de comandos conocidos se llama lista de instrucciones, a veces abreviada IL (por sus siglas en inglés de Instruction List). Los diferentes tipos de computadores pueden variar según el tamaño de sus IL y las instrucciones pueden ser completamente diferentes en diferentes modelos.\n",
        "\n",
        "Cada día se crean nuevas palabras y desaparecen las viejas. Estos lenguajes se llaman lenguajes naturales.\n",
        "\n"
      ]
    },
    {
      "cell_type": "markdown",
      "metadata": {
        "id": "9LRbriQewje6"
      },
      "source": [
        "# **¿Qué hace a un lenguaje?**"
      ]
    },
    {
      "cell_type": "markdown",
      "metadata": {
        "id": "BZ8MU38yw-4u"
      },
      "source": [
        "Cada idioma consta de los siguientes elementos:\n",
        "\n",
        "ALFABETO\n",
        "Un conjunto de símbolos utilizados para formar palabras de un determinado idioma.\n",
        "\n",
        "LÉXICO\n",
        "Un conjunto de palabras que el idioma ofrece a sus usuarios.\n",
        "\n",
        "SINTAXIS\n",
        "Un conjunto de reglas utilizadas para precisar si una determinada cadena de palabras forma una oración válida. \n",
        "\n",
        "SEMÁNTICA\n",
        "Un conjunto de reglas que determinan si una frase tiene sentido.\n",
        "\n",
        "La IL es, de hecho, el alfabeto de un lenguaje máquina. Este es el conjunto de símbolos más simple y principal que podemos usar para dar comandos a un computador. Es la lengua materna del computador.\n",
        "\n",
        "Necesitamos un lenguaje en el que los humanos puedan escribir sus programas y un lenguaje que los computadores puedan usar para ejecutar los programas, que es mucho más complejo que el lenguaje máquina y más sencillo que el lenguaje natural.\n",
        "\n",
        "\n",
        "Un programa escrito en un lenguaje de programación de alto nivel se llama código fuente (en contraste con el código de máquina ejecutado por los computadores). Del mismo modo, el archivo que contiene el código fuente se llama archivo fuente."
      ]
    },
    {
      "cell_type": "markdown",
      "metadata": {
        "id": "8Edx6iUA3J6q"
      },
      "source": [
        "# **Compilación vs. Interpretación**\n"
      ]
    },
    {
      "cell_type": "markdown",
      "metadata": {
        "id": "r7xn_VAa3Ns-"
      },
      "source": [
        "\n",
        "La programación de computadora es el acto de establecer una secuencia de instrucciones con la cual se causará el efecto deseado. El efecto podría ser diferente en cada caso específico: depende de la imaginación, el conocimiento y la experiencia del programador.\n",
        "\n",
        "**COMPILACIÓN** - El programa fuente se traduce una vez (sin embargo, esta ley debe repetirse cada vez que se modifique el código fuente) obteniendo un archivo (por ejemplo, un archivo .exe si el código está diseñado para ejecutarse en MS Windows) que contiene el código de la máquina; ahora puedes distribuir el archivo en todo el mundo; el programa que realiza esta traducción se llama compilador o traductor.\n",
        "\n",
        "**INTERPRETACIÓN** - Tú (o cualquier usuario del código) puedes traducir el programa fuente cada vez que se ejecute; el programa que realiza este tipo de transformación se denomina intérprete, ya que interpreta el código cada vez que está destinado a ejecutarse; también significa que no puede distribuir el código fuente tal como está, porque el usuario final también necesita que el intérprete lo ejecute."
      ]
    },
    {
      "cell_type": "markdown",
      "metadata": {
        "id": "Wv33ZDJH3hnJ"
      },
      "source": [
        "# **¿Qué es Python?**"
      ]
    },
    {
      "cell_type": "markdown",
      "metadata": {
        "id": "ZMjE2adB30jc"
      },
      "source": [
        "Python es un lenguaje de programación de alto nivel, interpretado, orientado a objetos y de uso generalizado con semántica dinámica, que se utiliza para la programación de propósito general.\n",
        "\n",
        "Y aunque puede que conozcas a la pitón como una gran serpiente, el nombre del lenguaje de programación Python proviene de una vieja serie de comedia de la BBC llamada Monty Python's Flying Circus."
      ]
    },
    {
      "cell_type": "markdown",
      "metadata": {
        "id": "fN5oO0N83_5F"
      },
      "source": [
        "# **¿Quién creó Python?**"
      ]
    },
    {
      "cell_type": "markdown",
      "metadata": {
        "id": "qIiQjJGC4Hvu"
      },
      "source": [
        "Una de las características sorprendentes de Python es el hecho de que en realidad es el trabajo de una persona. Por lo general, los grandes lenguajes de programación son desarrollados y publicados por grandes compañías que emplean a muchos profesionales, y debido a las normas de derechos de autor, es muy difícil nombrar a cualquiera de las personas involucradas en el proyecto. Python es una excepción.\n",
        "\n",
        "No hay muchos idiomas cuyos autores son conocidos por su nombre. Python fue creado por Guido van Rossum, nacido en 1956 en Haarlem, Países Bajos. Por supuesto, Guido van Rossum no desarrolló y evolucionó todos los componentes de Python."
      ]
    },
    {
      "cell_type": "markdown",
      "metadata": {
        "id": "_xywT6z64fP2"
      },
      "source": [
        "# **Los objetivos de Python**"
      ]
    },
    {
      "cell_type": "markdown",
      "metadata": {
        "id": "e70iWJ4P4yCA"
      },
      "source": [
        "En 1999, Guido van Rossum definió sus objetivos para Python:\n",
        "\n",
        "Un lenguaje fácil e intuitivo tan poderoso como los de los principales competidores.\n",
        "De código abierto, para que cualquiera pueda contribuir a su desarrollo.\n",
        "El código que es tan comprensible como el inglés simple.\n",
        "Adecuado para tareas cotidianas, permitiendo tiempos de desarrollo cortos.\n",
        "Unos 20 años después, está claro que todas estas intenciones se han cumplido. Algunas fuentes dicen que Python es el lenguaje de programación más popular del mundo, mientras que otros afirman que es el tercero o el quinto.\n",
        "\n",
        "Python no es una lengua joven. Es maduro y digno de confianza. No es una maravilla de un solo golpe. Es una estrella brillante en el firmamento de programación, y el tiempo dedicado a aprender Python es una muy buena inversión"
      ]
    },
    {
      "cell_type": "markdown",
      "metadata": {
        "id": "gYF9tpyN5hrB"
      },
      "source": [
        "# **¿Qué hace especial a Python?**"
      ]
    },
    {
      "cell_type": "markdown",
      "metadata": {
        "id": "i-PIVIYO5_14"
      },
      "source": [
        "Hay muchas razones. Ya hemos enumerado algunas de ellas, pero vamos a enumerarlas de una manera más práctica:\n",
        "\n",
        "Es fácil de aprender \n",
        "Es fácil de enseñar\n",
        "Es fácil de utilizar \n",
        "Es fácil de entender\n",
        "A menudo, también es más fácil entender el código de otra persona más rápido si está escrito en Python.\n",
        "Es fácil de obtener, instalar y desplegar  \n",
        "Python es gratuito, abierto y multiplataforma; No todos los lenguajes pueden presumir de eso.\n",
        "\n",
        "\n",
        "Por supuesto, Python también tiene sus inconvenientes:\n",
        "\n",
        "No es un demonio de la velocidad; Python no ofrece un rendimiento excepcional.\n",
        "En algunos casos puede ser resistente a algunas técnicas de prueba más simples, lo que puede significar que la depuración del código de Python puede ser más difícil que con otros lenguajes. "
      ]
    },
    {
      "cell_type": "markdown",
      "metadata": {
        "id": "qt4QTZbl75yA"
      },
      "source": [
        "# **Comenzando tu trabajo con Python**"
      ]
    },
    {
      "cell_type": "markdown",
      "metadata": {
        "id": "mfJqSrN9-8-e"
      },
      "source": [
        "Para comenzar tu trabajo, necesitas las siguientes herramientas:\n",
        "\n",
        "Un editor que te ayudará a escribir el código \n",
        "Una consola en la que puedes iniciar tu código recién escrito y detenerlo por la fuerza cuando se sale de control.\n",
        "Una herramienta llamada depurador, capaz de ejecutar tu código paso a paso y te permite inspeccionarlo en cada momento de su ejecución.\n",
        "\n",
        "\n",
        "Además de sus muchos componentes útiles, la instalación estándar de Python 3 contiene una aplicación muy simple pero extremadamente útil llamada IDLE.\n",
        "\n",
        "IDLE es un acrónimo de: Integrated Development and Learning Environment (Desarrollo Integrado y Entorno de Aprendizaje)."
      ]
    },
    {
      "cell_type": "markdown",
      "metadata": {
        "id": "lGfJnqx9_V55"
      },
      "source": [
        "# **¿Cómo escribir y ejecutar tu primer programa?**"
      ]
    },
    {
      "cell_type": "markdown",
      "metadata": {
        "id": "pBM4l7xz_pA_"
      },
      "source": [
        "Escribir un programa que salude en pantalla con el texto Hola Mundo"
      ]
    },
    {
      "cell_type": "code",
      "metadata": {
        "id": "pkeu2DgC_q98"
      },
      "source": [
        "# Esta línea es un comentario y el interprete de Python que está en la Nube la ignora\n",
        "# Para ejecutarlo presiona el boton play en la esquina supeior derecha de esta celda o selecciona la opción Entorno de ejecución-- Ejecutar selección, asegurate de estar ubicado en esta celda \n",
        "# Primer programa  Saludo al Mundo\n",
        " print(\"hola mundo\")"
      ],
      "execution_count": null,
      "outputs": []
    },
    {
      "cell_type": "markdown",
      "metadata": {
        "id": "4Rqs-fL5ABJS"
      },
      "source": [
        "## Aprendamos de los errores\n",
        "Realiza los siguientes cambios al programa en la celda anterior, para que veas mensajes de error generados por una sintaxis incorrecta, luego los corriges y asi vas probando uno a uno:\n",
        "\n",
        "\n",
        "*   Pon la P de la instrucción `print` en mayúscula\n",
        "*   Ejecuta de nuevo el programa, analiza el error  \n",
        "*   Corrige y asegúrate que ya no genera error\n",
        "*   Quita el parentesis derecho de la instrucción\n",
        "*   Ejecuta de nuevo el programa, analiza el error  \n",
        "*   Corrige y asegúrate que ya no genera error\n",
        "*   Quita el parentesis izquierdo de la instrucción\n",
        "*   Ejecuta de nuevo el programa, analiza el error  \n",
        "*   Corrige y asegúrate que ya no genera error\n",
        "*   Quita una de las comillas de la instrucción\n",
        "*   Ejecuta de nuevo el programa, analiza el error  \n",
        "*   Corrige y asegúrate que ya no genera error\n",
        "*   Quita ambas comillas de la instrucción\n",
        "*   Ejecuta de nuevo el programa, analiza el error  \n",
        "*   Corrige y asegúrate que ya no genera error\n",
        "*   Corrige y asegúrate que ya no genera error\n",
        "*   Pon un espacio antes de la instrucción print (identado)\n",
        "*   Ejecuta de nuevo el programa, analiza el error  \n",
        "*   Corrige y asegúrate que ya no genera error\n",
        "*   Escribe Hola sin H\n",
        "*   Reemplaza las comillas simples por comillas dobles\n",
        "\n",
        "## Ejercicios\n",
        "### Poliglota\n",
        "Utilizando la instrucción print escriba un programa que salude en Español, Inglés y Portugués."
      ]
    },
    {
      "cell_type": "code",
      "metadata": {
        "colab": {
          "base_uri": "https://localhost:8080/"
        },
        "id": "_2OKu9aqFlef",
        "outputId": "fe13cbf8-897d-4b9f-9967-6921a4330f1e"
      },
      "source": [
        "#Ejercicio ed errores de python 1\n",
        "print('hola mundo '+\"hola2\")"
      ],
      "execution_count": null,
      "outputs": [
        {
          "output_type": "stream",
          "text": [
            "hola mundo hola2\n"
          ],
          "name": "stdout"
        }
      ]
    },
    {
      "cell_type": "code",
      "metadata": {
        "id": "i0RWafrlADc3"
      },
      "source": [
        "#escribe tu programa justo aqui\n",
        "\n",
        "print(\"---------saludo-----------\")\n",
        "print(\"1. Español\")\n",
        "print(\"1. Ingles\")\n",
        "print(\"1. Portugues\")\n",
        "saludo = input(\"ingrese el numero del idioma: \")\n",
        "if saludo == \"1\":\n",
        "  print(\"hola\")\n",
        "if saludo == \"2\":\n",
        "  print(\"Hello\")\n",
        "if saludo == \"3\":\n",
        "  print(\"Óla\"ldkkek"
      ],
      "execution_count": null,
      "outputs": []
    },
    {
      "cell_type": "code",
      "metadata": {
        "colab": {
          "base_uri": "https://localhost:8080/"
        },
        "id": "n-Dvbq9ZyH0O",
        "outputId": "bf338e60-2620-4d1e-effc-2abc335d6c40"
      },
      "source": [
        "print(\"holamundo\")"
      ],
      "execution_count": null,
      "outputs": [
        {
          "output_type": "stream",
          "text": [
            "holamundo\n"
          ],
          "name": "stdout"
        }
      ]
    },
    {
      "cell_type": "code",
      "metadata": {
        "id": "cXx7_corx5_b"
      },
      "source": [
        ""
      ],
      "execution_count": null,
      "outputs": []
    },
    {
      "cell_type": "markdown",
      "metadata": {
        "id": "I2T94hvuAZdG"
      },
      "source": [
        "### Mundo ASCII\n",
        "\n",
        "R2D2 o Arturito es uno de los robots mas famosos de la galaxía y nos han solicitado que escribamos un programa que lo dibuje en un mundo 2D, asi como se presenta en esta foto (Tomada en pose natural)\n",
        "\n",
        "<img height=\"150px\" src=\"https://drive.google.com/thumbnail?id=1sVOmqG3nhqbb-INLgaXANjSGGQYel5a5\" align=\"left\" hspace=\"5px\" vspace=\"0\n",
        "px\">\n",
        "\n"
      ]
    },
    {
      "cell_type": "code",
      "metadata": {
        "id": "0Zevqvb1AfVJ"
      },
      "source": [
        "#escribe tu programa justo aqui\n",
        "\n",
        "print(\"    _____    \")\n",
        "print(\"   /  () \\   \")\n",
        "print(\" _|_______|_ \")\n",
        "print(\"| | ====  | |\")\n",
        "print(\"|_|   o   |_|\")\n",
        "print(\" ||   o   || \")\n",
        "print(\" ||___ ___|| \")\n",
        "print(\"|~ \\_____/~ |\")\n",
        "print(\"/=\\  /=\\  /=\\ \")\n",
        "print(\"[ ]  [ ]  [ ]e \")"
      ],
      "execution_count": null,
      "outputs": []
    },
    {
      "cell_type": "markdown",
      "metadata": {
        "id": "BoQmSmOSLUxh"
      },
      "source": [
        "Desarrolla el siguiente Quiz de repaso:\n",
        "\n",
        "(https://forms.gle/EtU9NFhVihnGXVBz9)"
      ]
    }
  ]
}