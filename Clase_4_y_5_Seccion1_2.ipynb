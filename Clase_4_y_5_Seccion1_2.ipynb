{
  "nbformat": 4,
  "nbformat_minor": 0,
  "metadata": {
    "colab": {
      "name": "Copia de Clase 4 y 5-  Seccion1.2-G168b.ipynb",
      "provenance": [],
      "collapsed_sections": [],
      "include_colab_link": true
    },
    "kernelspec": {
      "name": "python3",
      "display_name": "Python 3"
    },
    "language_info": {
      "name": "python"
    }
  },
  "cells": [
    {
      "cell_type": "markdown",
      "metadata": {
        "id": "view-in-github",
        "colab_type": "text"
      },
      "source": [
        "<a href=\"https://colab.research.google.com/github/luis-fer993/py-projects/blob/main/Clase_4_y_5_Seccion1_2.ipynb\" target=\"_parent\"><img src=\"https://colab.research.google.com/assets/colab-badge.svg\" alt=\"Open In Colab\"/></a>"
      ]
    },
    {
      "cell_type": "markdown",
      "metadata": {
        "id": "_gq-BPXvvceq"
      },
      "source": [
        "# **Sección 1.2 Clase 4**\n",
        "\n",
        "![Sin título.png](data:image/png;base64,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)\n",
        "***Formador: Ayda Andrea Franco Villamil***"
      ]
    },
    {
      "cell_type": "markdown",
      "metadata": {
        "id": "dwCzVV-ipg4a"
      },
      "source": [
        "#Tipos de Datos"
      ]
    },
    {
      "cell_type": "code",
      "metadata": {
        "id": "gaFW07VzpvQC"
      },
      "source": [
        "print(\"2\")\n",
        "print(2)"
      ],
      "execution_count": null,
      "outputs": []
    },
    {
      "cell_type": "markdown",
      "metadata": {
        "id": "53ipEpaVq56u"
      },
      "source": [
        "# **Tipos de datos primitivos simples**\n",
        "\n",
        "\n",
        "**Números (numbers):** Secuencia de dígitos \n",
        "\n",
        "\n",
        "**Cadenas (strings):** Secuencia de caracteres alfanuméricos que representan texto. Se escriben entre comillas simples o dobles.\n",
        "\n",
        "\n",
        "**Booleanos (boolean):** Contiene únicamente dos elementos True y False que representan los valores lógicos verdadero y falso respectivamente.\n",
        "Estos datos son inmutables, es decir, su valor es constante y no puede cambiar."
      ]
    },
    {
      "cell_type": "markdown",
      "metadata": {
        "id": "kPG7wCOgr61e"
      },
      "source": [
        "## **Tipos de datos primitivos compuestos**(contenedores)\n",
        "\n",
        "**Listas (lists):** Colecciones de objetos que representan secuencias ordenadas de objetos de distintos tipos. Se representan con corchetes y los elementos se separan por comas.\n",
        "Ejemplo. [1, “dos”, [3, 4], True].\n",
        "\n",
        "**Tuplas (tuples). **Colecciones de objetos que representan secuencias ordenadas de objetos de distintos tipos. A diferencia de las listas son inmutables, es decir, que no cambian durante la ejecución. Se representan mediante paréntesis y los elementos se separan por comas.\n",
        "Ejemplo. (1, ‘dos’, 3)\n",
        "\n",
        "**Diccionarios (dictionaries):** Colecciones de objetos con una clave asociada. Se representan con llaves, los pares separados por comas y cada par contiene una clave y un objeto asociado separados por dos puntos.\n",
        "Ejemplo. {‘pi’:3.1416, ‘e’:2.718}."
      ]
    },
    {
      "cell_type": "markdown",
      "metadata": {
        "id": "i6qru-78syhN"
      },
      "source": [
        "# **Clase de un dato (type())**\n",
        "\n",
        "La clase a la que pertenece un dato se obtiene con el comando type()"
      ]
    },
    {
      "cell_type": "code",
      "metadata": {
        "id": "eUGT23Ros3gP"
      },
      "source": [
        ""
      ],
      "execution_count": null,
      "outputs": []
    },
    {
      "cell_type": "markdown",
      "metadata": {
        "id": "0pWrqh6gqiRh"
      },
      "source": [
        "# **Enteros y Flotantes**\n",
        "\n",
        "\n",
        "**Enteros**, es decir, aquellos que no tienen una parte fraccionaria.\n",
        "\n",
        "Y números **punto-flotantes** (o simplemente flotantes), los cuales contienen (o son capaces de contener) una parte fraccionaría."
      ]
    },
    {
      "cell_type": "code",
      "metadata": {
        "id": "vevydiJYuLtO"
      },
      "source": [
        ""
      ],
      "execution_count": null,
      "outputs": []
    },
    {
      "cell_type": "markdown",
      "metadata": {
        "id": "hlAWR6nfqnXO"
      },
      "source": [
        "# **Enteros vs. Flotantes**\n"
      ]
    },
    {
      "cell_type": "markdown",
      "metadata": {
        "id": "qwhyA8GAvD-v"
      },
      "source": [
        "OJO BORRAR: El punto decimal es esencialmente importante para reconocer números punto-flotantes en Python.\n",
        "\n",
        "Observa estos dos números:"
      ]
    },
    {
      "cell_type": "code",
      "metadata": {
        "id": "M6AJE-XAvNdN"
      },
      "source": [
        "print(4)\n",
        "print(4.0)"
      ],
      "execution_count": null,
      "outputs": []
    },
    {
      "cell_type": "code",
      "metadata": {
        "id": "QLZxp8cUv2Dk",
        "colab": {
          "base_uri": "https://localhost:8080/"
        },
        "outputId": "7eeb269e-f934-4bc6-fdb9-f2ca3c6c5169"
      },
      "source": [
        "3e8\n"
      ],
      "execution_count": null,
      "outputs": [
        {
          "output_type": "execute_result",
          "data": {
            "text/plain": [
              "300000000.0"
            ]
          },
          "metadata": {
            "tags": []
          },
          "execution_count": 1
        }
      ]
    },
    {
      "cell_type": "markdown",
      "metadata": {
        "id": "s_4hswUqwn9m"
      },
      "source": [
        "# **Cadenas**\n",
        "\n",
        "Las cadenas se emplean cuando se requiere procesar texto (como nombres de cualquier tipo, direcciones, novelas, etc.), no números.\n"
      ]
    },
    {
      "cell_type": "markdown",
      "metadata": {
        "id": "8gI5rAlwb8WS"
      },
      "source": [
        "#**Los Operadores Básicos**\n",
        "\n",
        "Operadores y sus prioridades\n",
        "\n",
        "Que son las variables\n",
        "nombrar variables\n",
        "resolviendo problemas matematicos básicos\n",
        "Operadores abreviados\n",
        "la funcion input\n",
        "funcion input con argumento\n",
        "operaciones con cadenas concatenación\n",
        "conversion de tipos de datos\n",
        "Quiz\n",
        "\n"
      ]
    },
    {
      "cell_type": "markdown",
      "metadata": {
        "id": "LHbhzgiEwg3G"
      },
      "source": [
        "Un operador es un símbolo del lenguaje de programación, el cual es capaz de realizar operaciones con los valores.\n",
        "\n",
        "Se comenzará con los operadores que están asociados con las operaciones aritméticas más conocidas:\n",
        "\n",
        "+, -, *, /, //, %, **\n"
      ]
    },
    {
      "cell_type": "markdown",
      "metadata": {
        "id": "-53Gfbtt4nYZ"
      },
      "source": [
        "#Operadores aritméticos: exponenciación\n",
        "\n",
        "Un signo de ** (doble asterisco) es un operador de exponenciación (potencia). El argumento a la izquierda es la base, el de la derecha, el exponente."
      ]
    },
    {
      "cell_type": "code",
      "metadata": {
        "id": "lFzqyFL14qh4"
      },
      "source": [
        ""
      ],
      "execution_count": null,
      "outputs": []
    },
    {
      "cell_type": "markdown",
      "metadata": {
        "id": "WOb9nvoS5PG1"
      },
      "source": [
        "# Operadores aritméticos: multiplicación\n",
        "\n",
        "Un símbolo de * (asterisco) es un operador de multiplicación"
      ]
    },
    {
      "cell_type": "code",
      "metadata": {
        "id": "RMIgS5k45bQQ"
      },
      "source": [
        ""
      ],
      "execution_count": null,
      "outputs": []
    },
    {
      "cell_type": "markdown",
      "metadata": {
        "id": "ziVHtfZk5nXY"
      },
      "source": [
        "# Operadores aritméticos: división\n",
        "\n",
        "Un símbolo de / (diagonal) es un operador de división.\n",
        "\n",
        "El valor después de la diagonal es el dividendo, el valor antes de la diagonal es el divisor."
      ]
    },
    {
      "cell_type": "code",
      "metadata": {
        "id": "EXnG7Chd5t3c"
      },
      "source": [
        ""
      ],
      "execution_count": null,
      "outputs": []
    },
    {
      "cell_type": "markdown",
      "metadata": {
        "id": "SvGIj-kL6QMh"
      },
      "source": [
        "# Operadores aritméticos: división entera\n",
        "\n",
        "Un símbolo de // (doble diagonal) es un operador de división entera. Difiere del operador estándar / en dos detalles:\n",
        "\n",
        "El resultado carece de la parte fraccionaria, está ausente (para los enteros), o siempre es igual a cero (para los flotantes); esto significa que los resultados siempre son redondeados.\n",
        "Se ajusta a la regla entero vs flotante."
      ]
    },
    {
      "cell_type": "code",
      "metadata": {
        "id": "mIHn9ez_6wCe"
      },
      "source": [
        "print(6 // 3)\n",
        "print(6 // 3.)\n",
        "print(6. // 3)\n",
        "print(6. // 3.)"
      ],
      "execution_count": null,
      "outputs": []
    },
    {
      "cell_type": "code",
      "metadata": {
        "id": "jGK5ZG4T7eTo"
      },
      "source": [
        ""
      ],
      "execution_count": null,
      "outputs": []
    },
    {
      "cell_type": "markdown",
      "metadata": {
        "id": "mRg0qYPE8Y3U"
      },
      "source": [
        "# Operadores: residuo (módulo)\n",
        "\n",
        "El siguiente operador es uno muy peculiar, porque no tiene un equivalente dentro de los operadores aritméticos tradicionales.\n",
        "\n",
        "Su representación gráfica en Python es el símbolo de % (porcentaje), lo cual puede ser un poco confuso.\n",
        "\n",
        "Piensa en el como una diagonal (operador de división) acompañado por dos pequeños círculos.\n",
        "\n",
        "El resultado de la operación es el residuo que queda de la división entera."
      ]
    },
    {
      "cell_type": "markdown",
      "metadata": {
        "id": "qsQ-QGQ9It4k"
      },
      "source": [
        "#Operadores: suma\n",
        "\n",
        "El símbolo del operador de suma es el + (signo de más), el cual esta completamente alineado a los estándares matemáticos."
      ]
    },
    {
      "cell_type": "code",
      "metadata": {
        "id": "YpaAN1UfK21a"
      },
      "source": [
        ""
      ],
      "execution_count": null,
      "outputs": []
    },
    {
      "cell_type": "markdown",
      "metadata": {
        "id": "DydDkNm_LN7M"
      },
      "source": [
        "#El operador de resta, operadores unarios y binarios\n",
        "\n",
        "El símbolo del operador de resta es obviamente - (el signo de menos), sin embargo debes notar que este operador tiene otra función - puede cambiar el signo de un número.\n",
        "\n",
        "Esta es una gran oportunidad para mencionar una distinción muy importante entre operadores unarios y binarios.\n",
        "\n",
        "En aplicaciones de resta, el operador de resta espera dos argumentos: el izquierdo (un minuendo en términos aritméticos) y el derecho (un sustraendo).\n",
        "\n",
        "Por esta razón, el operador de resta es considerado uno de los operadores binarios, así como los demás operadores de suma, multiplicación y división.\n",
        "\n",
        "Pero el operador negativo puede ser utilizado de una forma diferente"
      ]
    },
    {
      "cell_type": "code",
      "metadata": {
        "id": "xGlZ0N6NL7ZP"
      },
      "source": [
        ""
      ],
      "execution_count": null,
      "outputs": []
    },
    {
      "cell_type": "markdown",
      "metadata": {
        "id": "nmy65enkM1NR"
      },
      "source": [
        "# Operadores y sus prioridades\n",
        "\n",
        "El fenómeno que causa que algunos operadores actúen antes que otros es conocido como la jerarquía de prioridades.\n",
        "\n",
        "Python define la jerarquía de todos los operadores, y asume que los operadores de mayor jerarquía deben realizar sus operaciones antes que los de menor jerarquía."
      ]
    },
    {
      "cell_type": "code",
      "metadata": {
        "id": "702kmwBLNDTF"
      },
      "source": [
        "2 + 3 * 5"
      ],
      "execution_count": null,
      "outputs": []
    },
    {
      "cell_type": "markdown",
      "metadata": {
        "id": "mtE68uyaSdlK"
      },
      "source": [
        "# Operadores y sus enlaces: exponenciación\n",
        "\n",
        "Repite el experimento, pero ahora con exponentes.\n",
        "\n",
        "Utiliza este fragmento de código:"
      ]
    },
    {
      "cell_type": "code",
      "metadata": {
        "id": "RcrKk66cSsJb"
      },
      "source": [
        ""
      ],
      "execution_count": null,
      "outputs": []
    },
    {
      "cell_type": "markdown",
      "metadata": {
        "id": "YBpYWnYTS7ZV"
      },
      "source": [
        "El resultado muestra claramente que el operador de exponenciación utiliza enlazado hacia la derecha."
      ]
    },
    {
      "cell_type": "markdown",
      "metadata": {
        "id": "qqpD1sR0TShg"
      },
      "source": [
        "#Lista de prioridades\n",
        "\n",
        "![TABLA1.png](data:image/png;base64,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)"
      ]
    },
    {
      "cell_type": "markdown",
      "metadata": {
        "id": "Sl4jbw3FUp7p"
      },
      "source": [
        "#Operadores y paréntesis\n",
        "\n",
        "Por supuesto, se permite hacer uso de paréntesis, lo cual cambiará el orden natural del cálculo de la operación.\n"
      ]
    },
    {
      "cell_type": "markdown",
      "metadata": {
        "id": "7r1o9Vnecn6x"
      },
      "source": [
        ""
      ]
    },
    {
      "cell_type": "markdown",
      "metadata": {
        "id": "Oy_hGf3VcnnB"
      },
      "source": [
        ""
      ]
    },
    {
      "cell_type": "markdown",
      "metadata": {
        "id": "MqVe4U8rXDvx"
      },
      "source": [
        "#EJERCICIO\n",
        "\n",
        "¿Cuál es la salida del siguiente fragmento de código?\n",
        "\n",
        "print((2**4), (2*4.), (2*4))\n",
        "\n",
        "print((-2/4), (2/4), (2//4), (-2//4))\n",
        "\n",
        "print((2%-4), (2%4), (2**3**2))"
      ]
    },
    {
      "cell_type": "code",
      "metadata": {
        "id": "3tuVgZydZI6q"
      },
      "source": [
        ""
      ],
      "execution_count": null,
      "outputs": []
    },
    {
      "cell_type": "code",
      "metadata": {
        "id": "-AcoSWFAZJfV"
      },
      "source": [
        ""
      ],
      "execution_count": null,
      "outputs": []
    },
    {
      "cell_type": "code",
      "metadata": {
        "id": "cVSSp__iGaQX"
      },
      "source": [
        ""
      ],
      "execution_count": null,
      "outputs": []
    },
    {
      "cell_type": "markdown",
      "metadata": {
        "id": "0lWcdsyYFvDX"
      },
      "source": [
        ""
      ]
    },
    {
      "cell_type": "markdown",
      "metadata": {
        "id": "DISOwNuNZ-pt"
      },
      "source": [
        "#**¿Qué son las Variables?**\n",
        "\n",
        "Python ofrece \"cajas\" (contenedores) especiales para este propósito, estas cajas son llamadas variables - el nombre mismo sugiere que el contenido de estos contenedores puede variar en casi cualquier forma.\n",
        "\n",
        "#¿Cuáles son los componentes o elementos de una variable en Python?\n",
        "\n",
        "Un nombre.<BR>\n",
        "Un valor (el contenido del contenedor)."
      ]
    },
    {
      "cell_type": "markdown",
      "metadata": {
        "id": "lVZR2kBYa8pC"
      },
      "source": [
        "**Si se desea nombrar una variable, se deben seguir las siguientes reglas:**\n",
        "\n",
        "El nombre de la variable debe de estar compuesto por MAYUSCULAS, minúsculas, dígitos, y el carácter _ (guion bajo).\n",
        "El nombre de la variable debe comenzar con una letra.\n",
        "<BR><BR>\n",
        "El carácter guion bajo es considerado una letra.<BR><BR>\n",
        "Las mayúsculas y minúsculas se tratan de forma distinta<BR><BR> \n",
        "El nombre de las variables no pueden ser igual a alguna de las palabras reservadas de Python."
      ]
    },
    {
      "cell_type": "markdown",
      "metadata": {
        "id": "3xYpMNtukfof"
      },
      "source": [
        "**Nombres correctos e incorrectos de variables**\n",
        "\n",
        "*Nota: la misma restricción aplica a los nombres de funciones.*\n",
        "\n",
        "Python no impone restricciones en la longitud de los nombres de las variables, pero eso no significa que un nombre de variable largo sea mejor que uno corto.\n",
        "\n",
        "Aquí se muestran algunos nombres de variable que son correctos, pero que no siempre son convenientes:\n",
        "\n",
        "***MiVariable, i, t34, Tasa_Cambio, contador, DiasParaNavidad, ElNombreEsTanLargoQueSeCometeranErroresConEl, _.***\n",
        "\n",
        "\n",
        "Además, Python permite utilizar no solo las letras latinas, sino caracteres específicos de otros idiomas que utilizan otros alfabetos.\n",
        "\n",
        "Estos nombres de variables también son correctos:\n",
        "\n",
        "***Adiós_Señora, sûr_la_mer, Einbahnstraße, переменная.***\n",
        "\n",
        "\n",
        "Ahora veamos algunos nombres incorrectos:\n",
        "\n",
        "***10t (no comienza con una letra), Tasa Cambio (contiene un espacio).***"
      ]
    },
    {
      "cell_type": "markdown",
      "metadata": {
        "id": "qjTrD6FRlSnb"
      },
      "source": [
        "#Palabras Clave\n"
      ]
    },
    {
      "cell_type": "code",
      "metadata": {
        "id": "L4DFJ3X9lb_d",
        "colab": {
          "base_uri": "https://localhost:8080/"
        },
        "outputId": "49b8c80b-efb0-4636-9edc-fb2ab2c137c3"
      },
      "source": [
        "['False', 'None', 'True', 'and', 'as', 'assert', 'break', 'class', 'continue', 'def', 'del', 'elif', 'else', 'except', 'finally', 'for', 'from', 'global', 'if', 'import', 'in', 'is', 'lambda', 'nonlocal', 'not', 'or', 'pass', 'raise', 'return', 'try', 'while', 'with', 'yield']"
      ],
      "execution_count": null,
      "outputs": [
        {
          "output_type": "execute_result",
          "data": {
            "text/plain": [
              "['False',\n",
              " 'None',\n",
              " 'True',\n",
              " 'and',\n",
              " 'as',\n",
              " 'assert',\n",
              " 'break',\n",
              " 'class',\n",
              " 'continue',\n",
              " 'def',\n",
              " 'del',\n",
              " 'elif',\n",
              " 'else',\n",
              " 'except',\n",
              " 'finally',\n",
              " 'for',\n",
              " 'from',\n",
              " 'global',\n",
              " 'if',\n",
              " 'import',\n",
              " 'in',\n",
              " 'is',\n",
              " 'lambda',\n",
              " 'nonlocal',\n",
              " 'not',\n",
              " 'or',\n",
              " 'pass',\n",
              " 'raise',\n",
              " 'return',\n",
              " 'try',\n",
              " 'while',\n",
              " 'with',\n",
              " 'yield']"
            ]
          },
          "metadata": {
            "tags": []
          },
          "execution_count": 1
        }
      ]
    },
    {
      "cell_type": "markdown",
      "metadata": {
        "id": "oEqVEI5vln1v"
      },
      "source": [
        "Son llamadas palabras clave o (mejor dicho) palabras reservadas. Son reservadas porque no se deben utilizar como nombres: ni para variables, ni para funciones, ni para cualquier otra cosa que se desee crear."
      ]
    },
    {
      "cell_type": "markdown",
      "metadata": {
        "id": "gHncw6IMl5yO"
      },
      "source": [
        "#Creando variables\n",
        "\n",
        "¿Qué se puede poner dentro de una variable?\n",
        "\n",
        "Cualquier cosa.\n",
        "\n",
        "Se puede utilizar una variable para almacenar cualquier tipo de los valores que ya se han mencionado, y muchos mas de los cuales aun no se han explicado."
      ]
    },
    {
      "cell_type": "code",
      "metadata": {
        "id": "jct-fFwbnhuD",
        "colab": {
          "base_uri": "https://localhost:8080/"
        },
        "outputId": "6ff0bbf0-fe1e-454f-a6f6-b1119655cc30"
      },
      "source": [
        "var = \"3.7.1\"\n",
        "print(\"Version de Python: \"+var)"
      ],
      "execution_count": null,
      "outputs": [
        {
          "output_type": "stream",
          "text": [
            "Version de Python: 3.7.1\n"
          ],
          "name": "stdout"
        }
      ]
    },
    {
      "cell_type": "markdown",
      "metadata": {
        "id": "ueRWfLrGntMJ"
      },
      "source": [
        "#Asignar un valor nuevo a una variable ya existente\n",
        "\n",
        "¿Cómo se le asigna un valor nuevo a una variable que ya ha sido creada?<BR>\n",
        "De la misma manera. Solo se necesita el signo de igual.\n",
        "\n"
      ]
    },
    {
      "cell_type": "code",
      "metadata": {
        "id": "APLKuAowoTr2",
        "colab": {
          "base_uri": "https://localhost:8080/"
        },
        "outputId": "30f7d38d-c55e-4e89-8892-fa3dafdbf62d"
      },
      "source": [
        "var = 1\n",
        "print(var)\n",
        "var = var + 1\n",
        "print(var)"
      ],
      "execution_count": null,
      "outputs": [
        {
          "output_type": "stream",
          "text": [
            "1\n",
            "2\n"
          ],
          "name": "stdout"
        }
      ]
    },
    {
      "cell_type": "code",
      "metadata": {
        "colab": {
          "base_uri": "https://localhost:8080/"
        },
        "id": "e9b1F9QUMB8-",
        "outputId": "ef9afa3e-bb8c-4726-8172-4a903d6d6283"
      },
      "source": [
        "var = 100\n",
        "var = 200 + 300\n",
        "print(var)"
      ],
      "execution_count": null,
      "outputs": [
        {
          "output_type": "stream",
          "text": [
            "500\n"
          ],
          "name": "stdout"
        }
      ]
    },
    {
      "cell_type": "markdown",
      "metadata": {
        "id": "vOwGa4f7pIi5"
      },
      "source": [
        "#Resolviendo problemas matemáticos simples"
      ]
    },
    {
      "cell_type": "code",
      "metadata": {
        "id": "PBu2fwx1pLxl",
        "colab": {
          "base_uri": "https://localhost:8080/"
        },
        "outputId": "c5feb490-d54c-475c-a8dc-34e2ff950b07"
      },
      "source": [
        "a = 3.0\n",
        "b = 4.0\n",
        "c = (a ** 2 + b ** 2) ** 0.5\n",
        "print(\"c = \", c)"
      ],
      "execution_count": null,
      "outputs": [
        {
          "output_type": "stream",
          "text": [
            "c =  5.0\n"
          ],
          "name": "stdout"
        }
      ]
    },
    {
      "cell_type": "markdown",
      "metadata": {
        "id": "oc6M-rfBrzTR"
      },
      "source": [
        "#Ejemplo\n",
        "A continuación una historia:\n",
        "\n",
        "Érase una vez en la Tierra de las Manzanas, Juan tenía tres manzanas, María tenía cinco manzanas, y Adán tenía seis manzanas. Todos eran muy felices y vivieron por muchísimo tiempo. Fin de la Historia.\n",
        "\n",
        "Tu tarea es:\n",
        "\n",
        "Crear las variables: juan, maria, y adan.<br>\n",
        "Asignar valores a las variables.<br> El valor debe de ser igual al numero de manzanas que cada quien tenía.<br>\n",
        "Una vez almacenados los números en las variables, imprimir las variables en una línea, y separar cada una de ellas con una coma.<br>\n",
        "Después se debe crear una nueva variable llamada totalManzanas y se debe igualar a la suma de las tres variables anteriores.<br>\n",
        "Imprime el valor almacenado en totalManzanas en la consola.<br>\n",
        "Experimenta con tu código: crea nuevas variables, asigna diferentes valores a ellas, y realiza varias operaciones aritméticas con ellas (por ejemplo, +, -, *, /, //, etc.).<br> Intenta poner una cadena con un entero juntos en la misma línea, por ejemplo, \"Numero Total de Manzanas:\" y totalManzanas."
      ]
    },
    {
      "cell_type": "code",
      "metadata": {
        "id": "jpptjYcysKTZ",
        "colab": {
          "base_uri": "https://localhost:8080/"
        },
        "outputId": "9e3e919b-16b8-48bc-8a5a-deec9ded575a"
      },
      "source": [
        "# solucion ejercicio\n",
        "juan = 3\n",
        "maria = 5 \n",
        "adan = 6\n",
        "print(juan, maria, adan, sep=\", \")\n",
        "totalManzanas = juan + maria + adan\n",
        "print(\"total de manzanas: \"+str(totalManzanas))#en la concatenacion tienen que ser del mismo tipo, en este caso str()\n",
        "print(\"total de manzanas:\",totalManzanas)#son dos argumentos de impresion diferentes \n",
        "\n",
        "#PRUEBA\n",
        "a = \"1\"\n",
        "b = \"2\"\n",
        "c = 3\n",
        "print(\"\")\n",
        "print(a+b)\n",
        "#print(b+c)  genera un error por que no se pueden concatenar\n",
        "print(b,c)#no se estan concatenando, por que son diferentes argumentos"
      ],
      "execution_count": null,
      "outputs": [
        {
          "output_type": "stream",
          "text": [
            "3, 5, 6\n",
            "total de manzanas: 14\n",
            "total de manzanas: 14\n",
            "\n",
            "12\n",
            "2 3\n"
          ],
          "name": "stdout"
        }
      ]
    },
    {
      "cell_type": "markdown",
      "metadata": {
        "id": "tqNKd-9mtjx4"
      },
      "source": [
        "#Ejercicio 1\n",
        "\n",
        "Teniendo en mente que 1 equivale aproximadamente a 1.61 kilómetros, complemente el programa en el editor para que convierta de:<br><br>\n",
        "\n",
        "Millas a kilómetros.<br>\n",
        "Kilómetros a millas.<br><br>\n",
        "No se debe cambiar el código existente. Escribe tu código en los lugares indicados con ###. Prueba tu programa con los datos que han sido provistos en el código fuente.<br>\n",
        "\n",
        "Pon mucha atención a lo que esta ocurriendo dentro de la función print(). Analiza como es que se proveen múltiples argumentos para la función, y como es que se muestra el resultado.\n",
        "\n",
        "**Nota que algunos de los argumentos dentro de la función print() son cadenas (por ejemplo \"millas son\", y otros son variables (por ejemplo millas).**\n",
        "\n",
        "*CONSEJO*\n",
        "\n",
        "Hay una cosa interesante mas que esta ocurriendo. ¿Puedes ver otra función dentro de la función print() ? **Es la función round()**. Su trabajo es redondear la salida del resultado al numero de decimales especificados en el paréntesis, y regresar un valor flotante (dentro de la función round() se puede encontrar el nombre de la variable, el nombre, una coma, y el numero de decimales que se desean mostrar). Se hablará mas de esta función muy pronto, no te preocupes si no todo queda muy claro. Solo se quiere impulsar tu curiosidad.\n",
        "\n"
      ]
    },
    {
      "cell_type": "code",
      "metadata": {
        "id": "kb5KGiI9uhNu",
        "colab": {
          "base_uri": "https://localhost:8080/"
        },
        "outputId": "aa999aff-9cbd-4ccf-e312-5967503e4087"
      },
      "source": [
        "kilometros = 12.25\n",
        "millas = 7.38\n",
        "\n",
        "millas_a_kilometros = millas * 1.61###\n",
        "kilometros_a_millas = kilometros * 0.62 ###\n",
        "\n",
        "print(millas, \" millas son \", round(millas_a_kilometros, 2), \" kilómetros \")\n",
        "print(kilometros, \" kilómetros son \", round(kilometros_a_millas, 2), \" millas \")"
      ],
      "execution_count": null,
      "outputs": [
        {
          "output_type": "stream",
          "text": [
            "7.38  millas son  11.88  kilómetros \n",
            "12.25  kilómetros son  7.59  millas \n"
          ],
          "name": "stdout"
        }
      ]
    },
    {
      "cell_type": "markdown",
      "metadata": {
        "id": "2Ty8fPNducTY"
      },
      "source": [
        "#Ejercicio 2\n",
        "\n",
        "Después de completar el ejercicio 1 experimenta más. Intenta escribir diferentes convertidores, por ejemplo, un convertidor de USD a EUR y un convertidor de temperatura. Intenta mostrar los resultados combinando cadenas y variables. Intenta utilizar y experimentar con la función round() para redondear tus resultados a uno, dos o tres decimales. Revisa que es lo que sucede si no se provee un dígito al redondear. Recuerda probar tus programas.\n",
        "\n",
        "Experimenta, saca tus propias conclusiones, y aprende. Se curioso."
      ]
    },
    {
      "cell_type": "code",
      "metadata": {
        "colab": {
          "base_uri": "https://localhost:8080/"
        },
        "id": "nNhPkXGuXPPl",
        "outputId": "c3d8bac8-b034-4af4-bcad-7b1fd98894df"
      },
      "source": [
        "#Conversor de Dolares a Euros\n",
        "euro=500\n",
        "dolar=9.99\n",
        "dolar_a_euro = dolar * 0.85\n",
        "euro_a_dolar = euro * 1.17\n",
        "print(\"-\"*50+\"\\n\",\"\\t\\tConversor de Moneda\\n\"+\"-\"*50)\n",
        "print(dolar, \"dolares a euros son\",round(dolar_a_euro,2),\"euros\")\n",
        "print(euro, \"euros a dolares son\",round(euro_a_dolar,2),\"dolares\")"
      ],
      "execution_count": null,
      "outputs": [
        {
          "output_type": "stream",
          "text": [
            "--------------------------------------------------\n",
            " \t\tConversor de Moneda\n",
            "--------------------------------------------------\n",
            "9.99 dolares a euros son 8.49 euros\n",
            "500 euros a dolares son 585.0 dolares\n"
          ],
          "name": "stdout"
        }
      ]
    },
    {
      "cell_type": "code",
      "metadata": {
        "colab": {
          "base_uri": "https://localhost:8080/"
        },
        "id": "lzX7BVLBZ3J8",
        "outputId": "9f11965c-f076-4179-d9e2-a7c238663d5d"
      },
      "source": [
        "#Conversor de grados celcius a Farengit\n",
        "celcius=25\n",
        "farengit=32\n",
        "celcious_a_farengit = (celcius * 9/5)+32 #(0 °C × 9/5) + 32 = 32 °F\n",
        "farengit_a_celcius = (farengit -32)* 5/9 #(32 °F − 32) × 5/9 = 0 °C\n",
        "print(\"-\"*50+\"\\n\",\"\\t\\tConversor de Temperatura\\n\"+\"-\"*50)\n",
        "print(celcius, \"grados celcius a farengit son\",round(celcious_a_farengit,2),\"grados farengit\")\n",
        "print(farengit, \"grados farengit a celcius son\",round(farengit_a_celcius,2),\"grados celcius\")"
      ],
      "execution_count": null,
      "outputs": [
        {
          "output_type": "stream",
          "text": [
            "--------------------------------------------------\n",
            " \t\tConversor de Temperatura\n",
            "--------------------------------------------------\n",
            "25 grados celcius a farengit son 77.0 grados farengit\n",
            "32 grados farengit a celcius son 0.0 grados celcius\n"
          ],
          "name": "stdout"
        }
      ]
    },
    {
      "cell_type": "markdown",
      "metadata": {
        "id": "-WN7vntv3S5Z"
      },
      "source": [
        "#Ejercicio 3\n",
        "\n",
        "Observa el código en el editor: lee un valor flotante, lo coloca en una variable llamada x, e imprime el valor de la variable llamada y. Tu tarea es completar el código para evaluar la siguiente expresión:\n",
        "\n",
        "**$3x^3$ - $2x^2$ + $3x$ - $1$**\n",
        "\n",
        "El resultado debe ser asignado a y.\n",
        "\n",
        "Recuerda que la notación algebraica clásica muy seguido omite el operador de multiplicación, aquí se debe de incluir de manera explicita. Nota como se cambia el tipo de dato para asegurarnos de que x es del tipo flotante.\n",
        "\n",
        "Mantén tu código limpio y legible, y pruébalo utilizando los datos que han sido proporcionados. No te desanimes por no lograrlo en el primer intento. Se persistente y curioso.\n",
        "\n",
        "\n",
        "Prueba de Datos<br><br>\n",
        "Datos de Muestra<br>\n",
        "x = 0<br>\n",
        "x = 1<br>\n",
        "x = -1<br>\n",
        "<br>\n",
        "Salida Esperada<br>\n",
        "y = -1.0<br>\n",
        "y = 3.0<br>\n",
        "y = -9.0<br>\n"
      ]
    },
    {
      "cell_type": "code",
      "metadata": {
        "id": "wdenSQkh6dWq",
        "colab": {
          "base_uri": "https://localhost:8080/"
        },
        "outputId": "313ca66c-e52e-4007-8126-d7a1b49435e0"
      },
      "source": [
        "# codifica aquí tus datos de prueba.\n",
        "valor_x=int(input(\"ingrese un valor para x: \"))\n",
        "x=((3*valor_x**3)-(2*valor_x**2)+(3*valor_x-1))\n",
        "x = float(x)\n",
        "y = x\n",
        "# escribe tu código aquí.\n",
        "print(\"y =\", y)"
      ],
      "execution_count": null,
      "outputs": [
        {
          "output_type": "stream",
          "name": "stdout",
          "text": [
            "ingrese un valor para x: -1\n",
            "y = -9.0\n"
          ]
        }
      ]
    },
    {
      "cell_type": "markdown",
      "metadata": {
        "id": "KXdKqNFD7Q9c"
      },
      "source": [
        "# Ejercicio 4\n",
        "\n",
        "Escribir un programa que muestre por pantalla el resultado de la siguiente operación aritmética $\\left(\\frac{3+2}{2\\cdot 5}\\right)^2$."
      ]
    },
    {
      "cell_type": "code",
      "metadata": {
        "id": "waUoxOnT7Wvi",
        "colab": {
          "base_uri": "https://localhost:8080/"
        },
        "outputId": "16c8a21e-0a74-4f36-e50d-221232faeddd"
      },
      "source": [
        "((3+2)/(2*5))**2"
      ],
      "execution_count": null,
      "outputs": [
        {
          "output_type": "execute_result",
          "data": {
            "text/plain": [
              "0.25"
            ]
          },
          "metadata": {
            "tags": []
          },
          "execution_count": 6
        }
      ]
    },
    {
      "cell_type": "markdown",
      "metadata": {
        "id": "BIltNeHk32EF"
      },
      "source": [
        "# Ejercicios 5 - presedencia\n",
        "\n",
        "Calcula el resultado de estas expresiones, antes de caer en la tentación de probarlas en Python.Luego de que lo hagas, cae en la tentación.\n",
        "*  $2*(3-1)$\n",
        "*   $(1+1)**(5-2)$\n",
        "*   $400*100/(20-10+50)$\n",
        "*   $2**1+1$\n",
        "*   $3*1**3$\n",
        "*   $2*3-1$\n",
        "*   $5-3-1$\n",
        "*   $+--2$\n",
        "*   $-5/2-2$\n",
        "*   $-5//2-2$\n",
        "*   $3\\%2/5-8*3*15+18/8-*5$"
      ]
    },
    {
      "cell_type": "code",
      "metadata": {
        "id": "gPftp1dp4BDN"
      },
      "source": [
        ""
      ],
      "execution_count": null,
      "outputs": []
    },
    {
      "cell_type": "markdown",
      "metadata": {
        "id": "GdND_PF1AfFv"
      },
      "source": [
        "# **La función input()**\n",
        "\n",
        "\n",
        "La función input() es capaz de leer datos que fueron introducidos por el usuario y pasar esos datos al programa en ejecución.\n",
        "\n",
        "El programa entonces puede manipular los datos, haciendo que el código sea verdaderamente interactivo.\n",
        "\n",
        "Todos los programas leen y procesan datos. Un programa que no obtiene datos de entrada del usuario es un programa sordo."
      ]
    },
    {
      "cell_type": "markdown",
      "metadata": {
        "id": "A45aDeQcAryA"
      },
      "source": [
        "#OJO BORRAR\n",
        "# **La función input()**\n",
        "\n",
        "\n",
        "Ahora se introducirá una nueva función, la cual pareciese ser un reflejo de la función print().\n",
        "\n",
        "¿Por que? Bueno, print() envía datos a la consola.\n",
        "\n",
        "Esta nueva función obtiene datos de ella.\n",
        "\n",
        "print() no tiene un resultado utilizable. La importancia de esta nueva función es que regresa un valor muy utilizable.\n",
        "\n",
        "La función se llama input(). El nombre de la función lo dice todo.\n",
        "\n",
        "La función input() es capaz de leer datos que fueron introducidos por el usuario y pasar esos datos al programa en ejecución.\n",
        "\n",
        "El programa entonces puede manipular los datos, haciendo que el código sea verdaderamente interactivo.\n",
        "\n",
        "Todos los programas leen y procesan datos. Un programa que no obtiene datos de entrada del usuario es un programa sordo."
      ]
    },
    {
      "cell_type": "code",
      "metadata": {
        "id": "Pk09vRaCBQ30"
      },
      "source": [
        "print(\"Dime algo...\")\n",
        "algo = input()\n",
        "print(\"Mmm...\", algo, \"...¿en serio?\")"
      ],
      "execution_count": null,
      "outputs": []
    },
    {
      "cell_type": "markdown",
      "metadata": {
        "id": "JO01Q_QDCNjI"
      },
      "source": [
        "# La función input() con un argumento\n",
        "\n",
        "La función input() puede hacer algo más: puede mostrar un mensaje al usuario sin la ayuda de la función print().\n"
      ]
    },
    {
      "cell_type": "code",
      "metadata": {
        "id": "iFTpAaLMClLo"
      },
      "source": [
        "algo = input(\"Dime algo...\")\n",
        "print(\"Mmm...\", algo, \"...¿En serio?\")"
      ],
      "execution_count": null,
      "outputs": []
    },
    {
      "cell_type": "code",
      "metadata": {
        "colab": {
          "base_uri": "https://localhost:8080/"
        },
        "id": "KFhPoc5sZJHL",
        "outputId": "cffca091-fce4-4082-9814-833ee32783d4"
      },
      "source": [
        "edad = input(\"digita tu edad: \")\n",
        "nombre =input(\"ingresa tu nombre: \")\n",
        "print(\"!!! Hola \"+nombre+\" tines: \"+edad+\" años\")"
      ],
      "execution_count": null,
      "outputs": [
        {
          "output_type": "stream",
          "text": [
            "digita tu edad: 17\n",
            "ingresa tu nombre: luis\n",
            "!!! Hola luis tines: 17 años\n"
          ],
          "name": "stdout"
        }
      ]
    },
    {
      "cell_type": "markdown",
      "metadata": {
        "id": "nr96hh92DHrw"
      },
      "source": [
        "# El resultado de la función input()\n",
        "Se ha dicho antes, pero hay que decirlo sin ambigüedades una vez más: el resultado de la función input() es una cadena.\n"
      ]
    },
    {
      "cell_type": "code",
      "metadata": {
        "id": "YQzxCbuDDh0w",
        "colab": {
          "base_uri": "https://localhost:8080/"
        },
        "outputId": "f7d5ac5b-8f26-4e09-9707-e75cc04abf3f"
      },
      "source": [
        "cualquierNumero = int(input(\"Inserta un número: \"))\n",
        "algo = cualquierNumero ** 2.0\n",
        "print(cualquierNumero, \"al cuadrado es\", algo)"
      ],
      "execution_count": null,
      "outputs": [
        {
          "output_type": "stream",
          "text": [
            "Inserta un número: 25\n",
            "25 al cuadrado es 625.0\n"
          ],
          "name": "stdout"
        }
      ]
    },
    {
      "cell_type": "markdown",
      "metadata": {
        "id": "QQoSEmeZEwEn"
      },
      "source": [
        "# Conversión de datos o casting\n",
        "\n",
        "Python ofrece dos simples funciones para especificar un tipo de dato y resolver este problema, aquí están: int() y float().\n",
        "\n",
        "algo = float(input(\"Inserta un número: \"))<BR>\n",
        "resultado = algo ** 2.0<br>\n",
        "print(algo, \"al cuadrado es\", resultado)"
      ]
    },
    {
      "cell_type": "code",
      "metadata": {
        "id": "ux_oMWYzFJkm"
      },
      "source": [
        "algo = float(input(\"Inserta un número: \"))\n",
        "resultado = algo ** 2.0\n",
        "print(algo, \"al cuadrado es\", resultado)"
      ],
      "execution_count": null,
      "outputs": []
    },
    {
      "cell_type": "code",
      "metadata": {
        "id": "cHUQALJhFj6b",
        "colab": {
          "base_uri": "https://localhost:8080/"
        },
        "outputId": "2ddd1615-90c9-4c93-de0c-cbfea8787963"
      },
      "source": [
        "cateto_a = float(input(\"Inserta la longitud del primer cateto: \"))\n",
        "cateto_b = float(input(\"Inserta la longitud del segundo cateto \"))\n",
        "hipo = (cateto_a**2 + cateto_b**2) ** .5\n",
        "print(\"La longitud de la hipotenusa es: \",round(hipo, 3))"
      ],
      "execution_count": null,
      "outputs": [
        {
          "output_type": "stream",
          "text": [
            "Inserta la longitud del primer cateto: 5\n",
            "Inserta la longitud del segundo cateto 7\n",
            "La longitud de la hipotenusa es:  8.602\n"
          ],
          "name": "stdout"
        }
      ]
    },
    {
      "cell_type": "markdown",
      "metadata": {
        "id": "s0eaXV1QKNfg"
      },
      "source": [
        "# Operadores de cadenas - introducción\n",
        "\n",
        "Concatenación<BR>\n",
        "El signo de + (más), al ser aplicado a dos cadenas, se convierte en un operador de concatenación:\n",
        "\n",
        "string + string\n",
        "\n",
        "Simplemente concatena (junta) dos cadenas en una. Además, puede ser utilizado más de una vez en una misma expresión.\n",
        "\n",
        "En contraste con el operador aritmético, el operador de concatenación no es conmutativo, por ejemplo, \"ab\" + \"ba\" no es lo mismo que \"ba\" + \"ab\".\n",
        "\n",
        "No olvides, si se desea que el signo + sea un concatenador, no un sumador, solo se debe asegurar que ambos argumentos sean cadenas.\n",
        "\n",
        "No se pueden mezclar los tipos de datos aquí.\n",
        "\n"
      ]
    },
    {
      "cell_type": "code",
      "metadata": {
        "id": "0B_0a926Nm01",
        "colab": {
          "base_uri": "https://localhost:8080/"
        },
        "outputId": "c7093b76-3ced-4613-aa04-ad51febf2d02"
      },
      "source": [
        "#Este es un programa sencillo que muestra como funciona el signo + como concatenador:\n",
        "\n",
        "nom = input(\"¿Me puedes dar tu nombre por favor? \")\n",
        "ape = input(\"¿Me puedes dar tu apellido por favor? \")\n",
        "print(\"Gracias.\")\n",
        "print(\"\\nTu nombre es \" + nom + \" \" + ape + \".\")"
      ],
      "execution_count": null,
      "outputs": [
        {
          "output_type": "stream",
          "name": "stdout",
          "text": [
            "¿Me puedes dar tu nombre por favor? luis\n",
            "¿Me puedes dar tu apellido por favor? chaparro\n",
            "Gracias.\n",
            "\n",
            "Tu nombre es luis chaparro.\n"
          ]
        }
      ]
    },
    {
      "cell_type": "markdown",
      "metadata": {
        "id": "s_ifdpBi5VFE"
      },
      "source": [
        "# Replicación<br>\n",
        "El signo de * (asterisco), cuando es aplicado a una cadena y a un número (o a un número y cadena) se convierte en un operador de replicación.\n",
        "\n",
        "cadena * número<br>\n",
        "número * cadena"
      ]
    },
    {
      "cell_type": "code",
      "metadata": {
        "id": "LFZUviTw6C0V"
      },
      "source": [
        ""
      ],
      "execution_count": null,
      "outputs": []
    },
    {
      "cell_type": "code",
      "metadata": {
        "id": "3hXP2L0663Xa",
        "colab": {
          "base_uri": "https://localhost:8080/"
        },
        "outputId": "31427120-478f-4a41-9ca0-f6a62e59fdd3"
      },
      "source": [
        "#Este sencillo programa \"dibuja\" un rectángulo, haciendo uso del operador (+), pero en un nuevo rol:\n",
        "print(\"+\" + 10 * \"-\" + \"+\")\n",
        "print((\"|\" + \" \" * 10 + \"|\\n\") * 5, end=\"\")\n",
        "print(\"+\" + 10 * \"-\" + \"+\")"
      ],
      "execution_count": null,
      "outputs": [
        {
          "output_type": "stream",
          "text": [
            "+----------+\n",
            "|          |\n",
            "|          |\n",
            "|          |\n",
            "|          |\n",
            "|          |\n",
            "+----------+\n"
          ],
          "name": "stdout"
        }
      ]
    },
    {
      "cell_type": "markdown",
      "metadata": {
        "id": "0-BDF5zS7SuC"
      },
      "source": [
        "# Conversión de tipos de datos: str()\n",
        "\n",
        "A estas alturas ya sabes como emplear las funciones int() y float() para convertir una cadena a un número.\n",
        "\n",
        "Una función capaz de hacer esto se llama str():\n",
        "\n",
        "str(número)\n",
        "\n",
        "\n",
        "\n"
      ]
    },
    {
      "cell_type": "markdown",
      "metadata": {
        "id": "nOQY4LrT8udS"
      },
      "source": [
        "##Ejemplo: El \"triángulo rectángulo\" de nuevo<br>\n",
        "Este es el programa del \"triángulo rectángulo\" visto anteriormente:"
      ]
    },
    {
      "cell_type": "code",
      "metadata": {
        "id": "n-u0TlNr86d3"
      },
      "source": [
        ""
      ],
      "execution_count": null,
      "outputs": []
    },
    {
      "cell_type": "markdown",
      "metadata": {
        "id": "oFfvRi1C9rjd"
      },
      "source": [
        "#Ejercicios 1\n",
        "\n",
        "**Objetivos**<br><br>\n",
        "Familiarizarse con la entrada y salida de datos en Python.\n",
        "Evaluar expresiones simples.\n",
        "Escenario\n",
        "La tarea es completar el código para evaluar y mostrar el resultado de cuatro operaciones aritméticas básicas.\n",
        "\n",
        "El resultado debe ser mostrado en consola.\n",
        "\n",
        "Quizá no podrás proteger el código de un usuario que intente dividir entre cero. Por ahora, no hay que preocuparse por ello.\n",
        "\n",
        "Prueba tu código - ¿Produce los resultados esperados?"
      ]
    },
    {
      "cell_type": "code",
      "metadata": {
        "id": "_HiyQocZ-NDj",
        "colab": {
          "base_uri": "https://localhost:8080/"
        },
        "outputId": "baa6b584-892c-445a-be1a-8d3b2af7809d"
      },
      "source": [
        "# ingresa un valor flotante para la variable a aquí\n",
        "# ingresa un valor flotante para la variable b aquí\n",
        "\n",
        "# muestra el resultado de la suma aquí \n",
        "# muestra el resultado de la resta aquí\n",
        "# muestra el resultado de la multiplicación aquí\n",
        "# muestra el resultado de la división aquí\n",
        "\n",
        "#operaciones \n",
        "a= int(input(\"ingrese un numero: \"))\n",
        "b= int(input(\"ingrese otro numero: \"))\n",
        "suma = a+b\n",
        "resta= a-b\n",
        "mult= a*b\n",
        "div=a/b\n",
        "mn=\"-\"*20+\"\\n\"+\"Operaciones\"+\"\\n\"+\"-\"*20\n",
        "print(mn)\n",
        "print(\"la suma de:\",a,\"+\",b,\"es:\",suma)\n",
        "print(\"la resta de:\",a,\"-\",b,\"es:\",resta)\n",
        "print(\"la multiplicacion de:\",a,\"x\",b,\"es:\",mult)\n",
        "print(\"la divicion de:\",a,\"/\",b,\"es:\",div)\n",
        "print(\"\\n¡Eso es todo, amigos!\")"
      ],
      "execution_count": null,
      "outputs": [
        {
          "output_type": "stream",
          "name": "stdout",
          "text": [
            "ingrese un numero: 52\n",
            "ingrese otro numero: 55\n",
            "--------------------\n",
            "Operaciones\n",
            "--------------------\n",
            "la suma de: 52 + 55 es: 107\n",
            "la resta de: 52 - 55 es: -3\n",
            "la multiplicacion de: 52 x 55 es: 2860\n",
            "la divicion de: 52 / 55 es: 0.9454545454545454\n",
            "\n",
            "¡Eso es todo, amigos!\n"
          ]
        }
      ]
    },
    {
      "cell_type": "markdown",
      "metadata": {
        "id": "hQYJAhX9-tpQ"
      },
      "source": [
        "#Ejercicio 2\n",
        "\n",
        "**Objetivos**<br>\n",
        "Familiarizarse con los conceptos de números, operadores y expresiones aritméticas en Python.<br>\n",
        "Comprender la precedencia y asociatividad de los operadores de Python, así como el correcto uso de los paréntesis.<br>\n",
        "**Escenario**<br>\n",
        "La tarea es completar el código para poder evaluar la siguiente expresión:<br>\n",
        "![ecu1.png](data:image/png;base64,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)\n",
        "\n",
        "El resultado debe de ser asignado a y. Se cauteloso, observa los operadores y priorízalos. Utiliza cuantos paréntesis sean necesarios.\n",
        "\n",
        "Puedes utilizar variables adicionales para acortar la expresión (sin embargo, no es muy necesario). Prueba tu código cuidadosamente.\n",
        "\n"
      ]
    },
    {
      "cell_type": "code",
      "metadata": {
        "id": "Cp6ucQycAP3Q",
        "colab": {
          "base_uri": "https://localhost:8080/"
        },
        "outputId": "be260fb2-444b-437c-e528-9c78e10313b1"
      },
      "source": [
        "'''\n",
        "Datos de Prueba\n",
        "Entrada de muestra: 1\n",
        "\n",
        "Salida esperada:\n",
        "\n",
        "y = 0.6000000000000001\n",
        "\n",
        "Entrada de muestra: 10\n",
        "\n",
        "Salida esperada:\n",
        "\n",
        "y = 0.09901951266867294\n",
        "\n",
        "Entrada de muestra: 100\n",
        "\n",
        "Salida esperada:\n",
        "\n",
        "y = 0.009999000199950014\n",
        "\n",
        "Entrada de muestra: -5\n",
        "\n",
        "Salida esperada:\n",
        "\n",
        "y = -0.19258202567760344'''\n",
        "\n",
        "x = float(input(\"Ingresa el valor para x: \"))\n",
        "x=((1/(x+1/(x+1/(x+1/(x))))))\n",
        "y = float(x)\n",
        "# coloca tu código aquí\n",
        "\n",
        "print(\"y =\", y)"
      ],
      "execution_count": null,
      "outputs": [
        {
          "output_type": "stream",
          "text": [
            "Ingresa el valor para x: 1\n",
            "y = 0.6000000000000001\n"
          ],
          "name": "stdout"
        }
      ]
    },
    {
      "cell_type": "markdown",
      "metadata": {
        "id": "hAnozglgBW9U"
      },
      "source": [
        "#Ejercicio 3\n",
        "\n",
        "Escribe un programa que pregunte al usuario por el número de horas trabajadas y el coste por hora. Después debe mostrar por pantalla la paga que le corresponde."
      ]
    },
    {
      "cell_type": "code",
      "metadata": {
        "id": "RzsdhHeHBf66",
        "colab": {
          "base_uri": "https://localhost:8080/"
        },
        "outputId": "5c180f39-6237-4cf9-ecfe-82e18ac3b685"
      },
      "source": [
        "#ejercicio horas trabajadas\n",
        "n1=\"Sueldo Empleado\"\n",
        "n2=\"Toatal de Sueldo:\"\n",
        "print(\"-\"*50+\"\\n\"+\"\\t\\t\"+n1+\"\\n\"+\"-\"*50+\"\\n\")\n",
        "hrs=int(input(\"ingrese el numero de horas trabajadas en el dia de hoy: \"))\n",
        "v_sld=int(input(\"ingrese el valor por hora trabajada: \"))\n",
        "print(\"\\n\"+\"-\"*50+\"\\n\"+\"\\t\\t\"+n2+\"\\n\"+\"-\"*50+\"\\n\")\n",
        "print(\"Su sueldo es de:\",int(hrs*v_sld))"
      ],
      "execution_count": null,
      "outputs": [
        {
          "output_type": "stream",
          "name": "stdout",
          "text": [
            "--------------------------------------------------\n",
            "\t\tSueldo Empleado\n",
            "--------------------------------------------------\n",
            "\n",
            "ingrese el numero de horas trabajadas en el dia de hoy: 8\n",
            "ingrese el valor por hora trabajada: 5000\n",
            "\n",
            "--------------------------------------------------\n",
            "\t\tToatal de Sueldo:\n",
            "--------------------------------------------------\n",
            "\n",
            "Su sueldo es de: 40000\n"
          ]
        }
      ]
    },
    {
      "cell_type": "markdown",
      "metadata": {
        "id": "NkgYx9vXB6sE"
      },
      "source": [
        "#Ejercicio 4\n",
        "Escribir un programa que pida al usuario su peso (en kg) y estatura (en metros), calcule el índice de masa corporal y lo almacene en una variable, y muestre por pantalla la frase Tu índice de masa corporal es <imc> donde <imc> es el índice de masa corporal calculado redondeado con dos decimales."
      ]
    },
    {
      "cell_type": "code",
      "metadata": {
        "id": "VlTla8f1CI5_",
        "colab": {
          "base_uri": "https://localhost:8080/"
        },
        "outputId": "c05e8ffb-3297-4036-d577-ef6554216b12"
      },
      "source": [
        "n1=\"🇮​​​​​🇳​​​​​🇩​​​​​🇮​​​​​🇨​​​​​🇪​​​​​ 🇨​​​​​🇴​​​​​🇷​​​​​🇵​​​​​🇴​​​​​🇷​​​​​🇦​​​​​🇱\"\n",
        "n2=\"Total IMC:\"\n",
        "print(\"-\"*50+\"\\n\"+\"\\t\\t\"+n1+\"\\n\"+\"-\"*50+\"\\n\")\n",
        "talla=float(input(\"ingrese su talla en metros (Ej: 1.50): \"))\n",
        "peso=int(input(\"ingrese su peso en Kg (Ej: 50): \"))\n",
        "print(\"\\n\"+\"-\"*50+\"\\n\"+\"\\t\\t\"+n2+\"\\n\"+\"-\"*50+\"\\n\")\n",
        "print(\"su indice de masa corporal es: \",round((peso/(talla**2)),2))\n",
        "print(\"\\n\"+\"-\"*50+\"\\n\")\n",
        "print(\"Peso inferior al normal\\t\\t|Menos de 18.5\")\n",
        "print(\"Normal\\t\\t\\t\\t|18.5 –> 24.9\")\n",
        "print(\"Peso superior al normal\\t\\t|t25.0 –> 29.9\")\n",
        "print(\"Obesidad\\t\\t\\t|Más de 30.0\")"
      ],
      "execution_count": null,
      "outputs": [
        {
          "output_type": "stream",
          "name": "stdout",
          "text": [
            "--------------------------------------------------\n",
            "\t\t🇮​​​​​🇳​​​​​🇩​​​​​🇮​​​​​🇨​​​​​🇪​​​​​ 🇨​​​​​🇴​​​​​🇷​​​​​🇵​​​​​🇴​​​​​🇷​​​​​🇦​​​​​🇱\n",
            "--------------------------------------------------\n",
            "\n",
            "ingrese su talla en metros (Ej: 1.50): 1.68\n",
            "ingrese su peso en Kg (Ej: 50): 52\n",
            "\n",
            "--------------------------------------------------\n",
            "\t\tTotal IMC:\n",
            "--------------------------------------------------\n",
            "\n",
            "su indice de masa corporal es:  18.42\n",
            "\n",
            "--------------------------------------------------\n",
            "\n",
            "Peso inferior al normal\t\t|Menos de 18.5\n",
            "Normal\t\t\t\t|18.5 –> 24.9\n",
            "Peso superior al normal\t\t|t25.0 –> 29.9\n",
            "Obesidad\t\t\t|Más de 30.0\n"
          ]
        }
      ]
    },
    {
      "cell_type": "markdown",
      "metadata": {
        "id": "avAu32b5CftW"
      },
      "source": [
        "#Ejercicio 5\n",
        "Escribir un programa que pregunte al usuario una cantidad a invertir, el interés porcentual anual y el número de años, y muestre por pantalla el capital obtenido en la inversión redondeado con dos decimales."
      ]
    },
    {
      "cell_type": "code",
      "metadata": {
        "id": "vfryWd0OCrJY"
      },
      "source": [
        "print(\"\")"
      ],
      "execution_count": null,
      "outputs": []
    },
    {
      "cell_type": "markdown",
      "metadata": {
        "id": "RU7YUtVaC4pJ"
      },
      "source": [
        "#Ejercicio 6\n",
        "Una juguetería tiene mucho éxito en dos de sus productos: payasos y muñecas. Suele hacer venta por correo y la empresa de logística les cobra por peso de cada paquete así que deben calcular el peso de los payasos y muñecas que saldrán en cada paquete a demanda. Cada payaso pesa 112 g y cada muñeca 75 g. Escribir un programa que lea el número de payasos y muñecas vendidos en el último pedido y calcule el peso total del paquete que será enviado."
      ]
    },
    {
      "cell_type": "code",
      "metadata": {
        "id": "IFzCeElVC80V",
        "colab": {
          "base_uri": "https://localhost:8080/"
        },
        "outputId": "46f64c07-5636-4fe3-9024-e47aaf17ff3a"
      },
      "source": [
        "#Solucion de ejercicio 6\n",
        "#barra de presentacion\n",
        "n1=\"Envio de Paquetes: Jugueteria\"\n",
        "n2=\"Resultado. Envio\"\n",
        "print(\"-\"*50+\"\\n\"+\"\\t\\t\"+n1+\"\\n\"+\"-\"*50+\"\\n\")\n",
        "#variables:\n",
        "payaso= 112\n",
        "muñeca=75\n",
        "#entradas de datos por el usuario\n",
        "n_payasos=int(input(\"Ingrese el numero de payasos que desea enviar:  \"))\n",
        "n_muñecas=int(input(\"Ingrese el numero de muñecas que desea enviar:  \"))\n",
        "#operaciones\n",
        "p_py=n_payasos*payaso\n",
        "p_mñ=n_muñecas*muñeca \n",
        "print(\"-\"*50+\"\\n\"+\"\\t\\t\"+n2+\"\\n\"+\"-\"*50+\"\\n\")\n",
        "print(\"Los\",n_payasos,\"payasos que desea enviar, pesan:\",p_py,\"g\")\n",
        "print(\"Los\",n_muñecas,\"muñecas que desea enviar, pesan:\",p_mñ,\"g\")\n",
        "print(\"\\n\\t\\tTOTAL PESO:\",p_py+p_mñ,\"g\")"
      ],
      "execution_count": null,
      "outputs": [
        {
          "output_type": "stream",
          "text": [
            "--------------------------------------------------\n",
            "\t\tEnvio de Paquetes: Jugueteria\n",
            "--------------------------------------------------\n",
            "\n",
            "Ingrese el numero de payasos que desea enviar:  5\n",
            "Ingrese el numero de muñecas que desea enviar:  5\n",
            "--------------------------------------------------\n",
            "\t\tResultado. Envio\n",
            "--------------------------------------------------\n",
            "\n",
            "Los 5 payasos que desea enviar, pesan: 560 gramos\n",
            "Los 5 muñecas que desea enviar, pesan: 375 gramos\n",
            "\n",
            "\t\tTOTAL PESO: 935 gramos\n"
          ],
          "name": "stdout"
        }
      ]
    },
    {
      "cell_type": "markdown",
      "metadata": {
        "id": "se1VicrNDeGj"
      },
      "source": [
        "# Ejercicio 7\n",
        "\n",
        "Imagina que acabas de abrir una nueva cuenta de ahorros que te ofrece el 4% de interés al año. Estos ahorros debido a intereses, que no se cobran hasta finales de año, se te añaden al balance final de tu cuenta de ahorros. Escribir un programa que comience leyendo la cantidad de dinero depositada en la cuenta de ahorros, introducida por el usuario. Después el programa debe calcular y mostrar por pantalla la cantidad de ahorros tras el primer, segundo y tercer años. Redondear cada cantidad a dos decimales.  "
      ]
    },
    {
      "cell_type": "code",
      "metadata": {
        "id": "eD7xR1PwDrkx"
      },
      "source": [
        "#ejercicio 7:\n",
        "#barra de presentacion\n",
        "n1=\"Envio de Paquetes: Jugueteria\"\n",
        "n2=\"Resultado. Envio\"\n",
        "print(\"-\"*50+\"\\n\"+\"\\t\\t\"+n1+\"\\n\"+\"-\"*50+\"\\n\")\n",
        "#entradas de datos por el usuario\n",
        "n_haorros=int(input(\"Ingrese el dinero inicial en su cuenta de haorros:  \"))"
      ],
      "execution_count": null,
      "outputs": []
    }
  ]
}