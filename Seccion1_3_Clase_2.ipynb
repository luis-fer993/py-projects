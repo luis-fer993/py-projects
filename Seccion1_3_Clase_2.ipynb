{
  "nbformat": 4,
  "nbformat_minor": 0,
  "metadata": {
    "colab": {
      "name": "Copia de Copia de Seccion1.3_Clase 2_G168.ipynb",
      "provenance": [],
      "collapsed_sections": [
        "n2LIwRneYwap",
        "QIeJH8rtNkEv"
      ],
      "include_colab_link": true
    },
    "kernelspec": {
      "display_name": "Python 3",
      "name": "python3"
    },
    "language_info": {
      "name": "python"
    }
  },
  "cells": [
    {
      "cell_type": "markdown",
      "metadata": {
        "id": "view-in-github",
        "colab_type": "text"
      },
      "source": [
        "<a href=\"https://colab.research.google.com/github/luis-fer993/py-projects/blob/main/Seccion1_3_Clase_2.ipynb\" target=\"_parent\"><img src=\"https://colab.research.google.com/assets/colab-badge.svg\" alt=\"Open In Colab\"/></a>"
      ]
    },
    {
      "cell_type": "markdown",
      "metadata": {
        "id": "LaJh-Dh4pOXK"
      },
      "source": [
        "![Sin título.png](data:image/png;base64,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)<br>\n",
        "**Formador: Ayda Andrea Franco Villamil**<br>**Sección 1.3**<br> **25 de Agosto 2021**"
      ]
    },
    {
      "cell_type": "code",
      "metadata": {
        "id": "dTZfMg7PdIxU"
      },
      "source": [
        ""
      ],
      "execution_count": null,
      "outputs": []
    },
    {
      "cell_type": "code",
      "metadata": {
        "id": "9usBEBh_dJXr"
      },
      "source": [
        ""
      ],
      "execution_count": null,
      "outputs": []
    },
    {
      "cell_type": "markdown",
      "metadata": {
        "id": "cgUEX3aK0S24"
      },
      "source": [
        "#**Ciclos o bucles en el código con while**\n",
        "En general, en Python, un ciclo se puede representar de la siguiente manera:\n",
        "\n"
      ]
    },
    {
      "cell_type": "code",
      "metadata": {
        "id": "MMR5yLUw0rke"
      },
      "source": [
        "while expresión_condicional:\n",
        "    instrucción"
      ],
      "execution_count": null,
      "outputs": []
    },
    {
      "cell_type": "code",
      "metadata": {
        "colab": {
          "base_uri": "https://localhost:8080/"
        },
        "id": "oN7q24mbUbU3",
        "outputId": "71558a50-e78c-4884-ffed-c90e4aab0570"
      },
      "source": [
        "if 2 < 3 :\n",
        "  print(\"hola\")"
      ],
      "execution_count": null,
      "outputs": [
        {
          "name": "stdout",
          "output_type": "stream",
          "text": [
            "hola\n"
          ]
        }
      ]
    },
    {
      "cell_type": "code",
      "metadata": {
        "id": "qIiK-BW5VaYT"
      },
      "source": [
        "while 2 < 3 :\n",
        "  print(\"hola\")"
      ],
      "execution_count": null,
      "outputs": []
    },
    {
      "cell_type": "markdown",
      "metadata": {
        "id": "46ulgDpB1roq"
      },
      "source": [
        "##*Un bucle o ciclo infinito*\n",
        "Un ciclo infinito, también denominado ciclo sin fin, es una secuencia de instrucciones en un programa que se repite indefinidamente (ciclo sin fin).\n",
        "\n",
        "Este es un ejemplo de un ciclo que no puede finalizar su ejecución:"
      ]
    },
    {
      "cell_type": "code",
      "metadata": {
        "id": "ZmOf1DL91821"
      },
      "source": [
        "while True:\n",
        "    print(\"Estoy atrapado dentro de un ciclo\")"
      ],
      "execution_count": null,
      "outputs": []
    },
    {
      "cell_type": "code",
      "metadata": {
        "colab": {
          "base_uri": "https://localhost:8080/"
        },
        "id": "K4la4J-b2yuT",
        "outputId": "8e35226e-8c90-40af-8306-6f6cd61f6835"
      },
      "source": [
        "# programa que lee una secuencia de números\n",
        "# y cuenta cuántos números son pares y cuántos son impares\n",
        "# programa termina cuando se ingresa cero\n",
        "\n",
        "numerosImpares = 0\n",
        "numerosPares = 0\n",
        "\n",
        "# lee el primer número\n",
        "numero = int (input (\"Introduce un número o escriba 0 para detener:\"))\n",
        "\n",
        "# 0 termina la ejecución\n",
        "while numero != 0:\n",
        "    # verificar si el número es impar\n",
        "    if numero % 2 == 1:\n",
        "        # aumentar el contador de números impares\n",
        "        numerosImpares += 1        #numerosImpares=numerosImpares+1 o a=a+1\n",
        "    else:\n",
        "        # aumentar el contador de números pares\n",
        "        numerosPares += 1\n",
        "    # lee el siguiente número\n",
        "    numero = int (input (\"Introduce un número o escriba 0 para detener:\"))\n",
        "\n",
        "# imprimir resultados\n",
        "print(\"Números impares: \", numerosImpares)\n",
        "print(\"Números pares: \", numerosPares)"
      ],
      "execution_count": null,
      "outputs": [
        {
          "name": "stdout",
          "output_type": "stream",
          "text": [
            "Introduce un número o escriba 0 para detener:8\n",
            "Introduce un número o escriba 0 para detener:9\n",
            "Introduce un número o escriba 0 para detener:33\n",
            "Introduce un número o escriba 0 para detener:6\n",
            "Introduce un número o escriba 0 para detener:0\n",
            "Números impares:  2\n",
            "Números pares:  2\n"
          ]
        }
      ]
    },
    {
      "cell_type": "markdown",
      "metadata": {
        "id": "3x276dcC4kTH"
      },
      "source": [
        "#**Usando una variable contador para salir de un ciclo**\n",
        "\n",
        "Observa el fragmento de código a continuación:\n",
        "\n"
      ]
    },
    {
      "cell_type": "code",
      "metadata": {
        "colab": {
          "base_uri": "https://localhost:8080/"
        },
        "id": "L5zuCtaxcV8I",
        "outputId": "043b588f-e604-43d8-917c-70df922d2f3d"
      },
      "source": [
        "contador = 10\n",
        "while contador!= 3:\n",
        "  print(\"Dentro del ciclo: \", contador)\n",
        "  contador -=1\n",
        "print(\"Fuera de ciclo \", contador)"
      ],
      "execution_count": null,
      "outputs": [
        {
          "name": "stdout",
          "output_type": "stream",
          "text": [
            "Dentro del ciclo:  10\n",
            "Dentro del ciclo:  9\n",
            "Dentro del ciclo:  8\n",
            "Dentro del ciclo:  7\n",
            "Dentro del ciclo:  6\n",
            "Dentro del ciclo:  5\n",
            "Dentro del ciclo:  4\n",
            "Fuera de ciclo  3\n"
          ]
        }
      ]
    },
    {
      "cell_type": "markdown",
      "metadata": {
        "id": "f4j6wfzU7nsX"
      },
      "source": [
        "#Ejercicio\n",
        "**Escenario**<br>\n",
        "Un mago junior ha elegido un número secreto. Lo ha escondido en una variable llamada númeroSecreto. Quiere que todos los que ejecutan su programa jueguen el juego Adivina el número secreto, y adivina qué número ha elegido para ellos. ¡Quienes no adivinen el número quedarán atrapados en un ciclo sin fin para siempre! Desafortunadamente, él no sabe cómo completar el código.\n",
        "\n",
        "Tu tarea es ayudar al mago a completar el código en el editor de tal manera que el código:\n",
        "\n",
        "Pedirá al usuario que ingrese un número entero.<br>\n",
        "Utilizará un ciclo while.<br>\n",
        "Comprobará si el número ingresado por el usuario es el mismo que el número escogido por el mago. Si el número elegido por el usuario es diferente al número secreto del mago, el usuario debería ver el mensaje \"¡Ja, ja! ¡Estás atrapado en mi ciclo!\"  y se le solicitará que ingrese un número nuevamente. Si el número ingresado por el usuario coincide con el número escogido por el mago, el número debe imprimirse en la pantalla, y el mago debe decir las siguientes palabras: \"¡Bien hecho, muggle! Eres libre ahora\".<br>\n",
        "¡El mago está contando contigo! No lo decepciones.\n",
        "\n"
      ]
    },
    {
      "cell_type": "code",
      "metadata": {
        "id": "ymGx15x---xQ"
      },
      "source": [
        "numeroSecreto = 777\n",
        "\n",
        "print(\n",
        "\"\"\"\n",
        "+==================================+\n",
        "| Bienvenido a mi juego, muggle!   |\n",
        "| Introduce un número entero       |\n",
        "| y adivina qué número he          |\n",
        "| elegido para ti.                 |\n",
        "| Entonces,                        |\n",
        "| ¿Cuál es el número secreto?      |\n",
        "+==================================+\n",
        "\"\"\")\n",
        "\n",
        "n_usuario = int(input(\"Ingresa un numero y adivina:\"))\n",
        "\n",
        "if numeroSecreto != n_usuario:\n",
        "  while numeroSecreto != n_usuario:\n",
        "    print(\"\"\"\n",
        "+==================================+\n",
        "|                                  |\n",
        "|                                  |\n",
        "|             ¡Ja, ja!             |\n",
        "|   ¡Estás atrapado en mi ciclo!   |\n",
        "|                                  |\n",
        "|                                  |\n",
        "+==================================+\n",
        "\"\"\") \n",
        "    n_usuario = int(input(\"Ingresa un numero y adivina:\"))\n",
        "\n",
        "if numeroSecreto == n_usuario:\n",
        "  print(\"\"\"\n",
        "+==================================+\n",
        "|                                  |\n",
        "|                                  |\n",
        "|    ¡Bien hecho, muggle!          |\n",
        "|     Eres libre ahora             |\n",
        "|                                  |\n",
        "|                                  |\n",
        "+==================================+\n",
        "\"\"\")\n"
      ],
      "execution_count": null,
      "outputs": []
    },
    {
      "cell_type": "markdown",
      "metadata": {
        "id": "f2LWjnBWUu3C"
      },
      "source": [
        "# **1. Programa que muestre en pantalla una secuencia del 1 al 10**"
      ]
    },
    {
      "cell_type": "code",
      "metadata": {
        "colab": {
          "base_uri": "https://localhost:8080/"
        },
        "id": "rrNfpdmupluf",
        "outputId": "0ba8647c-a73f-4b98-a99e-0ab5b19c6147"
      },
      "source": [
        "num = 1\n",
        "while num <=10:\n",
        "  print(num)\n",
        "  num=num+1\n"
      ],
      "execution_count": null,
      "outputs": [
        {
          "name": "stdout",
          "output_type": "stream",
          "text": [
            "1\n",
            "2\n",
            "3\n",
            "4\n",
            "5\n",
            "6\n",
            "7\n",
            "8\n",
            "9\n",
            "10\n"
          ]
        }
      ]
    },
    {
      "cell_type": "markdown",
      "metadata": {
        "id": "sqAUVh4MVZhD"
      },
      "source": [
        "# **2. Programa que muestre en pantalla una secuencia de numeros del 20 al 0**"
      ]
    },
    {
      "cell_type": "code",
      "metadata": {
        "colab": {
          "base_uri": "https://localhost:8080/"
        },
        "id": "G-CydHF3p7r7",
        "outputId": "36f9e763-569a-41f1-8486-e9e754364f65"
      },
      "source": [
        "num = 20\n",
        "while num >=0:\n",
        "  print(num)\n",
        "  num=num-1"
      ],
      "execution_count": null,
      "outputs": [
        {
          "name": "stdout",
          "output_type": "stream",
          "text": [
            "20\n",
            "19\n",
            "18\n",
            "17\n",
            "16\n",
            "15\n",
            "14\n",
            "13\n",
            "12\n",
            "11\n",
            "10\n",
            "9\n",
            "8\n",
            "7\n",
            "6\n",
            "5\n",
            "4\n",
            "3\n",
            "2\n",
            "1\n",
            "0\n"
          ]
        }
      ]
    },
    {
      "cell_type": "markdown",
      "metadata": {
        "id": "RKRtH607V8kP"
      },
      "source": [
        "# **3. Programa que pregunte al usuario si quiere seguir jugando**"
      ]
    },
    {
      "cell_type": "markdown",
      "metadata": {
        "id": "n2LIwRneYwap"
      },
      "source": [
        "# **4. Programa que te pide que introduzcas un número que este entre 10 y 20. Si es correcto te diga que estas en el rango y te pida otro. Hasta que le des un número fuera del rango y se acabe el programa**"
      ]
    },
    {
      "cell_type": "code",
      "metadata": {
        "id": "RH8rXsGKZFNV"
      },
      "source": [
        "x=int(input(\"ingrese el numero\"))\n",
        "while 10<=x<=20:\n",
        "  print(\"correcto estas en el rango\")\n",
        "  x=int(input(\"ingrese otro numero entre el 10 y el 20\"))\n",
        "print(\"Te haz salido del rango\")"
      ],
      "execution_count": null,
      "outputs": []
    },
    {
      "cell_type": "markdown",
      "metadata": {
        "id": "Kd0n2Nv_cW1X"
      },
      "source": [
        "# **5. Uso de contadores** Programa que pregunte al usuario si quiere seguir jugando y que indique cuantas veces hemos jugado"
      ]
    },
    {
      "cell_type": "code",
      "metadata": {
        "id": "S_gNNsufq6-p"
      },
      "source": [
        "pregunta=(\"\\tQUIERES SEGUIR JUGANDO\\n\"+\"-\"*40+\"\\n\")\n",
        "\n",
        "print(pregunta)\n",
        "n_jugadas=input(\"ingresa la opcion (s/n):\")\n",
        "con = 0\n",
        "\n",
        "while n_jugadas ==\"s\":\n",
        "  con +=1\n",
        "  print(pregunta, \"\\nPartida: \"+str(con))\n",
        "  n_jugadas=input(\"ingresa la opcion (s/n):\")\n",
        "\n",
        "print(\"\\n\"+\"-\"*40+\"\\n\\tPARTIDA TERMINADA\")\n",
        "\n",
        "\n"
      ],
      "execution_count": null,
      "outputs": []
    },
    {
      "cell_type": "markdown",
      "metadata": {
        "id": "IgVUx-dmgMbL"
      },
      "source": [
        "# **6. Programa que te pide que adivines un numero del 1 al 10 y te pida numeros constantemente hasta que lo adivines.**\n",
        "Añade un contador que te diga los intentos que has necesitado.\n",
        "<br> Nota: conviene que crees tres variables y utiliza un else"
      ]
    },
    {
      "cell_type": "code",
      "metadata": {
        "colab": {
          "background_save": true
        },
        "id": "C9BRcFSagqcT"
      },
      "source": [
        "import random\n",
        "\n",
        "titulo=(\"-\"*40,\"\\tAdivina el numero\\n\"+\"-\"*40+\"\\n\")\n",
        "s=\"\\n\"\n",
        "\n",
        "print(\"Hola amigo, voy a pensar un numero...\"+s)\n",
        "print(\"Primero dime como te llamas???\"+s)\n",
        "varnom = str(input(\"Tu nombre: \"))\n",
        "print(s+\"OK \"+ varnom +\" adivina el numero.\"+s)\n",
        "print(\"ok lo tengo uno de el 1 al 10\"+s)\n",
        "\n",
        "\n",
        "n_int=int(input(\"Escribe el numero de intentos con los que\\ncrees que puedes adivinar: \"+s))\n",
        "intentosRealizados = 0\n",
        "número = random.randint(1, 10)\n",
        "\n",
        "while intentosRealizados < n_int:\n",
        "    estimación = int(input(\"ingresa un numero, y trata de adivinar: \"))\n",
        "    intentosRealizados = intentosRealizados + 1\n",
        "    print(\"intento:\", intentosRealizados,\"/\"+str(n_int))\n",
        "    if estimación < número:\n",
        "        print(s+'Tu estimación es muy baja.'+s)\n",
        "    if estimación > número:\n",
        "        print(s+'Tu estimación es muy alta.'+s)\n",
        "    if estimación == número:\n",
        "        break\n",
        "\n",
        "if estimación == número:\n",
        "    print(\"MUY BIEN \"+varnom,\" acertaste en \"+str(intentosRealizados), \"intentos, el numero es:\",número) \n",
        "\n",
        "if estimación != número:\n",
        "    print('Pues no. El número que estaba pensando era ' + str(número))"
      ],
      "execution_count": null,
      "outputs": []
    },
    {
      "cell_type": "markdown",
      "metadata": {
        "id": "xJCmtZOulJkx"
      },
      "source": [
        "![Sin título.png](data:image/png;base64,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)"
      ]
    },
    {
      "cell_type": "markdown",
      "metadata": {
        "id": "i9UW09YDjHQv"
      },
      "source": [
        "# **8. Programa que sume los numeros del 1 al 10**"
      ]
    },
    {
      "cell_type": "markdown",
      "metadata": {
        "id": "_LzPJvINnZE4"
      },
      "source": [
        "# **9. Programa que suma los numeros pares que hay entre 1 y el 20**"
      ]
    },
    {
      "cell_type": "markdown",
      "metadata": {
        "id": "sK9lcyZYp7MJ"
      },
      "source": [
        "# **10. Programa que pide un numero de inicio y otro final al usuario, y que suma todos los numeros multiplos de 3 que hay entre ellos.**"
      ]
    },
    {
      "cell_type": "markdown",
      "metadata": {
        "id": "2JncMfzJsryQ"
      },
      "source": [
        "# **11. Programa que te pide la contraseña y no te deja entrar hasta que la pongas correctamente**"
      ]
    },
    {
      "cell_type": "markdown",
      "metadata": {
        "id": "qbZ-xYkEuyyS"
      },
      "source": [
        "# **12. Programa que pide el usuario y la contraseña. Si no pones los dos correctamente te los vuelve a pedir.**"
      ]
    },
    {
      "cell_type": "code",
      "metadata": {
        "id": "8qGvaWr6u9wb"
      },
      "source": [
        "\n"
      ],
      "execution_count": null,
      "outputs": []
    },
    {
      "cell_type": "markdown",
      "metadata": {
        "id": "L5vzs1ppDVnv"
      },
      "source": [
        "# ***Funcion len()***\n",
        "Cuenta el numero de caractes que forma esa cadena\n"
      ]
    },
    {
      "cell_type": "code",
      "metadata": {
        "id": "Jqe5ggGlD_pN"
      },
      "source": [
        "cuenta_letras=len(\"python\")\n",
        "print(cuenta_letras)"
      ],
      "execution_count": null,
      "outputs": []
    },
    {
      "cell_type": "markdown",
      "metadata": {
        "id": "3x7mPzVCEn3O"
      },
      "source": [
        "# **13. Programa que muestra en pantalla las letras que forman la palabra MARIPOSA**"
      ]
    },
    {
      "cell_type": "markdown",
      "metadata": {
        "id": "er9pm9rJFqL_"
      },
      "source": [
        "# **14. Comprobar cuantas veces aparece el caracter \"o\", con o sin tilde en la siguiente cadena de caracteres**\n"
      ]
    },
    {
      "cell_type": "markdown",
      "metadata": {
        "id": "QIeJH8rtNkEv"
      },
      "source": [
        "# El operador in nos permite comprobar si un elemento esta dentro de un secuencia de elementos. "
      ]
    },
    {
      "cell_type": "markdown",
      "metadata": {
        "id": "JY2aafsnO9e2"
      },
      "source": [
        "# **15. Programa que te dice el numero vocales que tiene una palabra**"
      ]
    },
    {
      "cell_type": "markdown",
      "metadata": {
        "id": "y2zT9_1YEL3Z"
      },
      "source": [
        ""
      ]
    },
    {
      "cell_type": "markdown",
      "metadata": {
        "id": "0D97yNm_3Fj3"
      },
      "source": [
        "# Laboratorio 4.1\n",
        "Elaborado por Oscar Franco-Bedoya\n",
        "\n",
        "`Proyecto Mision TIC 2021\n",
        "\n",
        "## Objetivo\n",
        "Implementar programas aplicando el concepto de control de flujo ciclico en ejemplos básicos basados en patrones de ciclos. \n",
        "\n",
        "# Conde Contar\n",
        "\n",
        "El conde contar es un personaje de plaza sésamo cuyo rol era enseñar a contar **\"lentamente y también de prisa\"**, pregunten a sus papas o abuelos que seguro sabrán más de este personaje.\n",
        "\n",
        "Vamos a implementar una función que nos recuerde a este Vampiro contador.\n",
        "\n",
        "\n",
        "\n",
        "\n",
        "\n",
        "\n",
        "\n",
        "\n"
      ]
    },
    {
      "cell_type": "code",
      "metadata": {
        "colab": {
          "base_uri": "https://localhost:8080/"
        },
        "id": "fjTf12uTYbi5",
        "outputId": "0fe775aa-6689-43d4-8f43-6c117d47ec4b"
      },
      "source": [
        "\"\"\" Programa Conde contar#\n",
        "    cuenta numeos consecutivamente \n",
        "    desde 1 hasta un límite dado\n",
        "    Oscar Franco-Bedoya\n",
        "    Mayo 10-2021 \"\"\"\n",
        "\n",
        "def conde_contar(limite):\n",
        "  \"\"\" \n",
        "  Parameters\n",
        "  ----------\n",
        "  limite:int\n",
        "     valor hasta el cual el conde contará \n",
        "  \"\"\" \n",
        "  print(\"Cuento len  ta   men      te\")\n",
        "  print(\"y también de prisa\")\n",
        "  print(\"y sin corta prisa \")\n",
        "  print(\"cuento sin parar\")\n",
        "  \n",
        "  cont=1 #Inicializa el contador\n",
        "  while cont <= limite:\n",
        "    print(cont)\n",
        "    cont+=1 #incrementa el contador \n",
        "    \n",
        "  print(\"y a veces llego a mil \")\n",
        "\n",
        "#====================================================================\n",
        "#   Algoritmo principal Punto de entrada a la aplicación (Conquistar)\n",
        "# ===================================================================\n",
        "\n",
        "limite_conteo=int(input(\"Digite el número hasta el cual el conde debe contar:\"))\n",
        "#Validacion del valor de entrada\n",
        "if limite_conteo <= 0:\n",
        "  print(\"Lo siento el conde solo cuenta hasta numeros mayores a cero\") \n",
        "else:\n",
        "  conde_contar(limite_conteo)\n",
        "\n"
      ],
      "execution_count": null,
      "outputs": [
        {
          "name": "stdout",
          "output_type": "stream",
          "text": [
            "Digite el número hasta el cual el conde debe contar:15\n",
            "Cuento len  ta   men      te\n",
            "y también de prisa\n",
            "y sin corta prisa \n",
            "cuento sin parar\n",
            "1\n",
            "2\n",
            "3\n",
            "4\n",
            "5\n",
            "6\n",
            "7\n",
            "8\n",
            "9\n",
            "10\n",
            "11\n",
            "12\n",
            "13\n",
            "14\n",
            "15\n",
            "y a veces llego a mil \n"
          ]
        }
      ]
    },
    {
      "cell_type": "markdown",
      "metadata": {
        "id": "eL9XQSseYb38"
      },
      "source": [
        "# Sumatoria natural\n",
        "Si bien el conteo de numeros es muy útil e importante para varios algoritmos, con base en este patron podemos realizar otros ejercicios como por ejemplo la sumatoria de numeros consecutivos.\n",
        "\n",
        "\n",
        "$$suma=1+2+3+4+5+6....$$\n"
      ]
    },
    {
      "cell_type": "code",
      "metadata": {
        "colab": {
          "base_uri": "https://localhost:8080/"
        },
        "id": "LDse8mo6mDNb",
        "outputId": "e1c55417-4655-478e-a44e-05ab4073035c"
      },
      "source": [
        "\"\"\" Programa Sumatoria#\n",
        "    Calcula la sumatoria\n",
        "    de numeros desde 1 hasta\n",
        "    un limite dado\n",
        "    Oscar Franco-Bedoya\n",
        "    Mayo 10-2021 \"\"\"\n",
        "\n",
        "def calcular_sumatoria(limite):\n",
        "  \"\"\" \n",
        "  Parameters\n",
        "  ----------\n",
        "  limite:int\n",
        "     valor hasta el cual se realizará la sumatoria\n",
        "  Returns\n",
        "  -------\n",
        "  sumatoria:float\n",
        "    el resultado de la sumatoria     \n",
        "  \"\"\"     \n",
        "  \n",
        "  cont=1 #Inicializa el contador\n",
        "  sumatoria=0 #inicializa la suma en 0\n",
        "  while cont <= limite: \n",
        "    sumatoria=sumatoria+cont # Realiza la suma\n",
        "    cont+=1 #incrementa el contador\n",
        "  return sumatoria  \n",
        " \n",
        "#====================================================================\n",
        "#   Algoritmo principal Punto de entrada a la aplicación (Conquistar)\n",
        "# ===================================================================\n",
        "\n",
        "limite_sumatoria=int(input(\"Digite el número hasta el cual realizará la sumatoria:\"))\n",
        "#Validacion del valor de entrada\n",
        "if limite_sumatoria <= 0:\n",
        "  print(\"debe ingresar un número mayor a cero\") \n",
        "else:\n",
        "  suma_total=calcular_sumatoria(limite_sumatoria)\n",
        "  print(\"El valor de la sumatoria es:\",suma_total)\n"
      ],
      "execution_count": null,
      "outputs": [
        {
          "name": "stdout",
          "output_type": "stream",
          "text": [
            "Digite el número hasta el cual realizará la sumatoria:8\n",
            "El valor de la sumatoria es: 36\n"
          ]
        }
      ]
    },
    {
      "cell_type": "markdown",
      "metadata": {
        "id": "p4z0n-M4vgcC"
      },
      "source": [
        "#Sumatoria par-ce\n",
        "\n",
        "Este ejercicio es muy similar al anterior, deseamos una función que calcule la sumatoria de los **N** primeros números pares.\n",
        "\n",
        "$$Sumatoria= 2+4+6+8+10+...$$\n",
        "\n",
        "!Vamos a hacerlo!\n",
        "\n",
        "\n",
        "<details>\n",
        "<summary>Dale a la flecha si necesitas una pista</summary>\n",
        "<pre><code>\n",
        "Estas a un *2 de hacerlo ;-)\n",
        "\n",
        "<code><pre>\n",
        "</details>"
      ]
    },
    {
      "cell_type": "code",
      "metadata": {
        "id": "AriA8nkMwaQH"
      },
      "source": [
        "\"\"\" Programa Sumatoria#\n",
        "    Calcula la sumatoria\n",
        "    de numeros desde 1 hasta\n",
        "    un limite dado\n",
        "    Oscar Franco-Bedoya\n",
        "    Mayo 10-2021 \"\"\"\n",
        "\n",
        "def calcular_sumatoria(limite):\n",
        "  \"\"\" \n",
        "  Parameters\n",
        "  ----------\n",
        "  limite:int\n",
        "     valor hasta el cual se realizará la sumatoria\n",
        "  Returns\n",
        "  -------\n",
        "  sumatoria:float\n",
        "    el resultado de la sumatoria     \n",
        "  \"\"\"     \n",
        "  \n",
        "  cont=1 #Inicializa el contador\n",
        "  sumatoria=0 #inicializa la suma en 0\n",
        "  while cont <= limite: \n",
        "    sumatoria=sumatoria+cont*2 # Realiza la suma\n",
        "    cont+=1 #incrementa el contador\n",
        "  return sumatoria  \n",
        " \n",
        "#====================================================================\n",
        "#   Algoritmo principal Punto de entrada a la aplicación (Conquistar)\n",
        "# ===================================================================\n",
        "\n",
        "limite_sumatoria=int(input(\"Digite el número hasta el cual realizará la sumatoria:\"))\n",
        "#Validacion del valor de entrada\n",
        "if limite_sumatoria <= 0:\n",
        "  print(\"debe ingresar un número mayor a cero\") \n",
        "else:\n",
        "  suma_total=calcular_sumatoria(limite_sumatoria)\n",
        "  print(\"El valor de la sumatoria es:\",suma_total)"
      ],
      "execution_count": null,
      "outputs": []
    },
    {
      "cell_type": "markdown",
      "metadata": {
        "id": "T6Fm0uh9k7Qu"
      },
      "source": [
        "# Lista del mercado\n",
        "En este ejercicio vamos a implementar una aplicación mucho mejor para don José el de la tienda, ¿Lo recuerdas?, esta vez le permitirá registrar el precio de una cantidad de productos vendidos y calcule el total a pagar por parte del cliente"
      ]
    },
    {
      "cell_type": "code",
      "metadata": {
        "colab": {
          "base_uri": "https://localhost:8080/"
        },
        "id": "XXJqcZj0lZHg",
        "outputId": "ba460682-d355-4359-a8f9-cdef7fc38b46"
      },
      "source": [
        "\"\"\" Programa costo lista de mercado#\n",
        "    Calcula el total a pagar por\n",
        "    una cantidad de productos\n",
        "    Oscar Franco-Bedoya\n",
        "    Mayo 10-2021 \"\"\"\n",
        "\n",
        "def calcular_total_pago(numero_productos):\n",
        "  \"\"\" \n",
        "  Parameters\n",
        "  ----------\n",
        "  numero_productos:int\n",
        "     numero de productos cuyo precio se va a sumar\n",
        "  Returns\n",
        "  ------\n",
        "  tolat_pago:float\n",
        "    el total de dinero a pagar     \n",
        "  \"\"\"     \n",
        "  \n",
        "  cont=1 #Inicializa el contador\n",
        "  total_pago=0 #el total a pagar\n",
        "  while cont <= numero_productos:\n",
        "    precio=float(input(\"Digite el precio del producto:\"))\n",
        "    total_pago=total_pago+precio # va acumulando los precios\n",
        "    cont+=1 #incrementa el contador\n",
        "  return total_pago \n",
        " \n",
        "#====================================================================\n",
        "#   Algoritmo principal Punto de entrada a la aplicación (Conquistar)\n",
        "# ===================================================================\n",
        "\n",
        "cantidad_productos=int(input(\"Digite el total de productos a sumar:\"))\n",
        "#Validacion del valor de entrada\n",
        "if cantidad_productos <= 0:\n",
        "  print(\"No has comprado nada, no debes pagar\") \n",
        "else:\n",
        "  total_a_pagar=calcular_total_pago(cantidad_productos)\n",
        "  print(\"El valor  pagar por los productos es:$\",total_a_pagar) "
      ],
      "execution_count": null,
      "outputs": [
        {
          "name": "stdout",
          "output_type": "stream",
          "text": [
            "Digite el total de productos a sumar:5\n",
            "Digite el precio del producto:1500\n",
            "Digite el precio del producto:1800\n",
            "Digite el precio del producto:4000\n",
            "Digite el precio del producto:700\n",
            "Digite el precio del producto:4000\n",
            "El valor  pagar por los productos es:$ 12000.0\n"
          ]
        }
      ]
    },
    {
      "cell_type": "markdown",
      "metadata": {
        "id": "FQM5DqxOoiEE"
      },
      "source": [
        "# Lista del mercado mi vecino fiel\n",
        "Don José está entrando en el tema de las industria 4.0 y ha pensado en un plan de fidelizacón de clientes otorgando un descuento del 5% a los que esten en su campaña **mi vecino fiel**, para ello  en este ejercicio vamos a implementar una aplicación similar a la anterior pero que pregunte si el cliente esta en la campaña vecino fiel y de esta manera calcule el total a pagar pero con descuento.\n",
        "\n",
        "\n"
      ]
    },
    {
      "cell_type": "code",
      "metadata": {
        "id": "68HjVabLk0u7"
      },
      "source": [
        "\"\"\" Programa costo lista de mercado mi vecino fiel#\n",
        "    Calcula el total a pagar por\n",
        "    una cantidad de productos en\n",
        "    el plan mi vecino fiel\n",
        "    Oscar Franco-Bedoya\n",
        "    Mayo 10-2021 \"\"\"\n",
        "\n",
        "def calcular_total_pago(numero_productos,es_fiel):\n",
        "  \"\"\" \n",
        "  Parameters\n",
        "  ----------\n",
        "  numero_productos:int\n",
        "     numero de productos cuyo precio se va a sumar\n",
        "  Returns\n",
        "  ------\n",
        "  tolat_pago:float\n",
        "    el total de dinero a pagar     \n",
        "  \"\"\"     \n",
        "  \n",
        "  cont=1 #Inicializa el contador\n",
        "  total_pago=0 #el total a pagar\n",
        "  while cont <= numero_productos:\n",
        "    precio=float(input(\"Digite el precio del producto:\"))\n",
        "    total_pago=total_pago+precio # va acumulando los precios\n",
        "    cont+=1 #incrementa el contador\n",
        "\n",
        "  #TODO: 1) completar el codigo    \n",
        "  return total_pago \n",
        " \n",
        "#====================================================================\n",
        "#   Algoritmo principal Punto de entrada a la aplicación (Conquistar)\n",
        "# ===================================================================\n",
        "\n",
        "cantidad_productos=int(input(\"Digite el total de productos a sumar:\"))\n",
        "#Validacion del valor de entrada\n",
        "if cantidad_productos <= 0:\n",
        "  print(\"No has comprado nada, no debes pagar\") \n",
        "else:\n",
        "  #TODO: 2) completar el codigo \n",
        "  total_a_pagar=calcular_total_pago(cantidad_productos)\n",
        "  print(\"El valor  pagar por los productos es:$\",total_a_pagar) \n",
        "  #TODO: 3) completar el codigo \n"
      ],
      "execution_count": null,
      "outputs": []
    },
    {
      "cell_type": "markdown",
      "metadata": {
        "id": "WU-8A6CklXa-"
      },
      "source": [
        "\n",
        "<details>\n",
        "<summary>Dale a la flecha si necesitas una pista</summary>\n",
        "<pre><code>\n",
        "1) Calcula aquí el descuento antes de retornar\n",
        "2) Como sé que es vecino fiel? fácil de frente Pregúntaselo\n",
        "3) Que tal un mensaje agradeciendo su fidelidad. Cuidado solo si es fiel\n",
        "\n",
        "<code><pre>\n",
        "</details>\n",
        "\n",
        "# Lista del mercado productos a vencer\n",
        "Don José ya no lo para nadie en su deseo de su tienda 4.0, ahora quiere que además del descuento del vecino fiel, se haga un descuento a los productos que están por vencer, este descuento será del 5% y aplicable tanto a vecinos fieles como infieles ;-). \n",
        "\n",
        "Ni modo, implementemos este nuevo programa, don José es nuestro mejor cliente y usuario\n",
        "\n"
      ]
    },
    {
      "cell_type": "code",
      "metadata": {
        "id": "_4mNsv6gtdvB"
      },
      "source": [
        "\"\"\" Programa costo lista de mercado productos a vencer#\n",
        "    Calcula el total a pagar por\n",
        "    una cantidad de productos algunos posiblemente próximos a vencer\n",
        "    Oscar Franco-Bedoya\n",
        "    Mayo 10-2021 \"\"\"\n",
        "\n",
        "def calcular_total_pago(numero_productos,es_fiel):\n",
        "  \"\"\" \n",
        "  Parameters\n",
        "  ----------\n",
        "  numero_productos:int\n",
        "     numero de productos cuyo precio se va a sumar\n",
        "  Returns\n",
        "  ------\n",
        "  tolat_pago:float\n",
        "    el total de dinero a pagar     \n",
        "  \"\"\"     \n",
        "  \n",
        "  cont=1 #Inicializa el contador\n",
        "  total_pago=0 #el total a pagar\n",
        "  while cont <= numero_productos:\n",
        "    precio=float(input(\"Digite el precio del producto:\"))\n",
        "    total_pago=total_pago+precio # va acumulando los precios\n",
        "    cont+=1 #incrementa el contador\n",
        "  \n",
        "  return total_pago \n",
        " \n",
        "#====================================================================\n",
        "#   Algoritmo principal Punto de entrada a la aplicación (Conquistar)\n",
        "# ===================================================================\n",
        "\n",
        "cantidad_productos=int(input(\"Digite el total de productos a sumar:\"))\n",
        "#Validacion del valor de entrada\n",
        "if cantidad_productos <= 0:\n",
        "  print(\"No has comprado nada, no debes pagar\") \n",
        "else:\n",
        "  total_a_pagar=calcular_total_pago(cantidad_productos)\n",
        "  print(\"El valor  pagar por los productos es:$\",total_a_pagar) \n",
        " \n"
      ],
      "execution_count": null,
      "outputs": []
    },
    {
      "cell_type": "markdown",
      "metadata": {
        "id": "lPRx1lj9uA8k"
      },
      "source": [
        "\n",
        "<details>\n",
        "<summary>Dale a la flecha si necesitas una pista</summary>\n",
        "<pre><code>\n",
        "+ Respira profundo, cuenta hasta 3 y suelta el aire lentamente\n",
        "+ Repite mentalmente 3 veces: Puedo con esto!!\n",
        "+ que tal si después de leer el costo de un producto preguntas si está en descuento y luego un tema que ya dominamos, expresiones lógicas\n",
        "\n",
        "\n",
        "<code><pre>\n",
        "</details>\n",
        "\n",
        "# Lista de compras\n",
        "Como estan de moda las lluvias de sobres, a mi sobrina Cami le han dado una cantidad de dinero y ha salido de compras al centro comercial y en sus palabras me ha dicho:\n",
        "\n",
        "\n",
        "*Holis tio, quiero una app super que me permita ingresar cada compra que haga y me muestre cuanta plata me va quedando hasta que se termine, Literal no quiero gastar mas*  \n",
        "\n"
      ]
    },
    {
      "cell_type": "code",
      "metadata": {
        "id": "po5y0XStP4H-"
      },
      "source": [
        "\"\"\" Programa costo lista de mercado#\n",
        "    Calcula el total a pagar por\n",
        "    una cantidad de productos\n",
        "    Oscar Franco-Bedoya\n",
        "    Mayo 10-2021 \"\"\"\n",
        "\n",
        "def mostrar_dinero_disponible(total_dinero):\n",
        "  \"\"\" \n",
        "  Parameters\n",
        "  ----------\n",
        "  total_dinero:float\n",
        "     cantidad de dinero a gastar\n",
        "  Returns\n",
        "  ------\n",
        "  saldo :float\n",
        "    dinero que sobra      \n",
        "  \"\"\"     \n",
        "  \n",
        "  while total_dinero > 0:\n",
        "    precio=float(input(\"Digite el precio del producto comprado:\"))\n",
        "    if precio<=total_dinero: #verifica que con el dineo que aún le queda puede comprarlo\n",
        "      total_dinero=total_dinero-precio # va actualizando el dinero\n",
        "    else:\n",
        "      print(\"No puedes comprar ese producto\")\n",
        "    print(\"Aún te quedan $\",total_dinero,\"para gastar\")\n",
        "  return total_dinero \n",
        " \n",
        "#====================================================================\n",
        "#   Algoritmo principal Punto de entrada a la aplicación (Conquistar)\n",
        "# ===================================================================\n",
        "\n",
        "cantidad_dinero=int(input(\"Digite el total de dinero a gastar:\"))\n",
        "#Validacion del valor de entrada\n",
        "if cantidad_dinero <= 0:\n",
        "  print(\"No tienes dinero para gastar\") \n",
        "else:\n",
        "  saldo=mostrar_dinero_disponible(cantidad_dinero)\n",
        "  print(\"Buena compra y te quedarons:$\",saldo) "
      ],
      "execution_count": null,
      "outputs": []
    },
    {
      "cell_type": "markdown",
      "metadata": {
        "id": "amfnzvPsNZgS"
      },
      "source": [
        "# Lector validador\n",
        "Una frase muy conocida en el desarrollo de programas es *garbage in garbage out* para significar que si se entran datos erróneos a un sistema se obtendrán seguramente datos incorrectos.\n",
        "\n",
        "Una forma de minimizar el problema es validar los datos de entrada a la aplicación. El siguiente programa lee un numero entero positivo, validando que sea correcto\n"
      ]
    },
    {
      "cell_type": "code",
      "metadata": {
        "id": "o-nWi_DBYajP"
      },
      "source": [
        "\"\"\" Programa lector enteros#\n",
        "    lee un numero entero positivo válido\n",
        "    Oscar Franco-Bedoya\n",
        "    Mayo 10-2021 \"\"\"\n",
        "\n",
        "def leer_entero_positivo():\n",
        "  \"\"\" \n",
        "  Returns\n",
        "  ------\n",
        "  numero :int\n",
        "    número entero positivo       \n",
        "  \"\"\"     \n",
        "  entero_cadena=\"\"\n",
        "  while not entero_cadena.isdigit(): # la cadena no contiene un entero positrivo\n",
        "    entero_cadena=input(\"Digite un número entero positivo:\")\n",
        "    if entero_cadena.isdigit(): # el numero digitado es válido\n",
        "      return int(entero_cadena)\n",
        "    else:\n",
        "      print(\"Los números enteros positivos solo tienen digitos\" )  \n",
        "\n",
        "  return null \n",
        " \n",
        "#====================================================================\n",
        "#   Algoritmo principal Punto de entrada a la aplicación (Conquistar)\n",
        "# ===================================================================\n",
        "\n",
        "numero=leer_entero_positivo()\n",
        "print(numero)"
      ],
      "execution_count": null,
      "outputs": []
    }
  ]
}